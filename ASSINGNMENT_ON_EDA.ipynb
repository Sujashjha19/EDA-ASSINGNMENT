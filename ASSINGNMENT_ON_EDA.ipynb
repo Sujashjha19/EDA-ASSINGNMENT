{
  "cells": [
    {
      "cell_type": "markdown",
      "metadata": {
        "id": "006aOjyiHUta"
      },
      "source": [
        "# **DATA UNDERSTANDING**"
      ]
    },
    {
      "cell_type": "code",
      "execution_count": 2,
      "metadata": {
        "id": "NcPzBDuLBwFJ"
      },
      "outputs": [],
      "source": [
        "import warnings\n",
        "warnings.filterwarnings('ignore')"
      ]
    },
    {
      "cell_type": "code",
      "execution_count": 3,
      "metadata": {
        "id": "59OEJPt1Cpt0"
      },
      "outputs": [],
      "source": [
        "import pandas as pd\n",
        "import numpy as np\n",
        "import matplotlib.pyplot as plt\n",
        "import seaborn as sns\n",
        "from google.colab import files\n",
        "import io\n",
        "%matplotlib inline\n"
      ]
    },
    {
      "cell_type": "code",
      "execution_count": 5,
      "metadata": {
        "colab": {
          "base_uri": "https://localhost:8080/",
          "height": 74
        },
        "id": "h7Em7eBxvBP2",
        "outputId": "0c2b7bd5-ea2e-42d7-a075-d63931d93e99"
      },
      "outputs": [
        {
          "output_type": "display_data",
          "data": {
            "text/plain": [
              "<IPython.core.display.HTML object>"
            ],
            "text/html": [
              "\n",
              "     <input type=\"file\" id=\"files-34348721-69ad-4518-b366-b7344d3bac6f\" name=\"files[]\" multiple disabled\n",
              "        style=\"border:none\" />\n",
              "     <output id=\"result-34348721-69ad-4518-b366-b7344d3bac6f\">\n",
              "      Upload widget is only available when the cell has been executed in the\n",
              "      current browser session. Please rerun this cell to enable.\n",
              "      </output>\n",
              "      <script>// Copyright 2017 Google LLC\n",
              "//\n",
              "// Licensed under the Apache License, Version 2.0 (the \"License\");\n",
              "// you may not use this file except in compliance with the License.\n",
              "// You may obtain a copy of the License at\n",
              "//\n",
              "//      http://www.apache.org/licenses/LICENSE-2.0\n",
              "//\n",
              "// Unless required by applicable law or agreed to in writing, software\n",
              "// distributed under the License is distributed on an \"AS IS\" BASIS,\n",
              "// WITHOUT WARRANTIES OR CONDITIONS OF ANY KIND, either express or implied.\n",
              "// See the License for the specific language governing permissions and\n",
              "// limitations under the License.\n",
              "\n",
              "/**\n",
              " * @fileoverview Helpers for google.colab Python module.\n",
              " */\n",
              "(function(scope) {\n",
              "function span(text, styleAttributes = {}) {\n",
              "  const element = document.createElement('span');\n",
              "  element.textContent = text;\n",
              "  for (const key of Object.keys(styleAttributes)) {\n",
              "    element.style[key] = styleAttributes[key];\n",
              "  }\n",
              "  return element;\n",
              "}\n",
              "\n",
              "// Max number of bytes which will be uploaded at a time.\n",
              "const MAX_PAYLOAD_SIZE = 100 * 1024;\n",
              "\n",
              "function _uploadFiles(inputId, outputId) {\n",
              "  const steps = uploadFilesStep(inputId, outputId);\n",
              "  const outputElement = document.getElementById(outputId);\n",
              "  // Cache steps on the outputElement to make it available for the next call\n",
              "  // to uploadFilesContinue from Python.\n",
              "  outputElement.steps = steps;\n",
              "\n",
              "  return _uploadFilesContinue(outputId);\n",
              "}\n",
              "\n",
              "// This is roughly an async generator (not supported in the browser yet),\n",
              "// where there are multiple asynchronous steps and the Python side is going\n",
              "// to poll for completion of each step.\n",
              "// This uses a Promise to block the python side on completion of each step,\n",
              "// then passes the result of the previous step as the input to the next step.\n",
              "function _uploadFilesContinue(outputId) {\n",
              "  const outputElement = document.getElementById(outputId);\n",
              "  const steps = outputElement.steps;\n",
              "\n",
              "  const next = steps.next(outputElement.lastPromiseValue);\n",
              "  return Promise.resolve(next.value.promise).then((value) => {\n",
              "    // Cache the last promise value to make it available to the next\n",
              "    // step of the generator.\n",
              "    outputElement.lastPromiseValue = value;\n",
              "    return next.value.response;\n",
              "  });\n",
              "}\n",
              "\n",
              "/**\n",
              " * Generator function which is called between each async step of the upload\n",
              " * process.\n",
              " * @param {string} inputId Element ID of the input file picker element.\n",
              " * @param {string} outputId Element ID of the output display.\n",
              " * @return {!Iterable<!Object>} Iterable of next steps.\n",
              " */\n",
              "function* uploadFilesStep(inputId, outputId) {\n",
              "  const inputElement = document.getElementById(inputId);\n",
              "  inputElement.disabled = false;\n",
              "\n",
              "  const outputElement = document.getElementById(outputId);\n",
              "  outputElement.innerHTML = '';\n",
              "\n",
              "  const pickedPromise = new Promise((resolve) => {\n",
              "    inputElement.addEventListener('change', (e) => {\n",
              "      resolve(e.target.files);\n",
              "    });\n",
              "  });\n",
              "\n",
              "  const cancel = document.createElement('button');\n",
              "  inputElement.parentElement.appendChild(cancel);\n",
              "  cancel.textContent = 'Cancel upload';\n",
              "  const cancelPromise = new Promise((resolve) => {\n",
              "    cancel.onclick = () => {\n",
              "      resolve(null);\n",
              "    };\n",
              "  });\n",
              "\n",
              "  // Wait for the user to pick the files.\n",
              "  const files = yield {\n",
              "    promise: Promise.race([pickedPromise, cancelPromise]),\n",
              "    response: {\n",
              "      action: 'starting',\n",
              "    }\n",
              "  };\n",
              "\n",
              "  cancel.remove();\n",
              "\n",
              "  // Disable the input element since further picks are not allowed.\n",
              "  inputElement.disabled = true;\n",
              "\n",
              "  if (!files) {\n",
              "    return {\n",
              "      response: {\n",
              "        action: 'complete',\n",
              "      }\n",
              "    };\n",
              "  }\n",
              "\n",
              "  for (const file of files) {\n",
              "    const li = document.createElement('li');\n",
              "    li.append(span(file.name, {fontWeight: 'bold'}));\n",
              "    li.append(span(\n",
              "        `(${file.type || 'n/a'}) - ${file.size} bytes, ` +\n",
              "        `last modified: ${\n",
              "            file.lastModifiedDate ? file.lastModifiedDate.toLocaleDateString() :\n",
              "                                    'n/a'} - `));\n",
              "    const percent = span('0% done');\n",
              "    li.appendChild(percent);\n",
              "\n",
              "    outputElement.appendChild(li);\n",
              "\n",
              "    const fileDataPromise = new Promise((resolve) => {\n",
              "      const reader = new FileReader();\n",
              "      reader.onload = (e) => {\n",
              "        resolve(e.target.result);\n",
              "      };\n",
              "      reader.readAsArrayBuffer(file);\n",
              "    });\n",
              "    // Wait for the data to be ready.\n",
              "    let fileData = yield {\n",
              "      promise: fileDataPromise,\n",
              "      response: {\n",
              "        action: 'continue',\n",
              "      }\n",
              "    };\n",
              "\n",
              "    // Use a chunked sending to avoid message size limits. See b/62115660.\n",
              "    let position = 0;\n",
              "    do {\n",
              "      const length = Math.min(fileData.byteLength - position, MAX_PAYLOAD_SIZE);\n",
              "      const chunk = new Uint8Array(fileData, position, length);\n",
              "      position += length;\n",
              "\n",
              "      const base64 = btoa(String.fromCharCode.apply(null, chunk));\n",
              "      yield {\n",
              "        response: {\n",
              "          action: 'append',\n",
              "          file: file.name,\n",
              "          data: base64,\n",
              "        },\n",
              "      };\n",
              "\n",
              "      let percentDone = fileData.byteLength === 0 ?\n",
              "          100 :\n",
              "          Math.round((position / fileData.byteLength) * 100);\n",
              "      percent.textContent = `${percentDone}% done`;\n",
              "\n",
              "    } while (position < fileData.byteLength);\n",
              "  }\n",
              "\n",
              "  // All done.\n",
              "  yield {\n",
              "    response: {\n",
              "      action: 'complete',\n",
              "    }\n",
              "  };\n",
              "}\n",
              "\n",
              "scope.google = scope.google || {};\n",
              "scope.google.colab = scope.google.colab || {};\n",
              "scope.google.colab._files = {\n",
              "  _uploadFiles,\n",
              "  _uploadFilesContinue,\n",
              "};\n",
              "})(self);\n",
              "</script> "
            ]
          },
          "metadata": {}
        },
        {
          "output_type": "stream",
          "name": "stdout",
          "text": [
            "Saving application_data.csv to application_data.csv\n"
          ]
        }
      ],
      "source": [
        "files.upload()"
      ]
    },
    {
      "cell_type": "code",
      "execution_count": 8,
      "metadata": {
        "colab": {
          "base_uri": "https://localhost:8080/",
          "height": 74
        },
        "id": "LjBXzHgj5FIR",
        "outputId": "21deabff-9a0d-4f21-b6a8-0527a3077177"
      },
      "outputs": [
        {
          "output_type": "display_data",
          "data": {
            "text/plain": [
              "<IPython.core.display.HTML object>"
            ],
            "text/html": [
              "\n",
              "     <input type=\"file\" id=\"files-ab89c8ca-26f2-4292-aee8-f715ee4e441f\" name=\"files[]\" multiple disabled\n",
              "        style=\"border:none\" />\n",
              "     <output id=\"result-ab89c8ca-26f2-4292-aee8-f715ee4e441f\">\n",
              "      Upload widget is only available when the cell has been executed in the\n",
              "      current browser session. Please rerun this cell to enable.\n",
              "      </output>\n",
              "      <script>// Copyright 2017 Google LLC\n",
              "//\n",
              "// Licensed under the Apache License, Version 2.0 (the \"License\");\n",
              "// you may not use this file except in compliance with the License.\n",
              "// You may obtain a copy of the License at\n",
              "//\n",
              "//      http://www.apache.org/licenses/LICENSE-2.0\n",
              "//\n",
              "// Unless required by applicable law or agreed to in writing, software\n",
              "// distributed under the License is distributed on an \"AS IS\" BASIS,\n",
              "// WITHOUT WARRANTIES OR CONDITIONS OF ANY KIND, either express or implied.\n",
              "// See the License for the specific language governing permissions and\n",
              "// limitations under the License.\n",
              "\n",
              "/**\n",
              " * @fileoverview Helpers for google.colab Python module.\n",
              " */\n",
              "(function(scope) {\n",
              "function span(text, styleAttributes = {}) {\n",
              "  const element = document.createElement('span');\n",
              "  element.textContent = text;\n",
              "  for (const key of Object.keys(styleAttributes)) {\n",
              "    element.style[key] = styleAttributes[key];\n",
              "  }\n",
              "  return element;\n",
              "}\n",
              "\n",
              "// Max number of bytes which will be uploaded at a time.\n",
              "const MAX_PAYLOAD_SIZE = 100 * 1024;\n",
              "\n",
              "function _uploadFiles(inputId, outputId) {\n",
              "  const steps = uploadFilesStep(inputId, outputId);\n",
              "  const outputElement = document.getElementById(outputId);\n",
              "  // Cache steps on the outputElement to make it available for the next call\n",
              "  // to uploadFilesContinue from Python.\n",
              "  outputElement.steps = steps;\n",
              "\n",
              "  return _uploadFilesContinue(outputId);\n",
              "}\n",
              "\n",
              "// This is roughly an async generator (not supported in the browser yet),\n",
              "// where there are multiple asynchronous steps and the Python side is going\n",
              "// to poll for completion of each step.\n",
              "// This uses a Promise to block the python side on completion of each step,\n",
              "// then passes the result of the previous step as the input to the next step.\n",
              "function _uploadFilesContinue(outputId) {\n",
              "  const outputElement = document.getElementById(outputId);\n",
              "  const steps = outputElement.steps;\n",
              "\n",
              "  const next = steps.next(outputElement.lastPromiseValue);\n",
              "  return Promise.resolve(next.value.promise).then((value) => {\n",
              "    // Cache the last promise value to make it available to the next\n",
              "    // step of the generator.\n",
              "    outputElement.lastPromiseValue = value;\n",
              "    return next.value.response;\n",
              "  });\n",
              "}\n",
              "\n",
              "/**\n",
              " * Generator function which is called between each async step of the upload\n",
              " * process.\n",
              " * @param {string} inputId Element ID of the input file picker element.\n",
              " * @param {string} outputId Element ID of the output display.\n",
              " * @return {!Iterable<!Object>} Iterable of next steps.\n",
              " */\n",
              "function* uploadFilesStep(inputId, outputId) {\n",
              "  const inputElement = document.getElementById(inputId);\n",
              "  inputElement.disabled = false;\n",
              "\n",
              "  const outputElement = document.getElementById(outputId);\n",
              "  outputElement.innerHTML = '';\n",
              "\n",
              "  const pickedPromise = new Promise((resolve) => {\n",
              "    inputElement.addEventListener('change', (e) => {\n",
              "      resolve(e.target.files);\n",
              "    });\n",
              "  });\n",
              "\n",
              "  const cancel = document.createElement('button');\n",
              "  inputElement.parentElement.appendChild(cancel);\n",
              "  cancel.textContent = 'Cancel upload';\n",
              "  const cancelPromise = new Promise((resolve) => {\n",
              "    cancel.onclick = () => {\n",
              "      resolve(null);\n",
              "    };\n",
              "  });\n",
              "\n",
              "  // Wait for the user to pick the files.\n",
              "  const files = yield {\n",
              "    promise: Promise.race([pickedPromise, cancelPromise]),\n",
              "    response: {\n",
              "      action: 'starting',\n",
              "    }\n",
              "  };\n",
              "\n",
              "  cancel.remove();\n",
              "\n",
              "  // Disable the input element since further picks are not allowed.\n",
              "  inputElement.disabled = true;\n",
              "\n",
              "  if (!files) {\n",
              "    return {\n",
              "      response: {\n",
              "        action: 'complete',\n",
              "      }\n",
              "    };\n",
              "  }\n",
              "\n",
              "  for (const file of files) {\n",
              "    const li = document.createElement('li');\n",
              "    li.append(span(file.name, {fontWeight: 'bold'}));\n",
              "    li.append(span(\n",
              "        `(${file.type || 'n/a'}) - ${file.size} bytes, ` +\n",
              "        `last modified: ${\n",
              "            file.lastModifiedDate ? file.lastModifiedDate.toLocaleDateString() :\n",
              "                                    'n/a'} - `));\n",
              "    const percent = span('0% done');\n",
              "    li.appendChild(percent);\n",
              "\n",
              "    outputElement.appendChild(li);\n",
              "\n",
              "    const fileDataPromise = new Promise((resolve) => {\n",
              "      const reader = new FileReader();\n",
              "      reader.onload = (e) => {\n",
              "        resolve(e.target.result);\n",
              "      };\n",
              "      reader.readAsArrayBuffer(file);\n",
              "    });\n",
              "    // Wait for the data to be ready.\n",
              "    let fileData = yield {\n",
              "      promise: fileDataPromise,\n",
              "      response: {\n",
              "        action: 'continue',\n",
              "      }\n",
              "    };\n",
              "\n",
              "    // Use a chunked sending to avoid message size limits. See b/62115660.\n",
              "    let position = 0;\n",
              "    do {\n",
              "      const length = Math.min(fileData.byteLength - position, MAX_PAYLOAD_SIZE);\n",
              "      const chunk = new Uint8Array(fileData, position, length);\n",
              "      position += length;\n",
              "\n",
              "      const base64 = btoa(String.fromCharCode.apply(null, chunk));\n",
              "      yield {\n",
              "        response: {\n",
              "          action: 'append',\n",
              "          file: file.name,\n",
              "          data: base64,\n",
              "        },\n",
              "      };\n",
              "\n",
              "      let percentDone = fileData.byteLength === 0 ?\n",
              "          100 :\n",
              "          Math.round((position / fileData.byteLength) * 100);\n",
              "      percent.textContent = `${percentDone}% done`;\n",
              "\n",
              "    } while (position < fileData.byteLength);\n",
              "  }\n",
              "\n",
              "  // All done.\n",
              "  yield {\n",
              "    response: {\n",
              "      action: 'complete',\n",
              "    }\n",
              "  };\n",
              "}\n",
              "\n",
              "scope.google = scope.google || {};\n",
              "scope.google.colab = scope.google.colab || {};\n",
              "scope.google.colab._files = {\n",
              "  _uploadFiles,\n",
              "  _uploadFilesContinue,\n",
              "};\n",
              "})(self);\n",
              "</script> "
            ]
          },
          "metadata": {}
        },
        {
          "output_type": "stream",
          "name": "stdout",
          "text": [
            "Saving previous_application.csv to previous_application.csv\n"
          ]
        }
      ],
      "source": [
        "files.upload()"
      ]
    },
    {
      "cell_type": "markdown",
      "metadata": {
        "id": "Gz6OERWe8UQi"
      },
      "source": [
        "KEY POINTS\n",
        "\n",
        "1> Firstly we have imported all tool which are going t be used.\n",
        "\n",
        "2> After that csv file is uploaded."
      ]
    },
    {
      "cell_type": "code",
      "execution_count": 6,
      "metadata": {
        "id": "ET-igrCZHIc6"
      },
      "outputs": [],
      "source": [
        "app_data=pd.read_csv('application_data.csv')\n"
      ]
    },
    {
      "cell_type": "code",
      "execution_count": 9,
      "metadata": {
        "id": "qpogFP8eXWL9"
      },
      "outputs": [],
      "source": [
        "pre_app_data=pd.read_csv('previous_application.csv')"
      ]
    },
    {
      "cell_type": "code",
      "execution_count": 10,
      "metadata": {
        "colab": {
          "base_uri": "https://localhost:8080/"
        },
        "id": "tN2jrtUqzpNJ",
        "outputId": "6a3b16c3-b0b2-4162-ded9-51625a5ae19b"
      },
      "outputs": [
        {
          "output_type": "stream",
          "name": "stdout",
          "text": [
            "(307511, 122)\n",
            "(1670214, 37)\n"
          ]
        }
      ],
      "source": [
        "print(app_data.shape)\n",
        "print(pre_app_data.shape)"
      ]
    },
    {
      "cell_type": "markdown",
      "metadata": {
        "id": "lKrnaeNsHwcj"
      },
      "source": [
        "## KEY POINTS \n",
        "\n",
        "* We have two csv files:\n",
        "     \n",
        "     a)\"application_data\"\n",
        "\n",
        "     b)\"previous_application\"\n",
        "\n",
        "* And its shape are (307511,122) and (1670214,37)\n"
      ]
    },
    {
      "cell_type": "markdown",
      "metadata": {
        "id": "7nosqTuiIscm"
      },
      "source": [
        "# **Data Cleaning and Manipulation**"
      ]
    },
    {
      "cell_type": "code",
      "execution_count": 11,
      "metadata": {
        "colab": {
          "base_uri": "https://localhost:8080/"
        },
        "id": "w8yp0WDYXAvk",
        "outputId": "fd277d98-1c4f-4b11-ad1b-e0510554e431"
      },
      "outputs": [
        {
          "output_type": "stream",
          "name": "stdout",
          "text": [
            "<class 'pandas.core.frame.DataFrame'>\n",
            "RangeIndex: 307511 entries, 0 to 307510\n",
            "Columns: 122 entries, SK_ID_CURR to AMT_REQ_CREDIT_BUREAU_YEAR\n",
            "dtypes: float64(65), int64(41), object(16)\n",
            "memory usage: 286.2+ MB\n"
          ]
        }
      ],
      "source": [
        "app_data.info()"
      ]
    },
    {
      "cell_type": "code",
      "execution_count": 12,
      "metadata": {
        "colab": {
          "base_uri": "https://localhost:8080/"
        },
        "id": "o0rf0QdnboHY",
        "outputId": "49101243-f0b5-42cf-98a1-114e0a550834"
      },
      "outputs": [
        {
          "output_type": "stream",
          "name": "stdout",
          "text": [
            "<class 'pandas.core.frame.DataFrame'>\n",
            "RangeIndex: 1670214 entries, 0 to 1670213\n",
            "Data columns (total 37 columns):\n",
            " #   Column                       Non-Null Count    Dtype  \n",
            "---  ------                       --------------    -----  \n",
            " 0   SK_ID_PREV                   1670214 non-null  int64  \n",
            " 1   SK_ID_CURR                   1670214 non-null  int64  \n",
            " 2   NAME_CONTRACT_TYPE           1670214 non-null  object \n",
            " 3   AMT_ANNUITY                  1297979 non-null  float64\n",
            " 4   AMT_APPLICATION              1670214 non-null  float64\n",
            " 5   AMT_CREDIT                   1670213 non-null  float64\n",
            " 6   AMT_DOWN_PAYMENT             774370 non-null   float64\n",
            " 7   AMT_GOODS_PRICE              1284699 non-null  float64\n",
            " 8   WEEKDAY_APPR_PROCESS_START   1670214 non-null  object \n",
            " 9   HOUR_APPR_PROCESS_START      1670214 non-null  int64  \n",
            " 10  FLAG_LAST_APPL_PER_CONTRACT  1670214 non-null  object \n",
            " 11  NFLAG_LAST_APPL_IN_DAY       1670214 non-null  int64  \n",
            " 12  RATE_DOWN_PAYMENT            774370 non-null   float64\n",
            " 13  RATE_INTEREST_PRIMARY        5951 non-null     float64\n",
            " 14  RATE_INTEREST_PRIVILEGED     5951 non-null     float64\n",
            " 15  NAME_CASH_LOAN_PURPOSE       1670214 non-null  object \n",
            " 16  NAME_CONTRACT_STATUS         1670214 non-null  object \n",
            " 17  DAYS_DECISION                1670214 non-null  int64  \n",
            " 18  NAME_PAYMENT_TYPE            1670214 non-null  object \n",
            " 19  CODE_REJECT_REASON           1670214 non-null  object \n",
            " 20  NAME_TYPE_SUITE              849809 non-null   object \n",
            " 21  NAME_CLIENT_TYPE             1670214 non-null  object \n",
            " 22  NAME_GOODS_CATEGORY          1670214 non-null  object \n",
            " 23  NAME_PORTFOLIO               1670214 non-null  object \n",
            " 24  NAME_PRODUCT_TYPE            1670214 non-null  object \n",
            " 25  CHANNEL_TYPE                 1670214 non-null  object \n",
            " 26  SELLERPLACE_AREA             1670214 non-null  int64  \n",
            " 27  NAME_SELLER_INDUSTRY         1670214 non-null  object \n",
            " 28  CNT_PAYMENT                  1297984 non-null  float64\n",
            " 29  NAME_YIELD_GROUP             1670214 non-null  object \n",
            " 30  PRODUCT_COMBINATION          1669868 non-null  object \n",
            " 31  DAYS_FIRST_DRAWING           997149 non-null   float64\n",
            " 32  DAYS_FIRST_DUE               997149 non-null   float64\n",
            " 33  DAYS_LAST_DUE_1ST_VERSION    997149 non-null   float64\n",
            " 34  DAYS_LAST_DUE                997149 non-null   float64\n",
            " 35  DAYS_TERMINATION             997149 non-null   float64\n",
            " 36  NFLAG_INSURED_ON_APPROVAL    997149 non-null   float64\n",
            "dtypes: float64(15), int64(6), object(16)\n",
            "memory usage: 471.5+ MB\n"
          ]
        }
      ],
      "source": [
        "pre_app_data.info()"
      ]
    },
    {
      "cell_type": "markdown",
      "metadata": {
        "id": "SRGDYhMI9ZK-"
      },
      "source": [
        "## Key points\n",
        "\n",
        "* Here we are going to remove the column which have 40% nan values in it.\n",
        "\n",
        "* After that we will do the analysis.\n",
        "\n",
        "* New file is made of name new_app_data"
      ]
    },
    {
      "cell_type": "code",
      "execution_count": 13,
      "metadata": {
        "colab": {
          "base_uri": "https://localhost:8080/"
        },
        "id": "R7LYorAmb_SA",
        "outputId": "820359fe-cafd-479d-fa89-0a59cd8be8be"
      },
      "outputs": [
        {
          "output_type": "stream",
          "name": "stdout",
          "text": [
            "        SK_ID_CURR  TARGET NAME_CONTRACT_TYPE CODE_GENDER FLAG_OWN_CAR  \\\n",
            "0           100002       1         Cash loans           M            N   \n",
            "1           100003       0         Cash loans           F            N   \n",
            "2           100004       0    Revolving loans           M            Y   \n",
            "3           100006       0         Cash loans           F            N   \n",
            "4           100007       0         Cash loans           M            N   \n",
            "...            ...     ...                ...         ...          ...   \n",
            "307506      456251       0         Cash loans           M            N   \n",
            "307507      456252       0         Cash loans           F            N   \n",
            "307508      456253       0         Cash loans           F            N   \n",
            "307509      456254       1         Cash loans           F            N   \n",
            "307510      456255       0         Cash loans           F            N   \n",
            "\n",
            "       FLAG_OWN_REALTY  CNT_CHILDREN  AMT_INCOME_TOTAL  AMT_CREDIT  \\\n",
            "0                    Y             0          202500.0    406597.5   \n",
            "1                    N             0          270000.0   1293502.5   \n",
            "2                    Y             0           67500.0    135000.0   \n",
            "3                    Y             0          135000.0    312682.5   \n",
            "4                    Y             0          121500.0    513000.0   \n",
            "...                ...           ...               ...         ...   \n",
            "307506               N             0          157500.0    254700.0   \n",
            "307507               Y             0           72000.0    269550.0   \n",
            "307508               Y             0          153000.0    677664.0   \n",
            "307509               Y             0          171000.0    370107.0   \n",
            "307510               N             0          157500.0    675000.0   \n",
            "\n",
            "        AMT_ANNUITY  ...  FLAG_DOCUMENT_18 FLAG_DOCUMENT_19 FLAG_DOCUMENT_20  \\\n",
            "0           24700.5  ...                 0                0                0   \n",
            "1           35698.5  ...                 0                0                0   \n",
            "2            6750.0  ...                 0                0                0   \n",
            "3           29686.5  ...                 0                0                0   \n",
            "4           21865.5  ...                 0                0                0   \n",
            "...             ...  ...               ...              ...              ...   \n",
            "307506      27558.0  ...                 0                0                0   \n",
            "307507      12001.5  ...                 0                0                0   \n",
            "307508      29979.0  ...                 0                0                0   \n",
            "307509      20205.0  ...                 0                0                0   \n",
            "307510      49117.5  ...                 0                0                0   \n",
            "\n",
            "       FLAG_DOCUMENT_21 AMT_REQ_CREDIT_BUREAU_HOUR AMT_REQ_CREDIT_BUREAU_DAY  \\\n",
            "0                     0                        0.0                       0.0   \n",
            "1                     0                        0.0                       0.0   \n",
            "2                     0                        0.0                       0.0   \n",
            "3                     0                        NaN                       NaN   \n",
            "4                     0                        0.0                       0.0   \n",
            "...                 ...                        ...                       ...   \n",
            "307506                0                        NaN                       NaN   \n",
            "307507                0                        NaN                       NaN   \n",
            "307508                0                        1.0                       0.0   \n",
            "307509                0                        0.0                       0.0   \n",
            "307510                0                        0.0                       0.0   \n",
            "\n",
            "        AMT_REQ_CREDIT_BUREAU_WEEK  AMT_REQ_CREDIT_BUREAU_MON  \\\n",
            "0                              0.0                        0.0   \n",
            "1                              0.0                        0.0   \n",
            "2                              0.0                        0.0   \n",
            "3                              NaN                        NaN   \n",
            "4                              0.0                        0.0   \n",
            "...                            ...                        ...   \n",
            "307506                         NaN                        NaN   \n",
            "307507                         NaN                        NaN   \n",
            "307508                         0.0                        1.0   \n",
            "307509                         0.0                        0.0   \n",
            "307510                         0.0                        2.0   \n",
            "\n",
            "        AMT_REQ_CREDIT_BUREAU_QRT  AMT_REQ_CREDIT_BUREAU_YEAR  \n",
            "0                             0.0                         1.0  \n",
            "1                             0.0                         0.0  \n",
            "2                             0.0                         0.0  \n",
            "3                             NaN                         NaN  \n",
            "4                             0.0                         0.0  \n",
            "...                           ...                         ...  \n",
            "307506                        NaN                         NaN  \n",
            "307507                        NaN                         NaN  \n",
            "307508                        0.0                         1.0  \n",
            "307509                        0.0                         0.0  \n",
            "307510                        0.0                         1.0  \n",
            "\n",
            "[307511 rows x 73 columns]\n"
          ]
        }
      ],
      "source": [
        "perc=40.0\n",
        "min_count =  int(((100-perc)/100)*app_data.shape[0] + 1)\n",
        "new_app_data = app_data.dropna( axis=1, \n",
        "                thresh=min_count)\n",
        "print(new_app_data)"
      ]
    },
    {
      "cell_type": "code",
      "execution_count": 14,
      "metadata": {
        "colab": {
          "base_uri": "https://localhost:8080/",
          "height": 299
        },
        "id": "EFSCk0H-dUQx",
        "outputId": "7de4f1af-0a05-4f7d-bc6f-b04b2ffb2780"
      },
      "outputs": [
        {
          "output_type": "execute_result",
          "data": {
            "text/plain": [
              "   SK_ID_CURR  TARGET NAME_CONTRACT_TYPE CODE_GENDER FLAG_OWN_CAR  \\\n",
              "0      100002       1         Cash loans           M            N   \n",
              "1      100003       0         Cash loans           F            N   \n",
              "2      100004       0    Revolving loans           M            Y   \n",
              "3      100006       0         Cash loans           F            N   \n",
              "4      100007       0         Cash loans           M            N   \n",
              "\n",
              "  FLAG_OWN_REALTY  CNT_CHILDREN  AMT_INCOME_TOTAL  AMT_CREDIT  AMT_ANNUITY  \\\n",
              "0               Y             0          202500.0    406597.5      24700.5   \n",
              "1               N             0          270000.0   1293502.5      35698.5   \n",
              "2               Y             0           67500.0    135000.0       6750.0   \n",
              "3               Y             0          135000.0    312682.5      29686.5   \n",
              "4               Y             0          121500.0    513000.0      21865.5   \n",
              "\n",
              "   ...  FLAG_DOCUMENT_18 FLAG_DOCUMENT_19 FLAG_DOCUMENT_20 FLAG_DOCUMENT_21  \\\n",
              "0  ...                 0                0                0                0   \n",
              "1  ...                 0                0                0                0   \n",
              "2  ...                 0                0                0                0   \n",
              "3  ...                 0                0                0                0   \n",
              "4  ...                 0                0                0                0   \n",
              "\n",
              "  AMT_REQ_CREDIT_BUREAU_HOUR AMT_REQ_CREDIT_BUREAU_DAY  \\\n",
              "0                        0.0                       0.0   \n",
              "1                        0.0                       0.0   \n",
              "2                        0.0                       0.0   \n",
              "3                        NaN                       NaN   \n",
              "4                        0.0                       0.0   \n",
              "\n",
              "   AMT_REQ_CREDIT_BUREAU_WEEK  AMT_REQ_CREDIT_BUREAU_MON  \\\n",
              "0                         0.0                        0.0   \n",
              "1                         0.0                        0.0   \n",
              "2                         0.0                        0.0   \n",
              "3                         NaN                        NaN   \n",
              "4                         0.0                        0.0   \n",
              "\n",
              "   AMT_REQ_CREDIT_BUREAU_QRT  AMT_REQ_CREDIT_BUREAU_YEAR  \n",
              "0                        0.0                         1.0  \n",
              "1                        0.0                         0.0  \n",
              "2                        0.0                         0.0  \n",
              "3                        NaN                         NaN  \n",
              "4                        0.0                         0.0  \n",
              "\n",
              "[5 rows x 73 columns]"
            ],
            "text/html": [
              "\n",
              "  <div id=\"df-492053d2-916c-4628-9f49-b73604953c3c\">\n",
              "    <div class=\"colab-df-container\">\n",
              "      <div>\n",
              "<style scoped>\n",
              "    .dataframe tbody tr th:only-of-type {\n",
              "        vertical-align: middle;\n",
              "    }\n",
              "\n",
              "    .dataframe tbody tr th {\n",
              "        vertical-align: top;\n",
              "    }\n",
              "\n",
              "    .dataframe thead th {\n",
              "        text-align: right;\n",
              "    }\n",
              "</style>\n",
              "<table border=\"1\" class=\"dataframe\">\n",
              "  <thead>\n",
              "    <tr style=\"text-align: right;\">\n",
              "      <th></th>\n",
              "      <th>SK_ID_CURR</th>\n",
              "      <th>TARGET</th>\n",
              "      <th>NAME_CONTRACT_TYPE</th>\n",
              "      <th>CODE_GENDER</th>\n",
              "      <th>FLAG_OWN_CAR</th>\n",
              "      <th>FLAG_OWN_REALTY</th>\n",
              "      <th>CNT_CHILDREN</th>\n",
              "      <th>AMT_INCOME_TOTAL</th>\n",
              "      <th>AMT_CREDIT</th>\n",
              "      <th>AMT_ANNUITY</th>\n",
              "      <th>...</th>\n",
              "      <th>FLAG_DOCUMENT_18</th>\n",
              "      <th>FLAG_DOCUMENT_19</th>\n",
              "      <th>FLAG_DOCUMENT_20</th>\n",
              "      <th>FLAG_DOCUMENT_21</th>\n",
              "      <th>AMT_REQ_CREDIT_BUREAU_HOUR</th>\n",
              "      <th>AMT_REQ_CREDIT_BUREAU_DAY</th>\n",
              "      <th>AMT_REQ_CREDIT_BUREAU_WEEK</th>\n",
              "      <th>AMT_REQ_CREDIT_BUREAU_MON</th>\n",
              "      <th>AMT_REQ_CREDIT_BUREAU_QRT</th>\n",
              "      <th>AMT_REQ_CREDIT_BUREAU_YEAR</th>\n",
              "    </tr>\n",
              "  </thead>\n",
              "  <tbody>\n",
              "    <tr>\n",
              "      <th>0</th>\n",
              "      <td>100002</td>\n",
              "      <td>1</td>\n",
              "      <td>Cash loans</td>\n",
              "      <td>M</td>\n",
              "      <td>N</td>\n",
              "      <td>Y</td>\n",
              "      <td>0</td>\n",
              "      <td>202500.0</td>\n",
              "      <td>406597.5</td>\n",
              "      <td>24700.5</td>\n",
              "      <td>...</td>\n",
              "      <td>0</td>\n",
              "      <td>0</td>\n",
              "      <td>0</td>\n",
              "      <td>0</td>\n",
              "      <td>0.0</td>\n",
              "      <td>0.0</td>\n",
              "      <td>0.0</td>\n",
              "      <td>0.0</td>\n",
              "      <td>0.0</td>\n",
              "      <td>1.0</td>\n",
              "    </tr>\n",
              "    <tr>\n",
              "      <th>1</th>\n",
              "      <td>100003</td>\n",
              "      <td>0</td>\n",
              "      <td>Cash loans</td>\n",
              "      <td>F</td>\n",
              "      <td>N</td>\n",
              "      <td>N</td>\n",
              "      <td>0</td>\n",
              "      <td>270000.0</td>\n",
              "      <td>1293502.5</td>\n",
              "      <td>35698.5</td>\n",
              "      <td>...</td>\n",
              "      <td>0</td>\n",
              "      <td>0</td>\n",
              "      <td>0</td>\n",
              "      <td>0</td>\n",
              "      <td>0.0</td>\n",
              "      <td>0.0</td>\n",
              "      <td>0.0</td>\n",
              "      <td>0.0</td>\n",
              "      <td>0.0</td>\n",
              "      <td>0.0</td>\n",
              "    </tr>\n",
              "    <tr>\n",
              "      <th>2</th>\n",
              "      <td>100004</td>\n",
              "      <td>0</td>\n",
              "      <td>Revolving loans</td>\n",
              "      <td>M</td>\n",
              "      <td>Y</td>\n",
              "      <td>Y</td>\n",
              "      <td>0</td>\n",
              "      <td>67500.0</td>\n",
              "      <td>135000.0</td>\n",
              "      <td>6750.0</td>\n",
              "      <td>...</td>\n",
              "      <td>0</td>\n",
              "      <td>0</td>\n",
              "      <td>0</td>\n",
              "      <td>0</td>\n",
              "      <td>0.0</td>\n",
              "      <td>0.0</td>\n",
              "      <td>0.0</td>\n",
              "      <td>0.0</td>\n",
              "      <td>0.0</td>\n",
              "      <td>0.0</td>\n",
              "    </tr>\n",
              "    <tr>\n",
              "      <th>3</th>\n",
              "      <td>100006</td>\n",
              "      <td>0</td>\n",
              "      <td>Cash loans</td>\n",
              "      <td>F</td>\n",
              "      <td>N</td>\n",
              "      <td>Y</td>\n",
              "      <td>0</td>\n",
              "      <td>135000.0</td>\n",
              "      <td>312682.5</td>\n",
              "      <td>29686.5</td>\n",
              "      <td>...</td>\n",
              "      <td>0</td>\n",
              "      <td>0</td>\n",
              "      <td>0</td>\n",
              "      <td>0</td>\n",
              "      <td>NaN</td>\n",
              "      <td>NaN</td>\n",
              "      <td>NaN</td>\n",
              "      <td>NaN</td>\n",
              "      <td>NaN</td>\n",
              "      <td>NaN</td>\n",
              "    </tr>\n",
              "    <tr>\n",
              "      <th>4</th>\n",
              "      <td>100007</td>\n",
              "      <td>0</td>\n",
              "      <td>Cash loans</td>\n",
              "      <td>M</td>\n",
              "      <td>N</td>\n",
              "      <td>Y</td>\n",
              "      <td>0</td>\n",
              "      <td>121500.0</td>\n",
              "      <td>513000.0</td>\n",
              "      <td>21865.5</td>\n",
              "      <td>...</td>\n",
              "      <td>0</td>\n",
              "      <td>0</td>\n",
              "      <td>0</td>\n",
              "      <td>0</td>\n",
              "      <td>0.0</td>\n",
              "      <td>0.0</td>\n",
              "      <td>0.0</td>\n",
              "      <td>0.0</td>\n",
              "      <td>0.0</td>\n",
              "      <td>0.0</td>\n",
              "    </tr>\n",
              "  </tbody>\n",
              "</table>\n",
              "<p>5 rows × 73 columns</p>\n",
              "</div>\n",
              "      <button class=\"colab-df-convert\" onclick=\"convertToInteractive('df-492053d2-916c-4628-9f49-b73604953c3c')\"\n",
              "              title=\"Convert this dataframe to an interactive table.\"\n",
              "              style=\"display:none;\">\n",
              "        \n",
              "  <svg xmlns=\"http://www.w3.org/2000/svg\" height=\"24px\"viewBox=\"0 0 24 24\"\n",
              "       width=\"24px\">\n",
              "    <path d=\"M0 0h24v24H0V0z\" fill=\"none\"/>\n",
              "    <path d=\"M18.56 5.44l.94 2.06.94-2.06 2.06-.94-2.06-.94-.94-2.06-.94 2.06-2.06.94zm-11 1L8.5 8.5l.94-2.06 2.06-.94-2.06-.94L8.5 2.5l-.94 2.06-2.06.94zm10 10l.94 2.06.94-2.06 2.06-.94-2.06-.94-.94-2.06-.94 2.06-2.06.94z\"/><path d=\"M17.41 7.96l-1.37-1.37c-.4-.4-.92-.59-1.43-.59-.52 0-1.04.2-1.43.59L10.3 9.45l-7.72 7.72c-.78.78-.78 2.05 0 2.83L4 21.41c.39.39.9.59 1.41.59.51 0 1.02-.2 1.41-.59l7.78-7.78 2.81-2.81c.8-.78.8-2.07 0-2.86zM5.41 20L4 18.59l7.72-7.72 1.47 1.35L5.41 20z\"/>\n",
              "  </svg>\n",
              "      </button>\n",
              "      \n",
              "  <style>\n",
              "    .colab-df-container {\n",
              "      display:flex;\n",
              "      flex-wrap:wrap;\n",
              "      gap: 12px;\n",
              "    }\n",
              "\n",
              "    .colab-df-convert {\n",
              "      background-color: #E8F0FE;\n",
              "      border: none;\n",
              "      border-radius: 50%;\n",
              "      cursor: pointer;\n",
              "      display: none;\n",
              "      fill: #1967D2;\n",
              "      height: 32px;\n",
              "      padding: 0 0 0 0;\n",
              "      width: 32px;\n",
              "    }\n",
              "\n",
              "    .colab-df-convert:hover {\n",
              "      background-color: #E2EBFA;\n",
              "      box-shadow: 0px 1px 2px rgba(60, 64, 67, 0.3), 0px 1px 3px 1px rgba(60, 64, 67, 0.15);\n",
              "      fill: #174EA6;\n",
              "    }\n",
              "\n",
              "    [theme=dark] .colab-df-convert {\n",
              "      background-color: #3B4455;\n",
              "      fill: #D2E3FC;\n",
              "    }\n",
              "\n",
              "    [theme=dark] .colab-df-convert:hover {\n",
              "      background-color: #434B5C;\n",
              "      box-shadow: 0px 1px 3px 1px rgba(0, 0, 0, 0.15);\n",
              "      filter: drop-shadow(0px 1px 2px rgba(0, 0, 0, 0.3));\n",
              "      fill: #FFFFFF;\n",
              "    }\n",
              "  </style>\n",
              "\n",
              "      <script>\n",
              "        const buttonEl =\n",
              "          document.querySelector('#df-492053d2-916c-4628-9f49-b73604953c3c button.colab-df-convert');\n",
              "        buttonEl.style.display =\n",
              "          google.colab.kernel.accessAllowed ? 'block' : 'none';\n",
              "\n",
              "        async function convertToInteractive(key) {\n",
              "          const element = document.querySelector('#df-492053d2-916c-4628-9f49-b73604953c3c');\n",
              "          const dataTable =\n",
              "            await google.colab.kernel.invokeFunction('convertToInteractive',\n",
              "                                                     [key], {});\n",
              "          if (!dataTable) return;\n",
              "\n",
              "          const docLinkHtml = 'Like what you see? Visit the ' +\n",
              "            '<a target=\"_blank\" href=https://colab.research.google.com/notebooks/data_table.ipynb>data table notebook</a>'\n",
              "            + ' to learn more about interactive tables.';\n",
              "          element.innerHTML = '';\n",
              "          dataTable['output_type'] = 'display_data';\n",
              "          await google.colab.output.renderOutput(dataTable, element);\n",
              "          const docLink = document.createElement('div');\n",
              "          docLink.innerHTML = docLinkHtml;\n",
              "          element.appendChild(docLink);\n",
              "        }\n",
              "      </script>\n",
              "    </div>\n",
              "  </div>\n",
              "  "
            ]
          },
          "metadata": {},
          "execution_count": 14
        }
      ],
      "source": [
        "new_app_data.head()"
      ]
    },
    {
      "cell_type": "code",
      "execution_count": 15,
      "metadata": {
        "colab": {
          "base_uri": "https://localhost:8080/"
        },
        "id": "SgOVdlj5hK77",
        "outputId": "1220731b-f9f1-4a7e-836a-d50a10c147ac"
      },
      "outputs": [
        {
          "output_type": "stream",
          "name": "stdout",
          "text": [
            "<class 'pandas.core.frame.DataFrame'>\n",
            "RangeIndex: 307511 entries, 0 to 307510\n",
            "Data columns (total 73 columns):\n",
            " #   Column                       Non-Null Count   Dtype  \n",
            "---  ------                       --------------   -----  \n",
            " 0   SK_ID_CURR                   307511 non-null  int64  \n",
            " 1   TARGET                       307511 non-null  int64  \n",
            " 2   NAME_CONTRACT_TYPE           307511 non-null  object \n",
            " 3   CODE_GENDER                  307511 non-null  object \n",
            " 4   FLAG_OWN_CAR                 307511 non-null  object \n",
            " 5   FLAG_OWN_REALTY              307511 non-null  object \n",
            " 6   CNT_CHILDREN                 307511 non-null  int64  \n",
            " 7   AMT_INCOME_TOTAL             307511 non-null  float64\n",
            " 8   AMT_CREDIT                   307511 non-null  float64\n",
            " 9   AMT_ANNUITY                  307499 non-null  float64\n",
            " 10  AMT_GOODS_PRICE              307233 non-null  float64\n",
            " 11  NAME_TYPE_SUITE              306219 non-null  object \n",
            " 12  NAME_INCOME_TYPE             307511 non-null  object \n",
            " 13  NAME_EDUCATION_TYPE          307511 non-null  object \n",
            " 14  NAME_FAMILY_STATUS           307511 non-null  object \n",
            " 15  NAME_HOUSING_TYPE            307511 non-null  object \n",
            " 16  REGION_POPULATION_RELATIVE   307511 non-null  float64\n",
            " 17  DAYS_BIRTH                   307511 non-null  int64  \n",
            " 18  DAYS_EMPLOYED                307511 non-null  int64  \n",
            " 19  DAYS_REGISTRATION            307511 non-null  float64\n",
            " 20  DAYS_ID_PUBLISH              307511 non-null  int64  \n",
            " 21  FLAG_MOBIL                   307511 non-null  int64  \n",
            " 22  FLAG_EMP_PHONE               307511 non-null  int64  \n",
            " 23  FLAG_WORK_PHONE              307511 non-null  int64  \n",
            " 24  FLAG_CONT_MOBILE             307511 non-null  int64  \n",
            " 25  FLAG_PHONE                   307511 non-null  int64  \n",
            " 26  FLAG_EMAIL                   307511 non-null  int64  \n",
            " 27  OCCUPATION_TYPE              211120 non-null  object \n",
            " 28  CNT_FAM_MEMBERS              307509 non-null  float64\n",
            " 29  REGION_RATING_CLIENT         307511 non-null  int64  \n",
            " 30  REGION_RATING_CLIENT_W_CITY  307511 non-null  int64  \n",
            " 31  WEEKDAY_APPR_PROCESS_START   307511 non-null  object \n",
            " 32  HOUR_APPR_PROCESS_START      307511 non-null  int64  \n",
            " 33  REG_REGION_NOT_LIVE_REGION   307511 non-null  int64  \n",
            " 34  REG_REGION_NOT_WORK_REGION   307511 non-null  int64  \n",
            " 35  LIVE_REGION_NOT_WORK_REGION  307511 non-null  int64  \n",
            " 36  REG_CITY_NOT_LIVE_CITY       307511 non-null  int64  \n",
            " 37  REG_CITY_NOT_WORK_CITY       307511 non-null  int64  \n",
            " 38  LIVE_CITY_NOT_WORK_CITY      307511 non-null  int64  \n",
            " 39  ORGANIZATION_TYPE            307511 non-null  object \n",
            " 40  EXT_SOURCE_2                 306851 non-null  float64\n",
            " 41  EXT_SOURCE_3                 246546 non-null  float64\n",
            " 42  OBS_30_CNT_SOCIAL_CIRCLE     306490 non-null  float64\n",
            " 43  DEF_30_CNT_SOCIAL_CIRCLE     306490 non-null  float64\n",
            " 44  OBS_60_CNT_SOCIAL_CIRCLE     306490 non-null  float64\n",
            " 45  DEF_60_CNT_SOCIAL_CIRCLE     306490 non-null  float64\n",
            " 46  DAYS_LAST_PHONE_CHANGE       307510 non-null  float64\n",
            " 47  FLAG_DOCUMENT_2              307511 non-null  int64  \n",
            " 48  FLAG_DOCUMENT_3              307511 non-null  int64  \n",
            " 49  FLAG_DOCUMENT_4              307511 non-null  int64  \n",
            " 50  FLAG_DOCUMENT_5              307511 non-null  int64  \n",
            " 51  FLAG_DOCUMENT_6              307511 non-null  int64  \n",
            " 52  FLAG_DOCUMENT_7              307511 non-null  int64  \n",
            " 53  FLAG_DOCUMENT_8              307511 non-null  int64  \n",
            " 54  FLAG_DOCUMENT_9              307511 non-null  int64  \n",
            " 55  FLAG_DOCUMENT_10             307511 non-null  int64  \n",
            " 56  FLAG_DOCUMENT_11             307511 non-null  int64  \n",
            " 57  FLAG_DOCUMENT_12             307511 non-null  int64  \n",
            " 58  FLAG_DOCUMENT_13             307511 non-null  int64  \n",
            " 59  FLAG_DOCUMENT_14             307511 non-null  int64  \n",
            " 60  FLAG_DOCUMENT_15             307511 non-null  int64  \n",
            " 61  FLAG_DOCUMENT_16             307511 non-null  int64  \n",
            " 62  FLAG_DOCUMENT_17             307511 non-null  int64  \n",
            " 63  FLAG_DOCUMENT_18             307511 non-null  int64  \n",
            " 64  FLAG_DOCUMENT_19             307511 non-null  int64  \n",
            " 65  FLAG_DOCUMENT_20             307511 non-null  int64  \n",
            " 66  FLAG_DOCUMENT_21             307511 non-null  int64  \n",
            " 67  AMT_REQ_CREDIT_BUREAU_HOUR   265992 non-null  float64\n",
            " 68  AMT_REQ_CREDIT_BUREAU_DAY    265992 non-null  float64\n",
            " 69  AMT_REQ_CREDIT_BUREAU_WEEK   265992 non-null  float64\n",
            " 70  AMT_REQ_CREDIT_BUREAU_MON    265992 non-null  float64\n",
            " 71  AMT_REQ_CREDIT_BUREAU_QRT    265992 non-null  float64\n",
            " 72  AMT_REQ_CREDIT_BUREAU_YEAR   265992 non-null  float64\n",
            "dtypes: float64(20), int64(41), object(12)\n",
            "memory usage: 171.3+ MB\n"
          ]
        }
      ],
      "source": [
        "new_app_data.info()"
      ]
    },
    {
      "cell_type": "code",
      "execution_count": 16,
      "metadata": {
        "colab": {
          "base_uri": "https://localhost:8080/",
          "height": 394
        },
        "id": "86mObDMkF5yS",
        "outputId": "a1b3cade-6d1e-4da0-eb31-217f4443160a"
      },
      "outputs": [
        {
          "output_type": "execute_result",
          "data": {
            "text/plain": [
              "          SK_ID_CURR         TARGET   CNT_CHILDREN  AMT_INCOME_TOTAL  \\\n",
              "count  307511.000000  307511.000000  307511.000000      3.075110e+05   \n",
              "mean   278180.518577       0.080729       0.417052      1.687979e+05   \n",
              "std    102790.175348       0.272419       0.722121      2.371231e+05   \n",
              "min    100002.000000       0.000000       0.000000      2.565000e+04   \n",
              "25%    189145.500000       0.000000       0.000000      1.125000e+05   \n",
              "50%    278202.000000       0.000000       0.000000      1.471500e+05   \n",
              "75%    367142.500000       0.000000       1.000000      2.025000e+05   \n",
              "max    456255.000000       1.000000      19.000000      1.170000e+08   \n",
              "\n",
              "         AMT_CREDIT    AMT_ANNUITY  AMT_GOODS_PRICE  \\\n",
              "count  3.075110e+05  307499.000000     3.072330e+05   \n",
              "mean   5.990260e+05   27108.573909     5.383962e+05   \n",
              "std    4.024908e+05   14493.737315     3.694465e+05   \n",
              "min    4.500000e+04    1615.500000     4.050000e+04   \n",
              "25%    2.700000e+05   16524.000000     2.385000e+05   \n",
              "50%    5.135310e+05   24903.000000     4.500000e+05   \n",
              "75%    8.086500e+05   34596.000000     6.795000e+05   \n",
              "max    4.050000e+06  258025.500000     4.050000e+06   \n",
              "\n",
              "       REGION_POPULATION_RELATIVE     DAYS_BIRTH  DAYS_EMPLOYED  ...  \\\n",
              "count               307511.000000  307511.000000  307511.000000  ...   \n",
              "mean                     0.020868  -16036.995067   63815.045904  ...   \n",
              "std                      0.013831    4363.988632  141275.766519  ...   \n",
              "min                      0.000290  -25229.000000  -17912.000000  ...   \n",
              "25%                      0.010006  -19682.000000   -2760.000000  ...   \n",
              "50%                      0.018850  -15750.000000   -1213.000000  ...   \n",
              "75%                      0.028663  -12413.000000    -289.000000  ...   \n",
              "max                      0.072508   -7489.000000  365243.000000  ...   \n",
              "\n",
              "       FLAG_DOCUMENT_18  FLAG_DOCUMENT_19  FLAG_DOCUMENT_20  FLAG_DOCUMENT_21  \\\n",
              "count     307511.000000     307511.000000     307511.000000     307511.000000   \n",
              "mean           0.008130          0.000595          0.000507          0.000335   \n",
              "std            0.089798          0.024387          0.022518          0.018299   \n",
              "min            0.000000          0.000000          0.000000          0.000000   \n",
              "25%            0.000000          0.000000          0.000000          0.000000   \n",
              "50%            0.000000          0.000000          0.000000          0.000000   \n",
              "75%            0.000000          0.000000          0.000000          0.000000   \n",
              "max            1.000000          1.000000          1.000000          1.000000   \n",
              "\n",
              "       AMT_REQ_CREDIT_BUREAU_HOUR  AMT_REQ_CREDIT_BUREAU_DAY  \\\n",
              "count               265992.000000              265992.000000   \n",
              "mean                     0.006402                   0.007000   \n",
              "std                      0.083849                   0.110757   \n",
              "min                      0.000000                   0.000000   \n",
              "25%                      0.000000                   0.000000   \n",
              "50%                      0.000000                   0.000000   \n",
              "75%                      0.000000                   0.000000   \n",
              "max                      4.000000                   9.000000   \n",
              "\n",
              "       AMT_REQ_CREDIT_BUREAU_WEEK  AMT_REQ_CREDIT_BUREAU_MON  \\\n",
              "count               265992.000000              265992.000000   \n",
              "mean                     0.034362                   0.267395   \n",
              "std                      0.204685                   0.916002   \n",
              "min                      0.000000                   0.000000   \n",
              "25%                      0.000000                   0.000000   \n",
              "50%                      0.000000                   0.000000   \n",
              "75%                      0.000000                   0.000000   \n",
              "max                      8.000000                  27.000000   \n",
              "\n",
              "       AMT_REQ_CREDIT_BUREAU_QRT  AMT_REQ_CREDIT_BUREAU_YEAR  \n",
              "count              265992.000000               265992.000000  \n",
              "mean                    0.265474                    1.899974  \n",
              "std                     0.794056                    1.869295  \n",
              "min                     0.000000                    0.000000  \n",
              "25%                     0.000000                    0.000000  \n",
              "50%                     0.000000                    1.000000  \n",
              "75%                     0.000000                    3.000000  \n",
              "max                   261.000000                   25.000000  \n",
              "\n",
              "[8 rows x 61 columns]"
            ],
            "text/html": [
              "\n",
              "  <div id=\"df-442dc5fd-731b-44d0-9792-f16385530fbc\">\n",
              "    <div class=\"colab-df-container\">\n",
              "      <div>\n",
              "<style scoped>\n",
              "    .dataframe tbody tr th:only-of-type {\n",
              "        vertical-align: middle;\n",
              "    }\n",
              "\n",
              "    .dataframe tbody tr th {\n",
              "        vertical-align: top;\n",
              "    }\n",
              "\n",
              "    .dataframe thead th {\n",
              "        text-align: right;\n",
              "    }\n",
              "</style>\n",
              "<table border=\"1\" class=\"dataframe\">\n",
              "  <thead>\n",
              "    <tr style=\"text-align: right;\">\n",
              "      <th></th>\n",
              "      <th>SK_ID_CURR</th>\n",
              "      <th>TARGET</th>\n",
              "      <th>CNT_CHILDREN</th>\n",
              "      <th>AMT_INCOME_TOTAL</th>\n",
              "      <th>AMT_CREDIT</th>\n",
              "      <th>AMT_ANNUITY</th>\n",
              "      <th>AMT_GOODS_PRICE</th>\n",
              "      <th>REGION_POPULATION_RELATIVE</th>\n",
              "      <th>DAYS_BIRTH</th>\n",
              "      <th>DAYS_EMPLOYED</th>\n",
              "      <th>...</th>\n",
              "      <th>FLAG_DOCUMENT_18</th>\n",
              "      <th>FLAG_DOCUMENT_19</th>\n",
              "      <th>FLAG_DOCUMENT_20</th>\n",
              "      <th>FLAG_DOCUMENT_21</th>\n",
              "      <th>AMT_REQ_CREDIT_BUREAU_HOUR</th>\n",
              "      <th>AMT_REQ_CREDIT_BUREAU_DAY</th>\n",
              "      <th>AMT_REQ_CREDIT_BUREAU_WEEK</th>\n",
              "      <th>AMT_REQ_CREDIT_BUREAU_MON</th>\n",
              "      <th>AMT_REQ_CREDIT_BUREAU_QRT</th>\n",
              "      <th>AMT_REQ_CREDIT_BUREAU_YEAR</th>\n",
              "    </tr>\n",
              "  </thead>\n",
              "  <tbody>\n",
              "    <tr>\n",
              "      <th>count</th>\n",
              "      <td>307511.000000</td>\n",
              "      <td>307511.000000</td>\n",
              "      <td>307511.000000</td>\n",
              "      <td>3.075110e+05</td>\n",
              "      <td>3.075110e+05</td>\n",
              "      <td>307499.000000</td>\n",
              "      <td>3.072330e+05</td>\n",
              "      <td>307511.000000</td>\n",
              "      <td>307511.000000</td>\n",
              "      <td>307511.000000</td>\n",
              "      <td>...</td>\n",
              "      <td>307511.000000</td>\n",
              "      <td>307511.000000</td>\n",
              "      <td>307511.000000</td>\n",
              "      <td>307511.000000</td>\n",
              "      <td>265992.000000</td>\n",
              "      <td>265992.000000</td>\n",
              "      <td>265992.000000</td>\n",
              "      <td>265992.000000</td>\n",
              "      <td>265992.000000</td>\n",
              "      <td>265992.000000</td>\n",
              "    </tr>\n",
              "    <tr>\n",
              "      <th>mean</th>\n",
              "      <td>278180.518577</td>\n",
              "      <td>0.080729</td>\n",
              "      <td>0.417052</td>\n",
              "      <td>1.687979e+05</td>\n",
              "      <td>5.990260e+05</td>\n",
              "      <td>27108.573909</td>\n",
              "      <td>5.383962e+05</td>\n",
              "      <td>0.020868</td>\n",
              "      <td>-16036.995067</td>\n",
              "      <td>63815.045904</td>\n",
              "      <td>...</td>\n",
              "      <td>0.008130</td>\n",
              "      <td>0.000595</td>\n",
              "      <td>0.000507</td>\n",
              "      <td>0.000335</td>\n",
              "      <td>0.006402</td>\n",
              "      <td>0.007000</td>\n",
              "      <td>0.034362</td>\n",
              "      <td>0.267395</td>\n",
              "      <td>0.265474</td>\n",
              "      <td>1.899974</td>\n",
              "    </tr>\n",
              "    <tr>\n",
              "      <th>std</th>\n",
              "      <td>102790.175348</td>\n",
              "      <td>0.272419</td>\n",
              "      <td>0.722121</td>\n",
              "      <td>2.371231e+05</td>\n",
              "      <td>4.024908e+05</td>\n",
              "      <td>14493.737315</td>\n",
              "      <td>3.694465e+05</td>\n",
              "      <td>0.013831</td>\n",
              "      <td>4363.988632</td>\n",
              "      <td>141275.766519</td>\n",
              "      <td>...</td>\n",
              "      <td>0.089798</td>\n",
              "      <td>0.024387</td>\n",
              "      <td>0.022518</td>\n",
              "      <td>0.018299</td>\n",
              "      <td>0.083849</td>\n",
              "      <td>0.110757</td>\n",
              "      <td>0.204685</td>\n",
              "      <td>0.916002</td>\n",
              "      <td>0.794056</td>\n",
              "      <td>1.869295</td>\n",
              "    </tr>\n",
              "    <tr>\n",
              "      <th>min</th>\n",
              "      <td>100002.000000</td>\n",
              "      <td>0.000000</td>\n",
              "      <td>0.000000</td>\n",
              "      <td>2.565000e+04</td>\n",
              "      <td>4.500000e+04</td>\n",
              "      <td>1615.500000</td>\n",
              "      <td>4.050000e+04</td>\n",
              "      <td>0.000290</td>\n",
              "      <td>-25229.000000</td>\n",
              "      <td>-17912.000000</td>\n",
              "      <td>...</td>\n",
              "      <td>0.000000</td>\n",
              "      <td>0.000000</td>\n",
              "      <td>0.000000</td>\n",
              "      <td>0.000000</td>\n",
              "      <td>0.000000</td>\n",
              "      <td>0.000000</td>\n",
              "      <td>0.000000</td>\n",
              "      <td>0.000000</td>\n",
              "      <td>0.000000</td>\n",
              "      <td>0.000000</td>\n",
              "    </tr>\n",
              "    <tr>\n",
              "      <th>25%</th>\n",
              "      <td>189145.500000</td>\n",
              "      <td>0.000000</td>\n",
              "      <td>0.000000</td>\n",
              "      <td>1.125000e+05</td>\n",
              "      <td>2.700000e+05</td>\n",
              "      <td>16524.000000</td>\n",
              "      <td>2.385000e+05</td>\n",
              "      <td>0.010006</td>\n",
              "      <td>-19682.000000</td>\n",
              "      <td>-2760.000000</td>\n",
              "      <td>...</td>\n",
              "      <td>0.000000</td>\n",
              "      <td>0.000000</td>\n",
              "      <td>0.000000</td>\n",
              "      <td>0.000000</td>\n",
              "      <td>0.000000</td>\n",
              "      <td>0.000000</td>\n",
              "      <td>0.000000</td>\n",
              "      <td>0.000000</td>\n",
              "      <td>0.000000</td>\n",
              "      <td>0.000000</td>\n",
              "    </tr>\n",
              "    <tr>\n",
              "      <th>50%</th>\n",
              "      <td>278202.000000</td>\n",
              "      <td>0.000000</td>\n",
              "      <td>0.000000</td>\n",
              "      <td>1.471500e+05</td>\n",
              "      <td>5.135310e+05</td>\n",
              "      <td>24903.000000</td>\n",
              "      <td>4.500000e+05</td>\n",
              "      <td>0.018850</td>\n",
              "      <td>-15750.000000</td>\n",
              "      <td>-1213.000000</td>\n",
              "      <td>...</td>\n",
              "      <td>0.000000</td>\n",
              "      <td>0.000000</td>\n",
              "      <td>0.000000</td>\n",
              "      <td>0.000000</td>\n",
              "      <td>0.000000</td>\n",
              "      <td>0.000000</td>\n",
              "      <td>0.000000</td>\n",
              "      <td>0.000000</td>\n",
              "      <td>0.000000</td>\n",
              "      <td>1.000000</td>\n",
              "    </tr>\n",
              "    <tr>\n",
              "      <th>75%</th>\n",
              "      <td>367142.500000</td>\n",
              "      <td>0.000000</td>\n",
              "      <td>1.000000</td>\n",
              "      <td>2.025000e+05</td>\n",
              "      <td>8.086500e+05</td>\n",
              "      <td>34596.000000</td>\n",
              "      <td>6.795000e+05</td>\n",
              "      <td>0.028663</td>\n",
              "      <td>-12413.000000</td>\n",
              "      <td>-289.000000</td>\n",
              "      <td>...</td>\n",
              "      <td>0.000000</td>\n",
              "      <td>0.000000</td>\n",
              "      <td>0.000000</td>\n",
              "      <td>0.000000</td>\n",
              "      <td>0.000000</td>\n",
              "      <td>0.000000</td>\n",
              "      <td>0.000000</td>\n",
              "      <td>0.000000</td>\n",
              "      <td>0.000000</td>\n",
              "      <td>3.000000</td>\n",
              "    </tr>\n",
              "    <tr>\n",
              "      <th>max</th>\n",
              "      <td>456255.000000</td>\n",
              "      <td>1.000000</td>\n",
              "      <td>19.000000</td>\n",
              "      <td>1.170000e+08</td>\n",
              "      <td>4.050000e+06</td>\n",
              "      <td>258025.500000</td>\n",
              "      <td>4.050000e+06</td>\n",
              "      <td>0.072508</td>\n",
              "      <td>-7489.000000</td>\n",
              "      <td>365243.000000</td>\n",
              "      <td>...</td>\n",
              "      <td>1.000000</td>\n",
              "      <td>1.000000</td>\n",
              "      <td>1.000000</td>\n",
              "      <td>1.000000</td>\n",
              "      <td>4.000000</td>\n",
              "      <td>9.000000</td>\n",
              "      <td>8.000000</td>\n",
              "      <td>27.000000</td>\n",
              "      <td>261.000000</td>\n",
              "      <td>25.000000</td>\n",
              "    </tr>\n",
              "  </tbody>\n",
              "</table>\n",
              "<p>8 rows × 61 columns</p>\n",
              "</div>\n",
              "      <button class=\"colab-df-convert\" onclick=\"convertToInteractive('df-442dc5fd-731b-44d0-9792-f16385530fbc')\"\n",
              "              title=\"Convert this dataframe to an interactive table.\"\n",
              "              style=\"display:none;\">\n",
              "        \n",
              "  <svg xmlns=\"http://www.w3.org/2000/svg\" height=\"24px\"viewBox=\"0 0 24 24\"\n",
              "       width=\"24px\">\n",
              "    <path d=\"M0 0h24v24H0V0z\" fill=\"none\"/>\n",
              "    <path d=\"M18.56 5.44l.94 2.06.94-2.06 2.06-.94-2.06-.94-.94-2.06-.94 2.06-2.06.94zm-11 1L8.5 8.5l.94-2.06 2.06-.94-2.06-.94L8.5 2.5l-.94 2.06-2.06.94zm10 10l.94 2.06.94-2.06 2.06-.94-2.06-.94-.94-2.06-.94 2.06-2.06.94z\"/><path d=\"M17.41 7.96l-1.37-1.37c-.4-.4-.92-.59-1.43-.59-.52 0-1.04.2-1.43.59L10.3 9.45l-7.72 7.72c-.78.78-.78 2.05 0 2.83L4 21.41c.39.39.9.59 1.41.59.51 0 1.02-.2 1.41-.59l7.78-7.78 2.81-2.81c.8-.78.8-2.07 0-2.86zM5.41 20L4 18.59l7.72-7.72 1.47 1.35L5.41 20z\"/>\n",
              "  </svg>\n",
              "      </button>\n",
              "      \n",
              "  <style>\n",
              "    .colab-df-container {\n",
              "      display:flex;\n",
              "      flex-wrap:wrap;\n",
              "      gap: 12px;\n",
              "    }\n",
              "\n",
              "    .colab-df-convert {\n",
              "      background-color: #E8F0FE;\n",
              "      border: none;\n",
              "      border-radius: 50%;\n",
              "      cursor: pointer;\n",
              "      display: none;\n",
              "      fill: #1967D2;\n",
              "      height: 32px;\n",
              "      padding: 0 0 0 0;\n",
              "      width: 32px;\n",
              "    }\n",
              "\n",
              "    .colab-df-convert:hover {\n",
              "      background-color: #E2EBFA;\n",
              "      box-shadow: 0px 1px 2px rgba(60, 64, 67, 0.3), 0px 1px 3px 1px rgba(60, 64, 67, 0.15);\n",
              "      fill: #174EA6;\n",
              "    }\n",
              "\n",
              "    [theme=dark] .colab-df-convert {\n",
              "      background-color: #3B4455;\n",
              "      fill: #D2E3FC;\n",
              "    }\n",
              "\n",
              "    [theme=dark] .colab-df-convert:hover {\n",
              "      background-color: #434B5C;\n",
              "      box-shadow: 0px 1px 3px 1px rgba(0, 0, 0, 0.15);\n",
              "      filter: drop-shadow(0px 1px 2px rgba(0, 0, 0, 0.3));\n",
              "      fill: #FFFFFF;\n",
              "    }\n",
              "  </style>\n",
              "\n",
              "      <script>\n",
              "        const buttonEl =\n",
              "          document.querySelector('#df-442dc5fd-731b-44d0-9792-f16385530fbc button.colab-df-convert');\n",
              "        buttonEl.style.display =\n",
              "          google.colab.kernel.accessAllowed ? 'block' : 'none';\n",
              "\n",
              "        async function convertToInteractive(key) {\n",
              "          const element = document.querySelector('#df-442dc5fd-731b-44d0-9792-f16385530fbc');\n",
              "          const dataTable =\n",
              "            await google.colab.kernel.invokeFunction('convertToInteractive',\n",
              "                                                     [key], {});\n",
              "          if (!dataTable) return;\n",
              "\n",
              "          const docLinkHtml = 'Like what you see? Visit the ' +\n",
              "            '<a target=\"_blank\" href=https://colab.research.google.com/notebooks/data_table.ipynb>data table notebook</a>'\n",
              "            + ' to learn more about interactive tables.';\n",
              "          element.innerHTML = '';\n",
              "          dataTable['output_type'] = 'display_data';\n",
              "          await google.colab.output.renderOutput(dataTable, element);\n",
              "          const docLink = document.createElement('div');\n",
              "          docLink.innerHTML = docLinkHtml;\n",
              "          element.appendChild(docLink);\n",
              "        }\n",
              "      </script>\n",
              "    </div>\n",
              "  </div>\n",
              "  "
            ]
          },
          "metadata": {},
          "execution_count": 16
        }
      ],
      "source": [
        "new_app_data.describe()"
      ]
    },
    {
      "cell_type": "code",
      "execution_count": 17,
      "metadata": {
        "colab": {
          "base_uri": "https://localhost:8080/"
        },
        "id": "qGC97Qj7JJkD",
        "outputId": "8e8e9259-f0ad-4575-a7cb-8419ebc93b03"
      },
      "outputs": [
        {
          "output_type": "stream",
          "name": "stdout",
          "text": [
            "         SK_ID_PREV  SK_ID_CURR NAME_CONTRACT_TYPE  AMT_ANNUITY  \\\n",
            "0           2030495      271877     Consumer loans     1730.430   \n",
            "1           2802425      108129         Cash loans    25188.615   \n",
            "2           2523466      122040         Cash loans    15060.735   \n",
            "3           2819243      176158         Cash loans    47041.335   \n",
            "4           1784265      202054         Cash loans    31924.395   \n",
            "...             ...         ...                ...          ...   \n",
            "1670209     2300464      352015     Consumer loans    14704.290   \n",
            "1670210     2357031      334635     Consumer loans     6622.020   \n",
            "1670211     2659632      249544     Consumer loans    11520.855   \n",
            "1670212     2785582      400317         Cash loans    18821.520   \n",
            "1670213     2418762      261212         Cash loans    16431.300   \n",
            "\n",
            "         AMT_APPLICATION  AMT_CREDIT  AMT_GOODS_PRICE  \\\n",
            "0                17145.0     17145.0          17145.0   \n",
            "1               607500.0    679671.0         607500.0   \n",
            "2               112500.0    136444.5         112500.0   \n",
            "3               450000.0    470790.0         450000.0   \n",
            "4               337500.0    404055.0         337500.0   \n",
            "...                  ...         ...              ...   \n",
            "1670209         267295.5    311400.0         267295.5   \n",
            "1670210          87750.0     64291.5          87750.0   \n",
            "1670211         105237.0    102523.5         105237.0   \n",
            "1670212         180000.0    191880.0         180000.0   \n",
            "1670213         360000.0    360000.0         360000.0   \n",
            "\n",
            "        WEEKDAY_APPR_PROCESS_START  HOUR_APPR_PROCESS_START  \\\n",
            "0                         SATURDAY                       15   \n",
            "1                         THURSDAY                       11   \n",
            "2                          TUESDAY                       11   \n",
            "3                           MONDAY                        7   \n",
            "4                         THURSDAY                        9   \n",
            "...                            ...                      ...   \n",
            "1670209                  WEDNESDAY                       12   \n",
            "1670210                    TUESDAY                       15   \n",
            "1670211                     MONDAY                       12   \n",
            "1670212                  WEDNESDAY                        9   \n",
            "1670213                     SUNDAY                       10   \n",
            "\n",
            "        FLAG_LAST_APPL_PER_CONTRACT  ...  NAME_CLIENT_TYPE  \\\n",
            "0                                 Y  ...          Repeater   \n",
            "1                                 Y  ...          Repeater   \n",
            "2                                 Y  ...          Repeater   \n",
            "3                                 Y  ...          Repeater   \n",
            "4                                 Y  ...          Repeater   \n",
            "...                             ...  ...               ...   \n",
            "1670209                           Y  ...         Refreshed   \n",
            "1670210                           Y  ...               New   \n",
            "1670211                           Y  ...          Repeater   \n",
            "1670212                           Y  ...          Repeater   \n",
            "1670213                           Y  ...          Repeater   \n",
            "\n",
            "          NAME_GOODS_CATEGORY NAME_PORTFOLIO  NAME_PRODUCT_TYPE  \\\n",
            "0                      Mobile            POS                XNA   \n",
            "1                         XNA           Cash             x-sell   \n",
            "2                         XNA           Cash             x-sell   \n",
            "3                         XNA           Cash             x-sell   \n",
            "4                         XNA           Cash            walk-in   \n",
            "...                       ...            ...                ...   \n",
            "1670209             Furniture            POS                XNA   \n",
            "1670210             Furniture            POS                XNA   \n",
            "1670211  Consumer Electronics            POS                XNA   \n",
            "1670212                   XNA           Cash             x-sell   \n",
            "1670213                   XNA           Cash             x-sell   \n",
            "\n",
            "                    CHANNEL_TYPE SELLERPLACE_AREA  NAME_SELLER_INDUSTRY  \\\n",
            "0                   Country-wide               35          Connectivity   \n",
            "1                 Contact center               -1                   XNA   \n",
            "2        Credit and cash offices               -1                   XNA   \n",
            "3        Credit and cash offices               -1                   XNA   \n",
            "4        Credit and cash offices               -1                   XNA   \n",
            "...                          ...              ...                   ...   \n",
            "1670209                    Stone               43             Furniture   \n",
            "1670210                    Stone               43             Furniture   \n",
            "1670211             Country-wide             1370  Consumer electronics   \n",
            "1670212          AP+ (Cash loan)               -1                   XNA   \n",
            "1670213          AP+ (Cash loan)               -1                   XNA   \n",
            "\n",
            "        CNT_PAYMENT NAME_YIELD_GROUP          PRODUCT_COMBINATION  \n",
            "0              12.0           middle     POS mobile with interest  \n",
            "1              36.0       low_action             Cash X-Sell: low  \n",
            "2              12.0             high            Cash X-Sell: high  \n",
            "3              12.0           middle          Cash X-Sell: middle  \n",
            "4              24.0             high            Cash Street: high  \n",
            "...             ...              ...                          ...  \n",
            "1670209        30.0       low_normal   POS industry with interest  \n",
            "1670210        12.0           middle   POS industry with interest  \n",
            "1670211        10.0       low_normal  POS household with interest  \n",
            "1670212        12.0       low_normal             Cash X-Sell: low  \n",
            "1670213        48.0           middle          Cash X-Sell: middle  \n",
            "\n",
            "[1670214 rows x 26 columns]\n"
          ]
        }
      ],
      "source": [
        "perc=40.0\n",
        "min_count =  int(((100-perc)/100)*pre_app_data.shape[0] + 1)\n",
        "new_pre_app_data = pre_app_data.dropna( axis=1, \n",
        "                thresh=min_count)\n",
        "print(new_pre_app_data)"
      ]
    },
    {
      "cell_type": "code",
      "execution_count": 18,
      "metadata": {
        "colab": {
          "base_uri": "https://localhost:8080/",
          "height": 369
        },
        "id": "rzX3vbjzN0ot",
        "outputId": "a7aad1aa-00d3-4ea8-acb9-71dedb0cebca"
      },
      "outputs": [
        {
          "output_type": "execute_result",
          "data": {
            "text/plain": [
              "   SK_ID_PREV  SK_ID_CURR NAME_CONTRACT_TYPE  AMT_ANNUITY  AMT_APPLICATION  \\\n",
              "0     2030495      271877     Consumer loans     1730.430          17145.0   \n",
              "1     2802425      108129         Cash loans    25188.615         607500.0   \n",
              "2     2523466      122040         Cash loans    15060.735         112500.0   \n",
              "3     2819243      176158         Cash loans    47041.335         450000.0   \n",
              "4     1784265      202054         Cash loans    31924.395         337500.0   \n",
              "\n",
              "   AMT_CREDIT  AMT_GOODS_PRICE WEEKDAY_APPR_PROCESS_START  \\\n",
              "0     17145.0          17145.0                   SATURDAY   \n",
              "1    679671.0         607500.0                   THURSDAY   \n",
              "2    136444.5         112500.0                    TUESDAY   \n",
              "3    470790.0         450000.0                     MONDAY   \n",
              "4    404055.0         337500.0                   THURSDAY   \n",
              "\n",
              "   HOUR_APPR_PROCESS_START FLAG_LAST_APPL_PER_CONTRACT  ...  NAME_CLIENT_TYPE  \\\n",
              "0                       15                           Y  ...          Repeater   \n",
              "1                       11                           Y  ...          Repeater   \n",
              "2                       11                           Y  ...          Repeater   \n",
              "3                        7                           Y  ...          Repeater   \n",
              "4                        9                           Y  ...          Repeater   \n",
              "\n",
              "  NAME_GOODS_CATEGORY NAME_PORTFOLIO  NAME_PRODUCT_TYPE  \\\n",
              "0              Mobile            POS                XNA   \n",
              "1                 XNA           Cash             x-sell   \n",
              "2                 XNA           Cash             x-sell   \n",
              "3                 XNA           Cash             x-sell   \n",
              "4                 XNA           Cash            walk-in   \n",
              "\n",
              "              CHANNEL_TYPE SELLERPLACE_AREA NAME_SELLER_INDUSTRY CNT_PAYMENT  \\\n",
              "0             Country-wide               35         Connectivity        12.0   \n",
              "1           Contact center               -1                  XNA        36.0   \n",
              "2  Credit and cash offices               -1                  XNA        12.0   \n",
              "3  Credit and cash offices               -1                  XNA        12.0   \n",
              "4  Credit and cash offices               -1                  XNA        24.0   \n",
              "\n",
              "  NAME_YIELD_GROUP       PRODUCT_COMBINATION  \n",
              "0           middle  POS mobile with interest  \n",
              "1       low_action          Cash X-Sell: low  \n",
              "2             high         Cash X-Sell: high  \n",
              "3           middle       Cash X-Sell: middle  \n",
              "4             high         Cash Street: high  \n",
              "\n",
              "[5 rows x 26 columns]"
            ],
            "text/html": [
              "\n",
              "  <div id=\"df-8c0c4e25-4066-446d-ad73-9b5f8981f1fb\">\n",
              "    <div class=\"colab-df-container\">\n",
              "      <div>\n",
              "<style scoped>\n",
              "    .dataframe tbody tr th:only-of-type {\n",
              "        vertical-align: middle;\n",
              "    }\n",
              "\n",
              "    .dataframe tbody tr th {\n",
              "        vertical-align: top;\n",
              "    }\n",
              "\n",
              "    .dataframe thead th {\n",
              "        text-align: right;\n",
              "    }\n",
              "</style>\n",
              "<table border=\"1\" class=\"dataframe\">\n",
              "  <thead>\n",
              "    <tr style=\"text-align: right;\">\n",
              "      <th></th>\n",
              "      <th>SK_ID_PREV</th>\n",
              "      <th>SK_ID_CURR</th>\n",
              "      <th>NAME_CONTRACT_TYPE</th>\n",
              "      <th>AMT_ANNUITY</th>\n",
              "      <th>AMT_APPLICATION</th>\n",
              "      <th>AMT_CREDIT</th>\n",
              "      <th>AMT_GOODS_PRICE</th>\n",
              "      <th>WEEKDAY_APPR_PROCESS_START</th>\n",
              "      <th>HOUR_APPR_PROCESS_START</th>\n",
              "      <th>FLAG_LAST_APPL_PER_CONTRACT</th>\n",
              "      <th>...</th>\n",
              "      <th>NAME_CLIENT_TYPE</th>\n",
              "      <th>NAME_GOODS_CATEGORY</th>\n",
              "      <th>NAME_PORTFOLIO</th>\n",
              "      <th>NAME_PRODUCT_TYPE</th>\n",
              "      <th>CHANNEL_TYPE</th>\n",
              "      <th>SELLERPLACE_AREA</th>\n",
              "      <th>NAME_SELLER_INDUSTRY</th>\n",
              "      <th>CNT_PAYMENT</th>\n",
              "      <th>NAME_YIELD_GROUP</th>\n",
              "      <th>PRODUCT_COMBINATION</th>\n",
              "    </tr>\n",
              "  </thead>\n",
              "  <tbody>\n",
              "    <tr>\n",
              "      <th>0</th>\n",
              "      <td>2030495</td>\n",
              "      <td>271877</td>\n",
              "      <td>Consumer loans</td>\n",
              "      <td>1730.430</td>\n",
              "      <td>17145.0</td>\n",
              "      <td>17145.0</td>\n",
              "      <td>17145.0</td>\n",
              "      <td>SATURDAY</td>\n",
              "      <td>15</td>\n",
              "      <td>Y</td>\n",
              "      <td>...</td>\n",
              "      <td>Repeater</td>\n",
              "      <td>Mobile</td>\n",
              "      <td>POS</td>\n",
              "      <td>XNA</td>\n",
              "      <td>Country-wide</td>\n",
              "      <td>35</td>\n",
              "      <td>Connectivity</td>\n",
              "      <td>12.0</td>\n",
              "      <td>middle</td>\n",
              "      <td>POS mobile with interest</td>\n",
              "    </tr>\n",
              "    <tr>\n",
              "      <th>1</th>\n",
              "      <td>2802425</td>\n",
              "      <td>108129</td>\n",
              "      <td>Cash loans</td>\n",
              "      <td>25188.615</td>\n",
              "      <td>607500.0</td>\n",
              "      <td>679671.0</td>\n",
              "      <td>607500.0</td>\n",
              "      <td>THURSDAY</td>\n",
              "      <td>11</td>\n",
              "      <td>Y</td>\n",
              "      <td>...</td>\n",
              "      <td>Repeater</td>\n",
              "      <td>XNA</td>\n",
              "      <td>Cash</td>\n",
              "      <td>x-sell</td>\n",
              "      <td>Contact center</td>\n",
              "      <td>-1</td>\n",
              "      <td>XNA</td>\n",
              "      <td>36.0</td>\n",
              "      <td>low_action</td>\n",
              "      <td>Cash X-Sell: low</td>\n",
              "    </tr>\n",
              "    <tr>\n",
              "      <th>2</th>\n",
              "      <td>2523466</td>\n",
              "      <td>122040</td>\n",
              "      <td>Cash loans</td>\n",
              "      <td>15060.735</td>\n",
              "      <td>112500.0</td>\n",
              "      <td>136444.5</td>\n",
              "      <td>112500.0</td>\n",
              "      <td>TUESDAY</td>\n",
              "      <td>11</td>\n",
              "      <td>Y</td>\n",
              "      <td>...</td>\n",
              "      <td>Repeater</td>\n",
              "      <td>XNA</td>\n",
              "      <td>Cash</td>\n",
              "      <td>x-sell</td>\n",
              "      <td>Credit and cash offices</td>\n",
              "      <td>-1</td>\n",
              "      <td>XNA</td>\n",
              "      <td>12.0</td>\n",
              "      <td>high</td>\n",
              "      <td>Cash X-Sell: high</td>\n",
              "    </tr>\n",
              "    <tr>\n",
              "      <th>3</th>\n",
              "      <td>2819243</td>\n",
              "      <td>176158</td>\n",
              "      <td>Cash loans</td>\n",
              "      <td>47041.335</td>\n",
              "      <td>450000.0</td>\n",
              "      <td>470790.0</td>\n",
              "      <td>450000.0</td>\n",
              "      <td>MONDAY</td>\n",
              "      <td>7</td>\n",
              "      <td>Y</td>\n",
              "      <td>...</td>\n",
              "      <td>Repeater</td>\n",
              "      <td>XNA</td>\n",
              "      <td>Cash</td>\n",
              "      <td>x-sell</td>\n",
              "      <td>Credit and cash offices</td>\n",
              "      <td>-1</td>\n",
              "      <td>XNA</td>\n",
              "      <td>12.0</td>\n",
              "      <td>middle</td>\n",
              "      <td>Cash X-Sell: middle</td>\n",
              "    </tr>\n",
              "    <tr>\n",
              "      <th>4</th>\n",
              "      <td>1784265</td>\n",
              "      <td>202054</td>\n",
              "      <td>Cash loans</td>\n",
              "      <td>31924.395</td>\n",
              "      <td>337500.0</td>\n",
              "      <td>404055.0</td>\n",
              "      <td>337500.0</td>\n",
              "      <td>THURSDAY</td>\n",
              "      <td>9</td>\n",
              "      <td>Y</td>\n",
              "      <td>...</td>\n",
              "      <td>Repeater</td>\n",
              "      <td>XNA</td>\n",
              "      <td>Cash</td>\n",
              "      <td>walk-in</td>\n",
              "      <td>Credit and cash offices</td>\n",
              "      <td>-1</td>\n",
              "      <td>XNA</td>\n",
              "      <td>24.0</td>\n",
              "      <td>high</td>\n",
              "      <td>Cash Street: high</td>\n",
              "    </tr>\n",
              "  </tbody>\n",
              "</table>\n",
              "<p>5 rows × 26 columns</p>\n",
              "</div>\n",
              "      <button class=\"colab-df-convert\" onclick=\"convertToInteractive('df-8c0c4e25-4066-446d-ad73-9b5f8981f1fb')\"\n",
              "              title=\"Convert this dataframe to an interactive table.\"\n",
              "              style=\"display:none;\">\n",
              "        \n",
              "  <svg xmlns=\"http://www.w3.org/2000/svg\" height=\"24px\"viewBox=\"0 0 24 24\"\n",
              "       width=\"24px\">\n",
              "    <path d=\"M0 0h24v24H0V0z\" fill=\"none\"/>\n",
              "    <path d=\"M18.56 5.44l.94 2.06.94-2.06 2.06-.94-2.06-.94-.94-2.06-.94 2.06-2.06.94zm-11 1L8.5 8.5l.94-2.06 2.06-.94-2.06-.94L8.5 2.5l-.94 2.06-2.06.94zm10 10l.94 2.06.94-2.06 2.06-.94-2.06-.94-.94-2.06-.94 2.06-2.06.94z\"/><path d=\"M17.41 7.96l-1.37-1.37c-.4-.4-.92-.59-1.43-.59-.52 0-1.04.2-1.43.59L10.3 9.45l-7.72 7.72c-.78.78-.78 2.05 0 2.83L4 21.41c.39.39.9.59 1.41.59.51 0 1.02-.2 1.41-.59l7.78-7.78 2.81-2.81c.8-.78.8-2.07 0-2.86zM5.41 20L4 18.59l7.72-7.72 1.47 1.35L5.41 20z\"/>\n",
              "  </svg>\n",
              "      </button>\n",
              "      \n",
              "  <style>\n",
              "    .colab-df-container {\n",
              "      display:flex;\n",
              "      flex-wrap:wrap;\n",
              "      gap: 12px;\n",
              "    }\n",
              "\n",
              "    .colab-df-convert {\n",
              "      background-color: #E8F0FE;\n",
              "      border: none;\n",
              "      border-radius: 50%;\n",
              "      cursor: pointer;\n",
              "      display: none;\n",
              "      fill: #1967D2;\n",
              "      height: 32px;\n",
              "      padding: 0 0 0 0;\n",
              "      width: 32px;\n",
              "    }\n",
              "\n",
              "    .colab-df-convert:hover {\n",
              "      background-color: #E2EBFA;\n",
              "      box-shadow: 0px 1px 2px rgba(60, 64, 67, 0.3), 0px 1px 3px 1px rgba(60, 64, 67, 0.15);\n",
              "      fill: #174EA6;\n",
              "    }\n",
              "\n",
              "    [theme=dark] .colab-df-convert {\n",
              "      background-color: #3B4455;\n",
              "      fill: #D2E3FC;\n",
              "    }\n",
              "\n",
              "    [theme=dark] .colab-df-convert:hover {\n",
              "      background-color: #434B5C;\n",
              "      box-shadow: 0px 1px 3px 1px rgba(0, 0, 0, 0.15);\n",
              "      filter: drop-shadow(0px 1px 2px rgba(0, 0, 0, 0.3));\n",
              "      fill: #FFFFFF;\n",
              "    }\n",
              "  </style>\n",
              "\n",
              "      <script>\n",
              "        const buttonEl =\n",
              "          document.querySelector('#df-8c0c4e25-4066-446d-ad73-9b5f8981f1fb button.colab-df-convert');\n",
              "        buttonEl.style.display =\n",
              "          google.colab.kernel.accessAllowed ? 'block' : 'none';\n",
              "\n",
              "        async function convertToInteractive(key) {\n",
              "          const element = document.querySelector('#df-8c0c4e25-4066-446d-ad73-9b5f8981f1fb');\n",
              "          const dataTable =\n",
              "            await google.colab.kernel.invokeFunction('convertToInteractive',\n",
              "                                                     [key], {});\n",
              "          if (!dataTable) return;\n",
              "\n",
              "          const docLinkHtml = 'Like what you see? Visit the ' +\n",
              "            '<a target=\"_blank\" href=https://colab.research.google.com/notebooks/data_table.ipynb>data table notebook</a>'\n",
              "            + ' to learn more about interactive tables.';\n",
              "          element.innerHTML = '';\n",
              "          dataTable['output_type'] = 'display_data';\n",
              "          await google.colab.output.renderOutput(dataTable, element);\n",
              "          const docLink = document.createElement('div');\n",
              "          docLink.innerHTML = docLinkHtml;\n",
              "          element.appendChild(docLink);\n",
              "        }\n",
              "      </script>\n",
              "    </div>\n",
              "  </div>\n",
              "  "
            ]
          },
          "metadata": {},
          "execution_count": 18
        }
      ],
      "source": [
        "new_pre_app_data.head()"
      ]
    },
    {
      "cell_type": "code",
      "execution_count": 19,
      "metadata": {
        "colab": {
          "base_uri": "https://localhost:8080/"
        },
        "id": "JT5MZjdvN7Hk",
        "outputId": "d021d440-2972-4e2c-d165-6fdaf8f4c708"
      },
      "outputs": [
        {
          "output_type": "stream",
          "name": "stdout",
          "text": [
            "<class 'pandas.core.frame.DataFrame'>\n",
            "RangeIndex: 1670214 entries, 0 to 1670213\n",
            "Data columns (total 26 columns):\n",
            " #   Column                       Non-Null Count    Dtype  \n",
            "---  ------                       --------------    -----  \n",
            " 0   SK_ID_PREV                   1670214 non-null  int64  \n",
            " 1   SK_ID_CURR                   1670214 non-null  int64  \n",
            " 2   NAME_CONTRACT_TYPE           1670214 non-null  object \n",
            " 3   AMT_ANNUITY                  1297979 non-null  float64\n",
            " 4   AMT_APPLICATION              1670214 non-null  float64\n",
            " 5   AMT_CREDIT                   1670213 non-null  float64\n",
            " 6   AMT_GOODS_PRICE              1284699 non-null  float64\n",
            " 7   WEEKDAY_APPR_PROCESS_START   1670214 non-null  object \n",
            " 8   HOUR_APPR_PROCESS_START      1670214 non-null  int64  \n",
            " 9   FLAG_LAST_APPL_PER_CONTRACT  1670214 non-null  object \n",
            " 10  NFLAG_LAST_APPL_IN_DAY       1670214 non-null  int64  \n",
            " 11  NAME_CASH_LOAN_PURPOSE       1670214 non-null  object \n",
            " 12  NAME_CONTRACT_STATUS         1670214 non-null  object \n",
            " 13  DAYS_DECISION                1670214 non-null  int64  \n",
            " 14  NAME_PAYMENT_TYPE            1670214 non-null  object \n",
            " 15  CODE_REJECT_REASON           1670214 non-null  object \n",
            " 16  NAME_CLIENT_TYPE             1670214 non-null  object \n",
            " 17  NAME_GOODS_CATEGORY          1670214 non-null  object \n",
            " 18  NAME_PORTFOLIO               1670214 non-null  object \n",
            " 19  NAME_PRODUCT_TYPE            1670214 non-null  object \n",
            " 20  CHANNEL_TYPE                 1670214 non-null  object \n",
            " 21  SELLERPLACE_AREA             1670214 non-null  int64  \n",
            " 22  NAME_SELLER_INDUSTRY         1670214 non-null  object \n",
            " 23  CNT_PAYMENT                  1297984 non-null  float64\n",
            " 24  NAME_YIELD_GROUP             1670214 non-null  object \n",
            " 25  PRODUCT_COMBINATION          1669868 non-null  object \n",
            "dtypes: float64(5), int64(6), object(15)\n",
            "memory usage: 331.3+ MB\n"
          ]
        }
      ],
      "source": [
        "new_pre_app_data.info()"
      ]
    },
    {
      "cell_type": "code",
      "execution_count": 20,
      "metadata": {
        "colab": {
          "base_uri": "https://localhost:8080/",
          "height": 364
        },
        "id": "crL0lWPjRVkb",
        "outputId": "e244e231-e3cb-4fba-f884-62430759b259"
      },
      "outputs": [
        {
          "output_type": "execute_result",
          "data": {
            "text/plain": [
              "         SK_ID_PREV    SK_ID_CURR   AMT_ANNUITY  AMT_APPLICATION  \\\n",
              "count  1.670214e+06  1.670214e+06  1.297979e+06     1.670214e+06   \n",
              "mean   1.923089e+06  2.783572e+05  1.595512e+04     1.752339e+05   \n",
              "std    5.325980e+05  1.028148e+05  1.478214e+04     2.927798e+05   \n",
              "min    1.000001e+06  1.000010e+05  0.000000e+00     0.000000e+00   \n",
              "25%    1.461857e+06  1.893290e+05  6.321780e+03     1.872000e+04   \n",
              "50%    1.923110e+06  2.787145e+05  1.125000e+04     7.104600e+04   \n",
              "75%    2.384280e+06  3.675140e+05  2.065842e+04     1.803600e+05   \n",
              "max    2.845382e+06  4.562550e+05  4.180581e+05     6.905160e+06   \n",
              "\n",
              "         AMT_CREDIT  AMT_GOODS_PRICE  HOUR_APPR_PROCESS_START  \\\n",
              "count  1.670213e+06     1.284699e+06             1.670214e+06   \n",
              "mean   1.961140e+05     2.278473e+05             1.248418e+01   \n",
              "std    3.185746e+05     3.153966e+05             3.334028e+00   \n",
              "min    0.000000e+00     0.000000e+00             0.000000e+00   \n",
              "25%    2.416050e+04     5.084100e+04             1.000000e+01   \n",
              "50%    8.054100e+04     1.123200e+05             1.200000e+01   \n",
              "75%    2.164185e+05     2.340000e+05             1.500000e+01   \n",
              "max    6.905160e+06     6.905160e+06             2.300000e+01   \n",
              "\n",
              "       NFLAG_LAST_APPL_IN_DAY  DAYS_DECISION  SELLERPLACE_AREA   CNT_PAYMENT  \n",
              "count            1.670214e+06   1.670214e+06      1.670214e+06  1.297984e+06  \n",
              "mean             9.964675e-01  -8.806797e+02      3.139511e+02  1.605408e+01  \n",
              "std              5.932963e-02   7.790997e+02      7.127443e+03  1.456729e+01  \n",
              "min              0.000000e+00  -2.922000e+03     -1.000000e+00  0.000000e+00  \n",
              "25%              1.000000e+00  -1.300000e+03     -1.000000e+00  6.000000e+00  \n",
              "50%              1.000000e+00  -5.810000e+02      3.000000e+00  1.200000e+01  \n",
              "75%              1.000000e+00  -2.800000e+02      8.200000e+01  2.400000e+01  \n",
              "max              1.000000e+00  -1.000000e+00      4.000000e+06  8.400000e+01  "
            ],
            "text/html": [
              "\n",
              "  <div id=\"df-e32bd72f-bd2b-462e-980c-cda6b5dfad2f\">\n",
              "    <div class=\"colab-df-container\">\n",
              "      <div>\n",
              "<style scoped>\n",
              "    .dataframe tbody tr th:only-of-type {\n",
              "        vertical-align: middle;\n",
              "    }\n",
              "\n",
              "    .dataframe tbody tr th {\n",
              "        vertical-align: top;\n",
              "    }\n",
              "\n",
              "    .dataframe thead th {\n",
              "        text-align: right;\n",
              "    }\n",
              "</style>\n",
              "<table border=\"1\" class=\"dataframe\">\n",
              "  <thead>\n",
              "    <tr style=\"text-align: right;\">\n",
              "      <th></th>\n",
              "      <th>SK_ID_PREV</th>\n",
              "      <th>SK_ID_CURR</th>\n",
              "      <th>AMT_ANNUITY</th>\n",
              "      <th>AMT_APPLICATION</th>\n",
              "      <th>AMT_CREDIT</th>\n",
              "      <th>AMT_GOODS_PRICE</th>\n",
              "      <th>HOUR_APPR_PROCESS_START</th>\n",
              "      <th>NFLAG_LAST_APPL_IN_DAY</th>\n",
              "      <th>DAYS_DECISION</th>\n",
              "      <th>SELLERPLACE_AREA</th>\n",
              "      <th>CNT_PAYMENT</th>\n",
              "    </tr>\n",
              "  </thead>\n",
              "  <tbody>\n",
              "    <tr>\n",
              "      <th>count</th>\n",
              "      <td>1.670214e+06</td>\n",
              "      <td>1.670214e+06</td>\n",
              "      <td>1.297979e+06</td>\n",
              "      <td>1.670214e+06</td>\n",
              "      <td>1.670213e+06</td>\n",
              "      <td>1.284699e+06</td>\n",
              "      <td>1.670214e+06</td>\n",
              "      <td>1.670214e+06</td>\n",
              "      <td>1.670214e+06</td>\n",
              "      <td>1.670214e+06</td>\n",
              "      <td>1.297984e+06</td>\n",
              "    </tr>\n",
              "    <tr>\n",
              "      <th>mean</th>\n",
              "      <td>1.923089e+06</td>\n",
              "      <td>2.783572e+05</td>\n",
              "      <td>1.595512e+04</td>\n",
              "      <td>1.752339e+05</td>\n",
              "      <td>1.961140e+05</td>\n",
              "      <td>2.278473e+05</td>\n",
              "      <td>1.248418e+01</td>\n",
              "      <td>9.964675e-01</td>\n",
              "      <td>-8.806797e+02</td>\n",
              "      <td>3.139511e+02</td>\n",
              "      <td>1.605408e+01</td>\n",
              "    </tr>\n",
              "    <tr>\n",
              "      <th>std</th>\n",
              "      <td>5.325980e+05</td>\n",
              "      <td>1.028148e+05</td>\n",
              "      <td>1.478214e+04</td>\n",
              "      <td>2.927798e+05</td>\n",
              "      <td>3.185746e+05</td>\n",
              "      <td>3.153966e+05</td>\n",
              "      <td>3.334028e+00</td>\n",
              "      <td>5.932963e-02</td>\n",
              "      <td>7.790997e+02</td>\n",
              "      <td>7.127443e+03</td>\n",
              "      <td>1.456729e+01</td>\n",
              "    </tr>\n",
              "    <tr>\n",
              "      <th>min</th>\n",
              "      <td>1.000001e+06</td>\n",
              "      <td>1.000010e+05</td>\n",
              "      <td>0.000000e+00</td>\n",
              "      <td>0.000000e+00</td>\n",
              "      <td>0.000000e+00</td>\n",
              "      <td>0.000000e+00</td>\n",
              "      <td>0.000000e+00</td>\n",
              "      <td>0.000000e+00</td>\n",
              "      <td>-2.922000e+03</td>\n",
              "      <td>-1.000000e+00</td>\n",
              "      <td>0.000000e+00</td>\n",
              "    </tr>\n",
              "    <tr>\n",
              "      <th>25%</th>\n",
              "      <td>1.461857e+06</td>\n",
              "      <td>1.893290e+05</td>\n",
              "      <td>6.321780e+03</td>\n",
              "      <td>1.872000e+04</td>\n",
              "      <td>2.416050e+04</td>\n",
              "      <td>5.084100e+04</td>\n",
              "      <td>1.000000e+01</td>\n",
              "      <td>1.000000e+00</td>\n",
              "      <td>-1.300000e+03</td>\n",
              "      <td>-1.000000e+00</td>\n",
              "      <td>6.000000e+00</td>\n",
              "    </tr>\n",
              "    <tr>\n",
              "      <th>50%</th>\n",
              "      <td>1.923110e+06</td>\n",
              "      <td>2.787145e+05</td>\n",
              "      <td>1.125000e+04</td>\n",
              "      <td>7.104600e+04</td>\n",
              "      <td>8.054100e+04</td>\n",
              "      <td>1.123200e+05</td>\n",
              "      <td>1.200000e+01</td>\n",
              "      <td>1.000000e+00</td>\n",
              "      <td>-5.810000e+02</td>\n",
              "      <td>3.000000e+00</td>\n",
              "      <td>1.200000e+01</td>\n",
              "    </tr>\n",
              "    <tr>\n",
              "      <th>75%</th>\n",
              "      <td>2.384280e+06</td>\n",
              "      <td>3.675140e+05</td>\n",
              "      <td>2.065842e+04</td>\n",
              "      <td>1.803600e+05</td>\n",
              "      <td>2.164185e+05</td>\n",
              "      <td>2.340000e+05</td>\n",
              "      <td>1.500000e+01</td>\n",
              "      <td>1.000000e+00</td>\n",
              "      <td>-2.800000e+02</td>\n",
              "      <td>8.200000e+01</td>\n",
              "      <td>2.400000e+01</td>\n",
              "    </tr>\n",
              "    <tr>\n",
              "      <th>max</th>\n",
              "      <td>2.845382e+06</td>\n",
              "      <td>4.562550e+05</td>\n",
              "      <td>4.180581e+05</td>\n",
              "      <td>6.905160e+06</td>\n",
              "      <td>6.905160e+06</td>\n",
              "      <td>6.905160e+06</td>\n",
              "      <td>2.300000e+01</td>\n",
              "      <td>1.000000e+00</td>\n",
              "      <td>-1.000000e+00</td>\n",
              "      <td>4.000000e+06</td>\n",
              "      <td>8.400000e+01</td>\n",
              "    </tr>\n",
              "  </tbody>\n",
              "</table>\n",
              "</div>\n",
              "      <button class=\"colab-df-convert\" onclick=\"convertToInteractive('df-e32bd72f-bd2b-462e-980c-cda6b5dfad2f')\"\n",
              "              title=\"Convert this dataframe to an interactive table.\"\n",
              "              style=\"display:none;\">\n",
              "        \n",
              "  <svg xmlns=\"http://www.w3.org/2000/svg\" height=\"24px\"viewBox=\"0 0 24 24\"\n",
              "       width=\"24px\">\n",
              "    <path d=\"M0 0h24v24H0V0z\" fill=\"none\"/>\n",
              "    <path d=\"M18.56 5.44l.94 2.06.94-2.06 2.06-.94-2.06-.94-.94-2.06-.94 2.06-2.06.94zm-11 1L8.5 8.5l.94-2.06 2.06-.94-2.06-.94L8.5 2.5l-.94 2.06-2.06.94zm10 10l.94 2.06.94-2.06 2.06-.94-2.06-.94-.94-2.06-.94 2.06-2.06.94z\"/><path d=\"M17.41 7.96l-1.37-1.37c-.4-.4-.92-.59-1.43-.59-.52 0-1.04.2-1.43.59L10.3 9.45l-7.72 7.72c-.78.78-.78 2.05 0 2.83L4 21.41c.39.39.9.59 1.41.59.51 0 1.02-.2 1.41-.59l7.78-7.78 2.81-2.81c.8-.78.8-2.07 0-2.86zM5.41 20L4 18.59l7.72-7.72 1.47 1.35L5.41 20z\"/>\n",
              "  </svg>\n",
              "      </button>\n",
              "      \n",
              "  <style>\n",
              "    .colab-df-container {\n",
              "      display:flex;\n",
              "      flex-wrap:wrap;\n",
              "      gap: 12px;\n",
              "    }\n",
              "\n",
              "    .colab-df-convert {\n",
              "      background-color: #E8F0FE;\n",
              "      border: none;\n",
              "      border-radius: 50%;\n",
              "      cursor: pointer;\n",
              "      display: none;\n",
              "      fill: #1967D2;\n",
              "      height: 32px;\n",
              "      padding: 0 0 0 0;\n",
              "      width: 32px;\n",
              "    }\n",
              "\n",
              "    .colab-df-convert:hover {\n",
              "      background-color: #E2EBFA;\n",
              "      box-shadow: 0px 1px 2px rgba(60, 64, 67, 0.3), 0px 1px 3px 1px rgba(60, 64, 67, 0.15);\n",
              "      fill: #174EA6;\n",
              "    }\n",
              "\n",
              "    [theme=dark] .colab-df-convert {\n",
              "      background-color: #3B4455;\n",
              "      fill: #D2E3FC;\n",
              "    }\n",
              "\n",
              "    [theme=dark] .colab-df-convert:hover {\n",
              "      background-color: #434B5C;\n",
              "      box-shadow: 0px 1px 3px 1px rgba(0, 0, 0, 0.15);\n",
              "      filter: drop-shadow(0px 1px 2px rgba(0, 0, 0, 0.3));\n",
              "      fill: #FFFFFF;\n",
              "    }\n",
              "  </style>\n",
              "\n",
              "      <script>\n",
              "        const buttonEl =\n",
              "          document.querySelector('#df-e32bd72f-bd2b-462e-980c-cda6b5dfad2f button.colab-df-convert');\n",
              "        buttonEl.style.display =\n",
              "          google.colab.kernel.accessAllowed ? 'block' : 'none';\n",
              "\n",
              "        async function convertToInteractive(key) {\n",
              "          const element = document.querySelector('#df-e32bd72f-bd2b-462e-980c-cda6b5dfad2f');\n",
              "          const dataTable =\n",
              "            await google.colab.kernel.invokeFunction('convertToInteractive',\n",
              "                                                     [key], {});\n",
              "          if (!dataTable) return;\n",
              "\n",
              "          const docLinkHtml = 'Like what you see? Visit the ' +\n",
              "            '<a target=\"_blank\" href=https://colab.research.google.com/notebooks/data_table.ipynb>data table notebook</a>'\n",
              "            + ' to learn more about interactive tables.';\n",
              "          element.innerHTML = '';\n",
              "          dataTable['output_type'] = 'display_data';\n",
              "          await google.colab.output.renderOutput(dataTable, element);\n",
              "          const docLink = document.createElement('div');\n",
              "          docLink.innerHTML = docLinkHtml;\n",
              "          element.appendChild(docLink);\n",
              "        }\n",
              "      </script>\n",
              "    </div>\n",
              "  </div>\n",
              "  "
            ]
          },
          "metadata": {},
          "execution_count": 20
        }
      ],
      "source": [
        "new_pre_app_data.describe()"
      ]
    },
    {
      "cell_type": "markdown",
      "source": [
        "**Key points**\n",
        "\n",
        "* As we have negative value in some columns so we have to remove all the negative value.\n",
        "\n",
        "* Error value correction is done in both new_app_data and new_pre_app_data."
      ],
      "metadata": {
        "id": "eN0tTCVM4USV"
      }
    },
    {
      "cell_type": "code",
      "source": [
        "# First we will remove negative value from new_app_data:"
      ],
      "metadata": {
        "id": "O6s-zOK75GAt"
      },
      "execution_count": null,
      "outputs": []
    },
    {
      "cell_type": "code",
      "source": [
        "negative_new_app_data=[col for col in new_app_data if col.startswith('DAYS')]\n",
        "negative_new_app_data"
      ],
      "metadata": {
        "colab": {
          "base_uri": "https://localhost:8080/"
        },
        "id": "a6a8-M0B5alE",
        "outputId": "20336124-8da2-4e68-cbc8-a796a87438e5"
      },
      "execution_count": 21,
      "outputs": [
        {
          "output_type": "execute_result",
          "data": {
            "text/plain": [
              "['DAYS_BIRTH',\n",
              " 'DAYS_EMPLOYED',\n",
              " 'DAYS_REGISTRATION',\n",
              " 'DAYS_ID_PUBLISH',\n",
              " 'DAYS_LAST_PHONE_CHANGE']"
            ]
          },
          "metadata": {},
          "execution_count": 21
        }
      ]
    },
    {
      "cell_type": "code",
      "source": [
        "positive_new_app_data=new_app_data.copy()\n",
        "positive_new_app_data[negative_new_app_data]=abs(positive_new_app_data[negative_new_app_data])\n",
        "positive_new_app_data.describe()"
      ],
      "metadata": {
        "colab": {
          "base_uri": "https://localhost:8080/",
          "height": 394
        },
        "id": "9E1uJuG44T3k",
        "outputId": "c12a30af-6d8e-4307-d214-2d77a7966e9f"
      },
      "execution_count": 22,
      "outputs": [
        {
          "output_type": "execute_result",
          "data": {
            "text/plain": [
              "          SK_ID_CURR         TARGET   CNT_CHILDREN  AMT_INCOME_TOTAL  \\\n",
              "count  307511.000000  307511.000000  307511.000000      3.075110e+05   \n",
              "mean   278180.518577       0.080729       0.417052      1.687979e+05   \n",
              "std    102790.175348       0.272419       0.722121      2.371231e+05   \n",
              "min    100002.000000       0.000000       0.000000      2.565000e+04   \n",
              "25%    189145.500000       0.000000       0.000000      1.125000e+05   \n",
              "50%    278202.000000       0.000000       0.000000      1.471500e+05   \n",
              "75%    367142.500000       0.000000       1.000000      2.025000e+05   \n",
              "max    456255.000000       1.000000      19.000000      1.170000e+08   \n",
              "\n",
              "         AMT_CREDIT    AMT_ANNUITY  AMT_GOODS_PRICE  \\\n",
              "count  3.075110e+05  307499.000000     3.072330e+05   \n",
              "mean   5.990260e+05   27108.573909     5.383962e+05   \n",
              "std    4.024908e+05   14493.737315     3.694465e+05   \n",
              "min    4.500000e+04    1615.500000     4.050000e+04   \n",
              "25%    2.700000e+05   16524.000000     2.385000e+05   \n",
              "50%    5.135310e+05   24903.000000     4.500000e+05   \n",
              "75%    8.086500e+05   34596.000000     6.795000e+05   \n",
              "max    4.050000e+06  258025.500000     4.050000e+06   \n",
              "\n",
              "       REGION_POPULATION_RELATIVE     DAYS_BIRTH  DAYS_EMPLOYED  ...  \\\n",
              "count               307511.000000  307511.000000  307511.000000  ...   \n",
              "mean                     0.020868   16036.995067   67724.742149  ...   \n",
              "std                      0.013831    4363.988632  139443.751806  ...   \n",
              "min                      0.000290    7489.000000       0.000000  ...   \n",
              "25%                      0.010006   12413.000000     933.000000  ...   \n",
              "50%                      0.018850   15750.000000    2219.000000  ...   \n",
              "75%                      0.028663   19682.000000    5707.000000  ...   \n",
              "max                      0.072508   25229.000000  365243.000000  ...   \n",
              "\n",
              "       FLAG_DOCUMENT_18  FLAG_DOCUMENT_19  FLAG_DOCUMENT_20  FLAG_DOCUMENT_21  \\\n",
              "count     307511.000000     307511.000000     307511.000000     307511.000000   \n",
              "mean           0.008130          0.000595          0.000507          0.000335   \n",
              "std            0.089798          0.024387          0.022518          0.018299   \n",
              "min            0.000000          0.000000          0.000000          0.000000   \n",
              "25%            0.000000          0.000000          0.000000          0.000000   \n",
              "50%            0.000000          0.000000          0.000000          0.000000   \n",
              "75%            0.000000          0.000000          0.000000          0.000000   \n",
              "max            1.000000          1.000000          1.000000          1.000000   \n",
              "\n",
              "       AMT_REQ_CREDIT_BUREAU_HOUR  AMT_REQ_CREDIT_BUREAU_DAY  \\\n",
              "count               265992.000000              265992.000000   \n",
              "mean                     0.006402                   0.007000   \n",
              "std                      0.083849                   0.110757   \n",
              "min                      0.000000                   0.000000   \n",
              "25%                      0.000000                   0.000000   \n",
              "50%                      0.000000                   0.000000   \n",
              "75%                      0.000000                   0.000000   \n",
              "max                      4.000000                   9.000000   \n",
              "\n",
              "       AMT_REQ_CREDIT_BUREAU_WEEK  AMT_REQ_CREDIT_BUREAU_MON  \\\n",
              "count               265992.000000              265992.000000   \n",
              "mean                     0.034362                   0.267395   \n",
              "std                      0.204685                   0.916002   \n",
              "min                      0.000000                   0.000000   \n",
              "25%                      0.000000                   0.000000   \n",
              "50%                      0.000000                   0.000000   \n",
              "75%                      0.000000                   0.000000   \n",
              "max                      8.000000                  27.000000   \n",
              "\n",
              "       AMT_REQ_CREDIT_BUREAU_QRT  AMT_REQ_CREDIT_BUREAU_YEAR  \n",
              "count              265992.000000               265992.000000  \n",
              "mean                    0.265474                    1.899974  \n",
              "std                     0.794056                    1.869295  \n",
              "min                     0.000000                    0.000000  \n",
              "25%                     0.000000                    0.000000  \n",
              "50%                     0.000000                    1.000000  \n",
              "75%                     0.000000                    3.000000  \n",
              "max                   261.000000                   25.000000  \n",
              "\n",
              "[8 rows x 61 columns]"
            ],
            "text/html": [
              "\n",
              "  <div id=\"df-d4b3c6d7-061e-415b-b39b-184e2fb2494e\">\n",
              "    <div class=\"colab-df-container\">\n",
              "      <div>\n",
              "<style scoped>\n",
              "    .dataframe tbody tr th:only-of-type {\n",
              "        vertical-align: middle;\n",
              "    }\n",
              "\n",
              "    .dataframe tbody tr th {\n",
              "        vertical-align: top;\n",
              "    }\n",
              "\n",
              "    .dataframe thead th {\n",
              "        text-align: right;\n",
              "    }\n",
              "</style>\n",
              "<table border=\"1\" class=\"dataframe\">\n",
              "  <thead>\n",
              "    <tr style=\"text-align: right;\">\n",
              "      <th></th>\n",
              "      <th>SK_ID_CURR</th>\n",
              "      <th>TARGET</th>\n",
              "      <th>CNT_CHILDREN</th>\n",
              "      <th>AMT_INCOME_TOTAL</th>\n",
              "      <th>AMT_CREDIT</th>\n",
              "      <th>AMT_ANNUITY</th>\n",
              "      <th>AMT_GOODS_PRICE</th>\n",
              "      <th>REGION_POPULATION_RELATIVE</th>\n",
              "      <th>DAYS_BIRTH</th>\n",
              "      <th>DAYS_EMPLOYED</th>\n",
              "      <th>...</th>\n",
              "      <th>FLAG_DOCUMENT_18</th>\n",
              "      <th>FLAG_DOCUMENT_19</th>\n",
              "      <th>FLAG_DOCUMENT_20</th>\n",
              "      <th>FLAG_DOCUMENT_21</th>\n",
              "      <th>AMT_REQ_CREDIT_BUREAU_HOUR</th>\n",
              "      <th>AMT_REQ_CREDIT_BUREAU_DAY</th>\n",
              "      <th>AMT_REQ_CREDIT_BUREAU_WEEK</th>\n",
              "      <th>AMT_REQ_CREDIT_BUREAU_MON</th>\n",
              "      <th>AMT_REQ_CREDIT_BUREAU_QRT</th>\n",
              "      <th>AMT_REQ_CREDIT_BUREAU_YEAR</th>\n",
              "    </tr>\n",
              "  </thead>\n",
              "  <tbody>\n",
              "    <tr>\n",
              "      <th>count</th>\n",
              "      <td>307511.000000</td>\n",
              "      <td>307511.000000</td>\n",
              "      <td>307511.000000</td>\n",
              "      <td>3.075110e+05</td>\n",
              "      <td>3.075110e+05</td>\n",
              "      <td>307499.000000</td>\n",
              "      <td>3.072330e+05</td>\n",
              "      <td>307511.000000</td>\n",
              "      <td>307511.000000</td>\n",
              "      <td>307511.000000</td>\n",
              "      <td>...</td>\n",
              "      <td>307511.000000</td>\n",
              "      <td>307511.000000</td>\n",
              "      <td>307511.000000</td>\n",
              "      <td>307511.000000</td>\n",
              "      <td>265992.000000</td>\n",
              "      <td>265992.000000</td>\n",
              "      <td>265992.000000</td>\n",
              "      <td>265992.000000</td>\n",
              "      <td>265992.000000</td>\n",
              "      <td>265992.000000</td>\n",
              "    </tr>\n",
              "    <tr>\n",
              "      <th>mean</th>\n",
              "      <td>278180.518577</td>\n",
              "      <td>0.080729</td>\n",
              "      <td>0.417052</td>\n",
              "      <td>1.687979e+05</td>\n",
              "      <td>5.990260e+05</td>\n",
              "      <td>27108.573909</td>\n",
              "      <td>5.383962e+05</td>\n",
              "      <td>0.020868</td>\n",
              "      <td>16036.995067</td>\n",
              "      <td>67724.742149</td>\n",
              "      <td>...</td>\n",
              "      <td>0.008130</td>\n",
              "      <td>0.000595</td>\n",
              "      <td>0.000507</td>\n",
              "      <td>0.000335</td>\n",
              "      <td>0.006402</td>\n",
              "      <td>0.007000</td>\n",
              "      <td>0.034362</td>\n",
              "      <td>0.267395</td>\n",
              "      <td>0.265474</td>\n",
              "      <td>1.899974</td>\n",
              "    </tr>\n",
              "    <tr>\n",
              "      <th>std</th>\n",
              "      <td>102790.175348</td>\n",
              "      <td>0.272419</td>\n",
              "      <td>0.722121</td>\n",
              "      <td>2.371231e+05</td>\n",
              "      <td>4.024908e+05</td>\n",
              "      <td>14493.737315</td>\n",
              "      <td>3.694465e+05</td>\n",
              "      <td>0.013831</td>\n",
              "      <td>4363.988632</td>\n",
              "      <td>139443.751806</td>\n",
              "      <td>...</td>\n",
              "      <td>0.089798</td>\n",
              "      <td>0.024387</td>\n",
              "      <td>0.022518</td>\n",
              "      <td>0.018299</td>\n",
              "      <td>0.083849</td>\n",
              "      <td>0.110757</td>\n",
              "      <td>0.204685</td>\n",
              "      <td>0.916002</td>\n",
              "      <td>0.794056</td>\n",
              "      <td>1.869295</td>\n",
              "    </tr>\n",
              "    <tr>\n",
              "      <th>min</th>\n",
              "      <td>100002.000000</td>\n",
              "      <td>0.000000</td>\n",
              "      <td>0.000000</td>\n",
              "      <td>2.565000e+04</td>\n",
              "      <td>4.500000e+04</td>\n",
              "      <td>1615.500000</td>\n",
              "      <td>4.050000e+04</td>\n",
              "      <td>0.000290</td>\n",
              "      <td>7489.000000</td>\n",
              "      <td>0.000000</td>\n",
              "      <td>...</td>\n",
              "      <td>0.000000</td>\n",
              "      <td>0.000000</td>\n",
              "      <td>0.000000</td>\n",
              "      <td>0.000000</td>\n",
              "      <td>0.000000</td>\n",
              "      <td>0.000000</td>\n",
              "      <td>0.000000</td>\n",
              "      <td>0.000000</td>\n",
              "      <td>0.000000</td>\n",
              "      <td>0.000000</td>\n",
              "    </tr>\n",
              "    <tr>\n",
              "      <th>25%</th>\n",
              "      <td>189145.500000</td>\n",
              "      <td>0.000000</td>\n",
              "      <td>0.000000</td>\n",
              "      <td>1.125000e+05</td>\n",
              "      <td>2.700000e+05</td>\n",
              "      <td>16524.000000</td>\n",
              "      <td>2.385000e+05</td>\n",
              "      <td>0.010006</td>\n",
              "      <td>12413.000000</td>\n",
              "      <td>933.000000</td>\n",
              "      <td>...</td>\n",
              "      <td>0.000000</td>\n",
              "      <td>0.000000</td>\n",
              "      <td>0.000000</td>\n",
              "      <td>0.000000</td>\n",
              "      <td>0.000000</td>\n",
              "      <td>0.000000</td>\n",
              "      <td>0.000000</td>\n",
              "      <td>0.000000</td>\n",
              "      <td>0.000000</td>\n",
              "      <td>0.000000</td>\n",
              "    </tr>\n",
              "    <tr>\n",
              "      <th>50%</th>\n",
              "      <td>278202.000000</td>\n",
              "      <td>0.000000</td>\n",
              "      <td>0.000000</td>\n",
              "      <td>1.471500e+05</td>\n",
              "      <td>5.135310e+05</td>\n",
              "      <td>24903.000000</td>\n",
              "      <td>4.500000e+05</td>\n",
              "      <td>0.018850</td>\n",
              "      <td>15750.000000</td>\n",
              "      <td>2219.000000</td>\n",
              "      <td>...</td>\n",
              "      <td>0.000000</td>\n",
              "      <td>0.000000</td>\n",
              "      <td>0.000000</td>\n",
              "      <td>0.000000</td>\n",
              "      <td>0.000000</td>\n",
              "      <td>0.000000</td>\n",
              "      <td>0.000000</td>\n",
              "      <td>0.000000</td>\n",
              "      <td>0.000000</td>\n",
              "      <td>1.000000</td>\n",
              "    </tr>\n",
              "    <tr>\n",
              "      <th>75%</th>\n",
              "      <td>367142.500000</td>\n",
              "      <td>0.000000</td>\n",
              "      <td>1.000000</td>\n",
              "      <td>2.025000e+05</td>\n",
              "      <td>8.086500e+05</td>\n",
              "      <td>34596.000000</td>\n",
              "      <td>6.795000e+05</td>\n",
              "      <td>0.028663</td>\n",
              "      <td>19682.000000</td>\n",
              "      <td>5707.000000</td>\n",
              "      <td>...</td>\n",
              "      <td>0.000000</td>\n",
              "      <td>0.000000</td>\n",
              "      <td>0.000000</td>\n",
              "      <td>0.000000</td>\n",
              "      <td>0.000000</td>\n",
              "      <td>0.000000</td>\n",
              "      <td>0.000000</td>\n",
              "      <td>0.000000</td>\n",
              "      <td>0.000000</td>\n",
              "      <td>3.000000</td>\n",
              "    </tr>\n",
              "    <tr>\n",
              "      <th>max</th>\n",
              "      <td>456255.000000</td>\n",
              "      <td>1.000000</td>\n",
              "      <td>19.000000</td>\n",
              "      <td>1.170000e+08</td>\n",
              "      <td>4.050000e+06</td>\n",
              "      <td>258025.500000</td>\n",
              "      <td>4.050000e+06</td>\n",
              "      <td>0.072508</td>\n",
              "      <td>25229.000000</td>\n",
              "      <td>365243.000000</td>\n",
              "      <td>...</td>\n",
              "      <td>1.000000</td>\n",
              "      <td>1.000000</td>\n",
              "      <td>1.000000</td>\n",
              "      <td>1.000000</td>\n",
              "      <td>4.000000</td>\n",
              "      <td>9.000000</td>\n",
              "      <td>8.000000</td>\n",
              "      <td>27.000000</td>\n",
              "      <td>261.000000</td>\n",
              "      <td>25.000000</td>\n",
              "    </tr>\n",
              "  </tbody>\n",
              "</table>\n",
              "<p>8 rows × 61 columns</p>\n",
              "</div>\n",
              "      <button class=\"colab-df-convert\" onclick=\"convertToInteractive('df-d4b3c6d7-061e-415b-b39b-184e2fb2494e')\"\n",
              "              title=\"Convert this dataframe to an interactive table.\"\n",
              "              style=\"display:none;\">\n",
              "        \n",
              "  <svg xmlns=\"http://www.w3.org/2000/svg\" height=\"24px\"viewBox=\"0 0 24 24\"\n",
              "       width=\"24px\">\n",
              "    <path d=\"M0 0h24v24H0V0z\" fill=\"none\"/>\n",
              "    <path d=\"M18.56 5.44l.94 2.06.94-2.06 2.06-.94-2.06-.94-.94-2.06-.94 2.06-2.06.94zm-11 1L8.5 8.5l.94-2.06 2.06-.94-2.06-.94L8.5 2.5l-.94 2.06-2.06.94zm10 10l.94 2.06.94-2.06 2.06-.94-2.06-.94-.94-2.06-.94 2.06-2.06.94z\"/><path d=\"M17.41 7.96l-1.37-1.37c-.4-.4-.92-.59-1.43-.59-.52 0-1.04.2-1.43.59L10.3 9.45l-7.72 7.72c-.78.78-.78 2.05 0 2.83L4 21.41c.39.39.9.59 1.41.59.51 0 1.02-.2 1.41-.59l7.78-7.78 2.81-2.81c.8-.78.8-2.07 0-2.86zM5.41 20L4 18.59l7.72-7.72 1.47 1.35L5.41 20z\"/>\n",
              "  </svg>\n",
              "      </button>\n",
              "      \n",
              "  <style>\n",
              "    .colab-df-container {\n",
              "      display:flex;\n",
              "      flex-wrap:wrap;\n",
              "      gap: 12px;\n",
              "    }\n",
              "\n",
              "    .colab-df-convert {\n",
              "      background-color: #E8F0FE;\n",
              "      border: none;\n",
              "      border-radius: 50%;\n",
              "      cursor: pointer;\n",
              "      display: none;\n",
              "      fill: #1967D2;\n",
              "      height: 32px;\n",
              "      padding: 0 0 0 0;\n",
              "      width: 32px;\n",
              "    }\n",
              "\n",
              "    .colab-df-convert:hover {\n",
              "      background-color: #E2EBFA;\n",
              "      box-shadow: 0px 1px 2px rgba(60, 64, 67, 0.3), 0px 1px 3px 1px rgba(60, 64, 67, 0.15);\n",
              "      fill: #174EA6;\n",
              "    }\n",
              "\n",
              "    [theme=dark] .colab-df-convert {\n",
              "      background-color: #3B4455;\n",
              "      fill: #D2E3FC;\n",
              "    }\n",
              "\n",
              "    [theme=dark] .colab-df-convert:hover {\n",
              "      background-color: #434B5C;\n",
              "      box-shadow: 0px 1px 3px 1px rgba(0, 0, 0, 0.15);\n",
              "      filter: drop-shadow(0px 1px 2px rgba(0, 0, 0, 0.3));\n",
              "      fill: #FFFFFF;\n",
              "    }\n",
              "  </style>\n",
              "\n",
              "      <script>\n",
              "        const buttonEl =\n",
              "          document.querySelector('#df-d4b3c6d7-061e-415b-b39b-184e2fb2494e button.colab-df-convert');\n",
              "        buttonEl.style.display =\n",
              "          google.colab.kernel.accessAllowed ? 'block' : 'none';\n",
              "\n",
              "        async function convertToInteractive(key) {\n",
              "          const element = document.querySelector('#df-d4b3c6d7-061e-415b-b39b-184e2fb2494e');\n",
              "          const dataTable =\n",
              "            await google.colab.kernel.invokeFunction('convertToInteractive',\n",
              "                                                     [key], {});\n",
              "          if (!dataTable) return;\n",
              "\n",
              "          const docLinkHtml = 'Like what you see? Visit the ' +\n",
              "            '<a target=\"_blank\" href=https://colab.research.google.com/notebooks/data_table.ipynb>data table notebook</a>'\n",
              "            + ' to learn more about interactive tables.';\n",
              "          element.innerHTML = '';\n",
              "          dataTable['output_type'] = 'display_data';\n",
              "          await google.colab.output.renderOutput(dataTable, element);\n",
              "          const docLink = document.createElement('div');\n",
              "          docLink.innerHTML = docLinkHtml;\n",
              "          element.appendChild(docLink);\n",
              "        }\n",
              "      </script>\n",
              "    </div>\n",
              "  </div>\n",
              "  "
            ]
          },
          "metadata": {},
          "execution_count": 22
        }
      ]
    },
    {
      "cell_type": "code",
      "source": [
        "# Now we will remove negative value of new_pre_app_data"
      ],
      "metadata": {
        "id": "umRWx7gt8CPA"
      },
      "execution_count": null,
      "outputs": []
    },
    {
      "cell_type": "code",
      "source": [
        "negative_new_pre_app_data=[col for col in new_pre_app_data if col.startswith('DAYS')]\n",
        "negative_new_pre_app_data"
      ],
      "metadata": {
        "colab": {
          "base_uri": "https://localhost:8080/"
        },
        "id": "Wl3DW3ZY8QcH",
        "outputId": "88e714d2-6b5a-4531-d211-47910f20e38e"
      },
      "execution_count": 23,
      "outputs": [
        {
          "output_type": "execute_result",
          "data": {
            "text/plain": [
              "['DAYS_DECISION']"
            ]
          },
          "metadata": {},
          "execution_count": 23
        }
      ]
    },
    {
      "cell_type": "code",
      "source": [
        "positive_new_pre_app_data=new_pre_app_data.copy()\n",
        "positive_new_pre_app_data[negative_new_pre_app_data]=abs(positive_new_pre_app_data[negative_new_pre_app_data])\n",
        "positive_new_pre_app_data.describe()"
      ],
      "metadata": {
        "colab": {
          "base_uri": "https://localhost:8080/",
          "height": 364
        },
        "id": "kT8nlqJ08hEO",
        "outputId": "5a968b9b-f35d-451d-b6d0-bd6274901871"
      },
      "execution_count": 24,
      "outputs": [
        {
          "output_type": "execute_result",
          "data": {
            "text/plain": [
              "         SK_ID_PREV    SK_ID_CURR   AMT_ANNUITY  AMT_APPLICATION  \\\n",
              "count  1.670214e+06  1.670214e+06  1.297979e+06     1.670214e+06   \n",
              "mean   1.923089e+06  2.783572e+05  1.595512e+04     1.752339e+05   \n",
              "std    5.325980e+05  1.028148e+05  1.478214e+04     2.927798e+05   \n",
              "min    1.000001e+06  1.000010e+05  0.000000e+00     0.000000e+00   \n",
              "25%    1.461857e+06  1.893290e+05  6.321780e+03     1.872000e+04   \n",
              "50%    1.923110e+06  2.787145e+05  1.125000e+04     7.104600e+04   \n",
              "75%    2.384280e+06  3.675140e+05  2.065842e+04     1.803600e+05   \n",
              "max    2.845382e+06  4.562550e+05  4.180581e+05     6.905160e+06   \n",
              "\n",
              "         AMT_CREDIT  AMT_GOODS_PRICE  HOUR_APPR_PROCESS_START  \\\n",
              "count  1.670213e+06     1.284699e+06             1.670214e+06   \n",
              "mean   1.961140e+05     2.278473e+05             1.248418e+01   \n",
              "std    3.185746e+05     3.153966e+05             3.334028e+00   \n",
              "min    0.000000e+00     0.000000e+00             0.000000e+00   \n",
              "25%    2.416050e+04     5.084100e+04             1.000000e+01   \n",
              "50%    8.054100e+04     1.123200e+05             1.200000e+01   \n",
              "75%    2.164185e+05     2.340000e+05             1.500000e+01   \n",
              "max    6.905160e+06     6.905160e+06             2.300000e+01   \n",
              "\n",
              "       NFLAG_LAST_APPL_IN_DAY  DAYS_DECISION  SELLERPLACE_AREA   CNT_PAYMENT  \n",
              "count            1.670214e+06   1.670214e+06      1.670214e+06  1.297984e+06  \n",
              "mean             9.964675e-01   8.806797e+02      3.139511e+02  1.605408e+01  \n",
              "std              5.932963e-02   7.790997e+02      7.127443e+03  1.456729e+01  \n",
              "min              0.000000e+00   1.000000e+00     -1.000000e+00  0.000000e+00  \n",
              "25%              1.000000e+00   2.800000e+02     -1.000000e+00  6.000000e+00  \n",
              "50%              1.000000e+00   5.810000e+02      3.000000e+00  1.200000e+01  \n",
              "75%              1.000000e+00   1.300000e+03      8.200000e+01  2.400000e+01  \n",
              "max              1.000000e+00   2.922000e+03      4.000000e+06  8.400000e+01  "
            ],
            "text/html": [
              "\n",
              "  <div id=\"df-daece526-7e12-4d93-9d68-2404ab9cf838\">\n",
              "    <div class=\"colab-df-container\">\n",
              "      <div>\n",
              "<style scoped>\n",
              "    .dataframe tbody tr th:only-of-type {\n",
              "        vertical-align: middle;\n",
              "    }\n",
              "\n",
              "    .dataframe tbody tr th {\n",
              "        vertical-align: top;\n",
              "    }\n",
              "\n",
              "    .dataframe thead th {\n",
              "        text-align: right;\n",
              "    }\n",
              "</style>\n",
              "<table border=\"1\" class=\"dataframe\">\n",
              "  <thead>\n",
              "    <tr style=\"text-align: right;\">\n",
              "      <th></th>\n",
              "      <th>SK_ID_PREV</th>\n",
              "      <th>SK_ID_CURR</th>\n",
              "      <th>AMT_ANNUITY</th>\n",
              "      <th>AMT_APPLICATION</th>\n",
              "      <th>AMT_CREDIT</th>\n",
              "      <th>AMT_GOODS_PRICE</th>\n",
              "      <th>HOUR_APPR_PROCESS_START</th>\n",
              "      <th>NFLAG_LAST_APPL_IN_DAY</th>\n",
              "      <th>DAYS_DECISION</th>\n",
              "      <th>SELLERPLACE_AREA</th>\n",
              "      <th>CNT_PAYMENT</th>\n",
              "    </tr>\n",
              "  </thead>\n",
              "  <tbody>\n",
              "    <tr>\n",
              "      <th>count</th>\n",
              "      <td>1.670214e+06</td>\n",
              "      <td>1.670214e+06</td>\n",
              "      <td>1.297979e+06</td>\n",
              "      <td>1.670214e+06</td>\n",
              "      <td>1.670213e+06</td>\n",
              "      <td>1.284699e+06</td>\n",
              "      <td>1.670214e+06</td>\n",
              "      <td>1.670214e+06</td>\n",
              "      <td>1.670214e+06</td>\n",
              "      <td>1.670214e+06</td>\n",
              "      <td>1.297984e+06</td>\n",
              "    </tr>\n",
              "    <tr>\n",
              "      <th>mean</th>\n",
              "      <td>1.923089e+06</td>\n",
              "      <td>2.783572e+05</td>\n",
              "      <td>1.595512e+04</td>\n",
              "      <td>1.752339e+05</td>\n",
              "      <td>1.961140e+05</td>\n",
              "      <td>2.278473e+05</td>\n",
              "      <td>1.248418e+01</td>\n",
              "      <td>9.964675e-01</td>\n",
              "      <td>8.806797e+02</td>\n",
              "      <td>3.139511e+02</td>\n",
              "      <td>1.605408e+01</td>\n",
              "    </tr>\n",
              "    <tr>\n",
              "      <th>std</th>\n",
              "      <td>5.325980e+05</td>\n",
              "      <td>1.028148e+05</td>\n",
              "      <td>1.478214e+04</td>\n",
              "      <td>2.927798e+05</td>\n",
              "      <td>3.185746e+05</td>\n",
              "      <td>3.153966e+05</td>\n",
              "      <td>3.334028e+00</td>\n",
              "      <td>5.932963e-02</td>\n",
              "      <td>7.790997e+02</td>\n",
              "      <td>7.127443e+03</td>\n",
              "      <td>1.456729e+01</td>\n",
              "    </tr>\n",
              "    <tr>\n",
              "      <th>min</th>\n",
              "      <td>1.000001e+06</td>\n",
              "      <td>1.000010e+05</td>\n",
              "      <td>0.000000e+00</td>\n",
              "      <td>0.000000e+00</td>\n",
              "      <td>0.000000e+00</td>\n",
              "      <td>0.000000e+00</td>\n",
              "      <td>0.000000e+00</td>\n",
              "      <td>0.000000e+00</td>\n",
              "      <td>1.000000e+00</td>\n",
              "      <td>-1.000000e+00</td>\n",
              "      <td>0.000000e+00</td>\n",
              "    </tr>\n",
              "    <tr>\n",
              "      <th>25%</th>\n",
              "      <td>1.461857e+06</td>\n",
              "      <td>1.893290e+05</td>\n",
              "      <td>6.321780e+03</td>\n",
              "      <td>1.872000e+04</td>\n",
              "      <td>2.416050e+04</td>\n",
              "      <td>5.084100e+04</td>\n",
              "      <td>1.000000e+01</td>\n",
              "      <td>1.000000e+00</td>\n",
              "      <td>2.800000e+02</td>\n",
              "      <td>-1.000000e+00</td>\n",
              "      <td>6.000000e+00</td>\n",
              "    </tr>\n",
              "    <tr>\n",
              "      <th>50%</th>\n",
              "      <td>1.923110e+06</td>\n",
              "      <td>2.787145e+05</td>\n",
              "      <td>1.125000e+04</td>\n",
              "      <td>7.104600e+04</td>\n",
              "      <td>8.054100e+04</td>\n",
              "      <td>1.123200e+05</td>\n",
              "      <td>1.200000e+01</td>\n",
              "      <td>1.000000e+00</td>\n",
              "      <td>5.810000e+02</td>\n",
              "      <td>3.000000e+00</td>\n",
              "      <td>1.200000e+01</td>\n",
              "    </tr>\n",
              "    <tr>\n",
              "      <th>75%</th>\n",
              "      <td>2.384280e+06</td>\n",
              "      <td>3.675140e+05</td>\n",
              "      <td>2.065842e+04</td>\n",
              "      <td>1.803600e+05</td>\n",
              "      <td>2.164185e+05</td>\n",
              "      <td>2.340000e+05</td>\n",
              "      <td>1.500000e+01</td>\n",
              "      <td>1.000000e+00</td>\n",
              "      <td>1.300000e+03</td>\n",
              "      <td>8.200000e+01</td>\n",
              "      <td>2.400000e+01</td>\n",
              "    </tr>\n",
              "    <tr>\n",
              "      <th>max</th>\n",
              "      <td>2.845382e+06</td>\n",
              "      <td>4.562550e+05</td>\n",
              "      <td>4.180581e+05</td>\n",
              "      <td>6.905160e+06</td>\n",
              "      <td>6.905160e+06</td>\n",
              "      <td>6.905160e+06</td>\n",
              "      <td>2.300000e+01</td>\n",
              "      <td>1.000000e+00</td>\n",
              "      <td>2.922000e+03</td>\n",
              "      <td>4.000000e+06</td>\n",
              "      <td>8.400000e+01</td>\n",
              "    </tr>\n",
              "  </tbody>\n",
              "</table>\n",
              "</div>\n",
              "      <button class=\"colab-df-convert\" onclick=\"convertToInteractive('df-daece526-7e12-4d93-9d68-2404ab9cf838')\"\n",
              "              title=\"Convert this dataframe to an interactive table.\"\n",
              "              style=\"display:none;\">\n",
              "        \n",
              "  <svg xmlns=\"http://www.w3.org/2000/svg\" height=\"24px\"viewBox=\"0 0 24 24\"\n",
              "       width=\"24px\">\n",
              "    <path d=\"M0 0h24v24H0V0z\" fill=\"none\"/>\n",
              "    <path d=\"M18.56 5.44l.94 2.06.94-2.06 2.06-.94-2.06-.94-.94-2.06-.94 2.06-2.06.94zm-11 1L8.5 8.5l.94-2.06 2.06-.94-2.06-.94L8.5 2.5l-.94 2.06-2.06.94zm10 10l.94 2.06.94-2.06 2.06-.94-2.06-.94-.94-2.06-.94 2.06-2.06.94z\"/><path d=\"M17.41 7.96l-1.37-1.37c-.4-.4-.92-.59-1.43-.59-.52 0-1.04.2-1.43.59L10.3 9.45l-7.72 7.72c-.78.78-.78 2.05 0 2.83L4 21.41c.39.39.9.59 1.41.59.51 0 1.02-.2 1.41-.59l7.78-7.78 2.81-2.81c.8-.78.8-2.07 0-2.86zM5.41 20L4 18.59l7.72-7.72 1.47 1.35L5.41 20z\"/>\n",
              "  </svg>\n",
              "      </button>\n",
              "      \n",
              "  <style>\n",
              "    .colab-df-container {\n",
              "      display:flex;\n",
              "      flex-wrap:wrap;\n",
              "      gap: 12px;\n",
              "    }\n",
              "\n",
              "    .colab-df-convert {\n",
              "      background-color: #E8F0FE;\n",
              "      border: none;\n",
              "      border-radius: 50%;\n",
              "      cursor: pointer;\n",
              "      display: none;\n",
              "      fill: #1967D2;\n",
              "      height: 32px;\n",
              "      padding: 0 0 0 0;\n",
              "      width: 32px;\n",
              "    }\n",
              "\n",
              "    .colab-df-convert:hover {\n",
              "      background-color: #E2EBFA;\n",
              "      box-shadow: 0px 1px 2px rgba(60, 64, 67, 0.3), 0px 1px 3px 1px rgba(60, 64, 67, 0.15);\n",
              "      fill: #174EA6;\n",
              "    }\n",
              "\n",
              "    [theme=dark] .colab-df-convert {\n",
              "      background-color: #3B4455;\n",
              "      fill: #D2E3FC;\n",
              "    }\n",
              "\n",
              "    [theme=dark] .colab-df-convert:hover {\n",
              "      background-color: #434B5C;\n",
              "      box-shadow: 0px 1px 3px 1px rgba(0, 0, 0, 0.15);\n",
              "      filter: drop-shadow(0px 1px 2px rgba(0, 0, 0, 0.3));\n",
              "      fill: #FFFFFF;\n",
              "    }\n",
              "  </style>\n",
              "\n",
              "      <script>\n",
              "        const buttonEl =\n",
              "          document.querySelector('#df-daece526-7e12-4d93-9d68-2404ab9cf838 button.colab-df-convert');\n",
              "        buttonEl.style.display =\n",
              "          google.colab.kernel.accessAllowed ? 'block' : 'none';\n",
              "\n",
              "        async function convertToInteractive(key) {\n",
              "          const element = document.querySelector('#df-daece526-7e12-4d93-9d68-2404ab9cf838');\n",
              "          const dataTable =\n",
              "            await google.colab.kernel.invokeFunction('convertToInteractive',\n",
              "                                                     [key], {});\n",
              "          if (!dataTable) return;\n",
              "\n",
              "          const docLinkHtml = 'Like what you see? Visit the ' +\n",
              "            '<a target=\"_blank\" href=https://colab.research.google.com/notebooks/data_table.ipynb>data table notebook</a>'\n",
              "            + ' to learn more about interactive tables.';\n",
              "          element.innerHTML = '';\n",
              "          dataTable['output_type'] = 'display_data';\n",
              "          await google.colab.output.renderOutput(dataTable, element);\n",
              "          const docLink = document.createElement('div');\n",
              "          docLink.innerHTML = docLinkHtml;\n",
              "          element.appendChild(docLink);\n",
              "        }\n",
              "      </script>\n",
              "    </div>\n",
              "  </div>\n",
              "  "
            ]
          },
          "metadata": {},
          "execution_count": 24
        }
      ]
    },
    {
      "cell_type": "markdown",
      "source": [
        "**Key points**\n",
        "\n",
        "* In the new_app_data we have  ['DAYS_BIRTH',\n",
        " 'DAYS_EMPLOYED',\n",
        " 'DAYS_REGISTRATION',\n",
        " 'DAYS_ID_PUBLISH',\n",
        " 'DAYS_LAST_PHONE_CHANGE'] columns which have negative value or error.\n",
        "\n",
        "* I the new_pre_app_data we have only one ['DAYS_DECISION'] column which have negative or error.\n",
        "\n",
        "* From both the data error are removed and we have two data which is now ready for analysis."
      ],
      "metadata": {
        "id": "U_1mbS_V9UZH"
      }
    },
    {
      "cell_type": "code",
      "source": [
        "final_app_data=positive_new_app_data.copy()\n",
        "final_pre_data=positive_new_pre_app_data.copy()"
      ],
      "metadata": {
        "id": "M1ATNwuoPS_f"
      },
      "execution_count": 25,
      "outputs": []
    },
    {
      "cell_type": "markdown",
      "metadata": {
        "id": "vzFPRJyORdZD"
      },
      "source": [
        "# **DATA ANALYSIS**"
      ]
    },
    {
      "cell_type": "markdown",
      "metadata": {
        "id": "En8wBZkoUdGs"
      },
      "source": [
        ">>**Firstly analysing final_app_data**"
      ]
    },
    {
      "cell_type": "code",
      "execution_count": 26,
      "metadata": {
        "colab": {
          "base_uri": "https://localhost:8080/",
          "height": 299
        },
        "id": "hhWMXeJbUmKt",
        "outputId": "42d21409-9c48-4791-9f0e-49b7a1e11d86"
      },
      "outputs": [
        {
          "output_type": "execute_result",
          "data": {
            "text/plain": [
              "   SK_ID_CURR  TARGET NAME_CONTRACT_TYPE CODE_GENDER FLAG_OWN_CAR  \\\n",
              "0      100002       1         Cash loans           M            N   \n",
              "1      100003       0         Cash loans           F            N   \n",
              "2      100004       0    Revolving loans           M            Y   \n",
              "3      100006       0         Cash loans           F            N   \n",
              "4      100007       0         Cash loans           M            N   \n",
              "\n",
              "  FLAG_OWN_REALTY  CNT_CHILDREN  AMT_INCOME_TOTAL  AMT_CREDIT  AMT_ANNUITY  \\\n",
              "0               Y             0          202500.0    406597.5      24700.5   \n",
              "1               N             0          270000.0   1293502.5      35698.5   \n",
              "2               Y             0           67500.0    135000.0       6750.0   \n",
              "3               Y             0          135000.0    312682.5      29686.5   \n",
              "4               Y             0          121500.0    513000.0      21865.5   \n",
              "\n",
              "   ...  FLAG_DOCUMENT_18 FLAG_DOCUMENT_19 FLAG_DOCUMENT_20 FLAG_DOCUMENT_21  \\\n",
              "0  ...                 0                0                0                0   \n",
              "1  ...                 0                0                0                0   \n",
              "2  ...                 0                0                0                0   \n",
              "3  ...                 0                0                0                0   \n",
              "4  ...                 0                0                0                0   \n",
              "\n",
              "  AMT_REQ_CREDIT_BUREAU_HOUR AMT_REQ_CREDIT_BUREAU_DAY  \\\n",
              "0                        0.0                       0.0   \n",
              "1                        0.0                       0.0   \n",
              "2                        0.0                       0.0   \n",
              "3                        NaN                       NaN   \n",
              "4                        0.0                       0.0   \n",
              "\n",
              "   AMT_REQ_CREDIT_BUREAU_WEEK  AMT_REQ_CREDIT_BUREAU_MON  \\\n",
              "0                         0.0                        0.0   \n",
              "1                         0.0                        0.0   \n",
              "2                         0.0                        0.0   \n",
              "3                         NaN                        NaN   \n",
              "4                         0.0                        0.0   \n",
              "\n",
              "   AMT_REQ_CREDIT_BUREAU_QRT  AMT_REQ_CREDIT_BUREAU_YEAR  \n",
              "0                        0.0                         1.0  \n",
              "1                        0.0                         0.0  \n",
              "2                        0.0                         0.0  \n",
              "3                        NaN                         NaN  \n",
              "4                        0.0                         0.0  \n",
              "\n",
              "[5 rows x 73 columns]"
            ],
            "text/html": [
              "\n",
              "  <div id=\"df-5d6f700b-0435-4e95-9a57-2688e44b9cca\">\n",
              "    <div class=\"colab-df-container\">\n",
              "      <div>\n",
              "<style scoped>\n",
              "    .dataframe tbody tr th:only-of-type {\n",
              "        vertical-align: middle;\n",
              "    }\n",
              "\n",
              "    .dataframe tbody tr th {\n",
              "        vertical-align: top;\n",
              "    }\n",
              "\n",
              "    .dataframe thead th {\n",
              "        text-align: right;\n",
              "    }\n",
              "</style>\n",
              "<table border=\"1\" class=\"dataframe\">\n",
              "  <thead>\n",
              "    <tr style=\"text-align: right;\">\n",
              "      <th></th>\n",
              "      <th>SK_ID_CURR</th>\n",
              "      <th>TARGET</th>\n",
              "      <th>NAME_CONTRACT_TYPE</th>\n",
              "      <th>CODE_GENDER</th>\n",
              "      <th>FLAG_OWN_CAR</th>\n",
              "      <th>FLAG_OWN_REALTY</th>\n",
              "      <th>CNT_CHILDREN</th>\n",
              "      <th>AMT_INCOME_TOTAL</th>\n",
              "      <th>AMT_CREDIT</th>\n",
              "      <th>AMT_ANNUITY</th>\n",
              "      <th>...</th>\n",
              "      <th>FLAG_DOCUMENT_18</th>\n",
              "      <th>FLAG_DOCUMENT_19</th>\n",
              "      <th>FLAG_DOCUMENT_20</th>\n",
              "      <th>FLAG_DOCUMENT_21</th>\n",
              "      <th>AMT_REQ_CREDIT_BUREAU_HOUR</th>\n",
              "      <th>AMT_REQ_CREDIT_BUREAU_DAY</th>\n",
              "      <th>AMT_REQ_CREDIT_BUREAU_WEEK</th>\n",
              "      <th>AMT_REQ_CREDIT_BUREAU_MON</th>\n",
              "      <th>AMT_REQ_CREDIT_BUREAU_QRT</th>\n",
              "      <th>AMT_REQ_CREDIT_BUREAU_YEAR</th>\n",
              "    </tr>\n",
              "  </thead>\n",
              "  <tbody>\n",
              "    <tr>\n",
              "      <th>0</th>\n",
              "      <td>100002</td>\n",
              "      <td>1</td>\n",
              "      <td>Cash loans</td>\n",
              "      <td>M</td>\n",
              "      <td>N</td>\n",
              "      <td>Y</td>\n",
              "      <td>0</td>\n",
              "      <td>202500.0</td>\n",
              "      <td>406597.5</td>\n",
              "      <td>24700.5</td>\n",
              "      <td>...</td>\n",
              "      <td>0</td>\n",
              "      <td>0</td>\n",
              "      <td>0</td>\n",
              "      <td>0</td>\n",
              "      <td>0.0</td>\n",
              "      <td>0.0</td>\n",
              "      <td>0.0</td>\n",
              "      <td>0.0</td>\n",
              "      <td>0.0</td>\n",
              "      <td>1.0</td>\n",
              "    </tr>\n",
              "    <tr>\n",
              "      <th>1</th>\n",
              "      <td>100003</td>\n",
              "      <td>0</td>\n",
              "      <td>Cash loans</td>\n",
              "      <td>F</td>\n",
              "      <td>N</td>\n",
              "      <td>N</td>\n",
              "      <td>0</td>\n",
              "      <td>270000.0</td>\n",
              "      <td>1293502.5</td>\n",
              "      <td>35698.5</td>\n",
              "      <td>...</td>\n",
              "      <td>0</td>\n",
              "      <td>0</td>\n",
              "      <td>0</td>\n",
              "      <td>0</td>\n",
              "      <td>0.0</td>\n",
              "      <td>0.0</td>\n",
              "      <td>0.0</td>\n",
              "      <td>0.0</td>\n",
              "      <td>0.0</td>\n",
              "      <td>0.0</td>\n",
              "    </tr>\n",
              "    <tr>\n",
              "      <th>2</th>\n",
              "      <td>100004</td>\n",
              "      <td>0</td>\n",
              "      <td>Revolving loans</td>\n",
              "      <td>M</td>\n",
              "      <td>Y</td>\n",
              "      <td>Y</td>\n",
              "      <td>0</td>\n",
              "      <td>67500.0</td>\n",
              "      <td>135000.0</td>\n",
              "      <td>6750.0</td>\n",
              "      <td>...</td>\n",
              "      <td>0</td>\n",
              "      <td>0</td>\n",
              "      <td>0</td>\n",
              "      <td>0</td>\n",
              "      <td>0.0</td>\n",
              "      <td>0.0</td>\n",
              "      <td>0.0</td>\n",
              "      <td>0.0</td>\n",
              "      <td>0.0</td>\n",
              "      <td>0.0</td>\n",
              "    </tr>\n",
              "    <tr>\n",
              "      <th>3</th>\n",
              "      <td>100006</td>\n",
              "      <td>0</td>\n",
              "      <td>Cash loans</td>\n",
              "      <td>F</td>\n",
              "      <td>N</td>\n",
              "      <td>Y</td>\n",
              "      <td>0</td>\n",
              "      <td>135000.0</td>\n",
              "      <td>312682.5</td>\n",
              "      <td>29686.5</td>\n",
              "      <td>...</td>\n",
              "      <td>0</td>\n",
              "      <td>0</td>\n",
              "      <td>0</td>\n",
              "      <td>0</td>\n",
              "      <td>NaN</td>\n",
              "      <td>NaN</td>\n",
              "      <td>NaN</td>\n",
              "      <td>NaN</td>\n",
              "      <td>NaN</td>\n",
              "      <td>NaN</td>\n",
              "    </tr>\n",
              "    <tr>\n",
              "      <th>4</th>\n",
              "      <td>100007</td>\n",
              "      <td>0</td>\n",
              "      <td>Cash loans</td>\n",
              "      <td>M</td>\n",
              "      <td>N</td>\n",
              "      <td>Y</td>\n",
              "      <td>0</td>\n",
              "      <td>121500.0</td>\n",
              "      <td>513000.0</td>\n",
              "      <td>21865.5</td>\n",
              "      <td>...</td>\n",
              "      <td>0</td>\n",
              "      <td>0</td>\n",
              "      <td>0</td>\n",
              "      <td>0</td>\n",
              "      <td>0.0</td>\n",
              "      <td>0.0</td>\n",
              "      <td>0.0</td>\n",
              "      <td>0.0</td>\n",
              "      <td>0.0</td>\n",
              "      <td>0.0</td>\n",
              "    </tr>\n",
              "  </tbody>\n",
              "</table>\n",
              "<p>5 rows × 73 columns</p>\n",
              "</div>\n",
              "      <button class=\"colab-df-convert\" onclick=\"convertToInteractive('df-5d6f700b-0435-4e95-9a57-2688e44b9cca')\"\n",
              "              title=\"Convert this dataframe to an interactive table.\"\n",
              "              style=\"display:none;\">\n",
              "        \n",
              "  <svg xmlns=\"http://www.w3.org/2000/svg\" height=\"24px\"viewBox=\"0 0 24 24\"\n",
              "       width=\"24px\">\n",
              "    <path d=\"M0 0h24v24H0V0z\" fill=\"none\"/>\n",
              "    <path d=\"M18.56 5.44l.94 2.06.94-2.06 2.06-.94-2.06-.94-.94-2.06-.94 2.06-2.06.94zm-11 1L8.5 8.5l.94-2.06 2.06-.94-2.06-.94L8.5 2.5l-.94 2.06-2.06.94zm10 10l.94 2.06.94-2.06 2.06-.94-2.06-.94-.94-2.06-.94 2.06-2.06.94z\"/><path d=\"M17.41 7.96l-1.37-1.37c-.4-.4-.92-.59-1.43-.59-.52 0-1.04.2-1.43.59L10.3 9.45l-7.72 7.72c-.78.78-.78 2.05 0 2.83L4 21.41c.39.39.9.59 1.41.59.51 0 1.02-.2 1.41-.59l7.78-7.78 2.81-2.81c.8-.78.8-2.07 0-2.86zM5.41 20L4 18.59l7.72-7.72 1.47 1.35L5.41 20z\"/>\n",
              "  </svg>\n",
              "      </button>\n",
              "      \n",
              "  <style>\n",
              "    .colab-df-container {\n",
              "      display:flex;\n",
              "      flex-wrap:wrap;\n",
              "      gap: 12px;\n",
              "    }\n",
              "\n",
              "    .colab-df-convert {\n",
              "      background-color: #E8F0FE;\n",
              "      border: none;\n",
              "      border-radius: 50%;\n",
              "      cursor: pointer;\n",
              "      display: none;\n",
              "      fill: #1967D2;\n",
              "      height: 32px;\n",
              "      padding: 0 0 0 0;\n",
              "      width: 32px;\n",
              "    }\n",
              "\n",
              "    .colab-df-convert:hover {\n",
              "      background-color: #E2EBFA;\n",
              "      box-shadow: 0px 1px 2px rgba(60, 64, 67, 0.3), 0px 1px 3px 1px rgba(60, 64, 67, 0.15);\n",
              "      fill: #174EA6;\n",
              "    }\n",
              "\n",
              "    [theme=dark] .colab-df-convert {\n",
              "      background-color: #3B4455;\n",
              "      fill: #D2E3FC;\n",
              "    }\n",
              "\n",
              "    [theme=dark] .colab-df-convert:hover {\n",
              "      background-color: #434B5C;\n",
              "      box-shadow: 0px 1px 3px 1px rgba(0, 0, 0, 0.15);\n",
              "      filter: drop-shadow(0px 1px 2px rgba(0, 0, 0, 0.3));\n",
              "      fill: #FFFFFF;\n",
              "    }\n",
              "  </style>\n",
              "\n",
              "      <script>\n",
              "        const buttonEl =\n",
              "          document.querySelector('#df-5d6f700b-0435-4e95-9a57-2688e44b9cca button.colab-df-convert');\n",
              "        buttonEl.style.display =\n",
              "          google.colab.kernel.accessAllowed ? 'block' : 'none';\n",
              "\n",
              "        async function convertToInteractive(key) {\n",
              "          const element = document.querySelector('#df-5d6f700b-0435-4e95-9a57-2688e44b9cca');\n",
              "          const dataTable =\n",
              "            await google.colab.kernel.invokeFunction('convertToInteractive',\n",
              "                                                     [key], {});\n",
              "          if (!dataTable) return;\n",
              "\n",
              "          const docLinkHtml = 'Like what you see? Visit the ' +\n",
              "            '<a target=\"_blank\" href=https://colab.research.google.com/notebooks/data_table.ipynb>data table notebook</a>'\n",
              "            + ' to learn more about interactive tables.';\n",
              "          element.innerHTML = '';\n",
              "          dataTable['output_type'] = 'display_data';\n",
              "          await google.colab.output.renderOutput(dataTable, element);\n",
              "          const docLink = document.createElement('div');\n",
              "          docLink.innerHTML = docLinkHtml;\n",
              "          element.appendChild(docLink);\n",
              "        }\n",
              "      </script>\n",
              "    </div>\n",
              "  </div>\n",
              "  "
            ]
          },
          "metadata": {},
          "execution_count": 26
        }
      ],
      "source": [
        "final_app_data.head()"
      ]
    },
    {
      "cell_type": "markdown",
      "metadata": {
        "id": "lt3j8lOSVy7D"
      },
      "source": [
        "## key points\n",
        "\n",
        "* In this we are going to analyse final_app_data and get some information about the data abailable.\n",
        "\n",
        "* Firstly we will analyse the float after that int and then object.\n",
        "\n"
      ]
    },
    {
      "cell_type": "code",
      "source": [
        "# CNT_FAM_MEMBERS\n",
        "\n",
        "final_app_data['CNT_FAM_MEMBERS'].describe()\n"
      ],
      "metadata": {
        "colab": {
          "base_uri": "https://localhost:8080/"
        },
        "id": "K6U0WrqxQQvr",
        "outputId": "d0cba199-b55e-4ce8-fd03-cd2c385053c1"
      },
      "execution_count": 27,
      "outputs": [
        {
          "output_type": "execute_result",
          "data": {
            "text/plain": [
              "count    307509.000000\n",
              "mean          2.152665\n",
              "std           0.910682\n",
              "min           1.000000\n",
              "25%           2.000000\n",
              "50%           2.000000\n",
              "75%           3.000000\n",
              "max          20.000000\n",
              "Name: CNT_FAM_MEMBERS, dtype: float64"
            ]
          },
          "metadata": {},
          "execution_count": 27
        }
      ]
    },
    {
      "cell_type": "code",
      "source": [
        "plt.figure(figsize=(20,5))\n",
        "sns.boxplot(final_app_data['CNT_FAM_MEMBERS'])\n",
        "plt.show()"
      ],
      "metadata": {
        "colab": {
          "base_uri": "https://localhost:8080/",
          "height": 335
        },
        "id": "jsSX2db9UK5W",
        "outputId": "ea6ad1ac-ca98-4ba8-f353-119251036c98"
      },
      "execution_count": 28,
      "outputs": [
        {
          "output_type": "display_data",
          "data": {
            "text/plain": [
              "<Figure size 1440x360 with 1 Axes>"
            ],
            "image/png": "[encoded data removed]"
          },
          "metadata": {
            "needs_background": "light"
          }
        }
      ]
    },
    {
      "cell_type": "markdown",
      "source": [
        "**key points**\n",
        "\n",
        "* mean and median of CNT_FAM_MEMBERS are 2.14 and 1.\n",
        "*so we will conside lower value.\n"
      ],
      "metadata": {
        "id": "ZuH0lOgxUx8E"
      }
    },
    {
      "cell_type": "code",
      "source": [
        "# ATM_ANNUITY\n",
        "\n",
        "final_app_data['AMT_ANNUITY'].describe()"
      ],
      "metadata": {
        "colab": {
          "base_uri": "https://localhost:8080/"
        },
        "id": "1EzSYMvvUjYu",
        "outputId": "e9f75ecb-19f3-4352-da92-1825fa6ae9cd"
      },
      "execution_count": 29,
      "outputs": [
        {
          "output_type": "execute_result",
          "data": {
            "text/plain": [
              "count    307499.000000\n",
              "mean      27108.573909\n",
              "std       14493.737315\n",
              "min        1615.500000\n",
              "25%       16524.000000\n",
              "50%       24903.000000\n",
              "75%       34596.000000\n",
              "max      258025.500000\n",
              "Name: AMT_ANNUITY, dtype: float64"
            ]
          },
          "metadata": {},
          "execution_count": 29
        }
      ]
    },
    {
      "cell_type": "code",
      "source": [
        "plt.figure(figsize=(20,5))\n",
        "sns.boxplot(final_app_data['AMT_ANNUITY'])\n",
        "plt.show()"
      ],
      "metadata": {
        "colab": {
          "base_uri": "https://localhost:8080/",
          "height": 335
        },
        "id": "9sKz4DUaVnDh",
        "outputId": "5f574959-a083-4bd8-d33c-06582e71214c"
      },
      "execution_count": 30,
      "outputs": [
        {
          "output_type": "display_data",
          "data": {
            "text/plain": [
              "<Figure size 1440x360 with 1 Axes>"
            ],
            "image/png": "[encoded data removed]"
          },
          "metadata": {
            "needs_background": "light"
          }
        }
      ]
    },
    {
      "cell_type": "markdown",
      "source": [
        "**key points**\n",
        "\n",
        "* mean and median of AMT_ANNUITY is 27108 and 1615.\n",
        "* so we will consider median value."
      ],
      "metadata": {
        "id": "FAXz0YMlWCRw"
      }
    },
    {
      "cell_type": "code",
      "source": [
        "# ATM_CREDIT\n",
        "\n",
        "final_app_data['AMT_CREDIT'].describe()"
      ],
      "metadata": {
        "colab": {
          "base_uri": "https://localhost:8080/"
        },
        "id": "NTLx-t3RXmyS",
        "outputId": "41c983c5-3d6f-43dc-b690-8ee744fc94d7"
      },
      "execution_count": 31,
      "outputs": [
        {
          "output_type": "execute_result",
          "data": {
            "text/plain": [
              "count    3.075110e+05\n",
              "mean     5.990260e+05\n",
              "std      4.024908e+05\n",
              "min      4.500000e+04\n",
              "25%      2.700000e+05\n",
              "50%      5.135310e+05\n",
              "75%      8.086500e+05\n",
              "max      4.050000e+06\n",
              "Name: AMT_CREDIT, dtype: float64"
            ]
          },
          "metadata": {},
          "execution_count": 31
        }
      ]
    },
    {
      "cell_type": "code",
      "source": [
        "plt.figure(figsize=(20,5))\n",
        "sns.boxplot(final_app_data['AMT_CREDIT'])\n",
        "plt.show()"
      ],
      "metadata": {
        "colab": {
          "base_uri": "https://localhost:8080/",
          "height": 335
        },
        "id": "iAt9Bv2-YNGk",
        "outputId": "f7712fac-e971-4c06-8679-06a1f9f9b809"
      },
      "execution_count": 32,
      "outputs": [
        {
          "output_type": "display_data",
          "data": {
            "text/plain": [
              "<Figure size 1440x360 with 1 Axes>"
            ],
            "image/png": "[encoded data removed]"
          },
          "metadata": {
            "needs_background": "light"
          }
        }
      ]
    },
    {
      "cell_type": "markdown",
      "source": [
        "**key points**\n",
        "\n",
        "* mean and median of AMT_CREDIT is 5.99 and 4.5.\n",
        "\n",
        "* so median value will be considered."
      ],
      "metadata": {
        "id": "AYMPmX3_YTPq"
      }
    },
    {
      "cell_type": "code",
      "source": [
        "# AMT_INCOME_TOTAL\n",
        "\n",
        "final_app_data['AMT_INCOME_TOTAL'].describe()"
      ],
      "metadata": {
        "colab": {
          "base_uri": "https://localhost:8080/"
        },
        "id": "mkKiH40QZVli",
        "outputId": "adeaddaf-bb97-4bab-edc7-dfe0ada3b9ae"
      },
      "execution_count": 33,
      "outputs": [
        {
          "output_type": "execute_result",
          "data": {
            "text/plain": [
              "count    3.075110e+05\n",
              "mean     1.687979e+05\n",
              "std      2.371231e+05\n",
              "min      2.565000e+04\n",
              "25%      1.125000e+05\n",
              "50%      1.471500e+05\n",
              "75%      2.025000e+05\n",
              "max      1.170000e+08\n",
              "Name: AMT_INCOME_TOTAL, dtype: float64"
            ]
          },
          "metadata": {},
          "execution_count": 33
        }
      ]
    },
    {
      "cell_type": "code",
      "source": [
        "plt.figure(figsize=(20,5))\n",
        "sns.boxplot(final_app_data['AMT_INCOME_TOTAL'])\n",
        "plt.show()"
      ],
      "metadata": {
        "colab": {
          "base_uri": "https://localhost:8080/",
          "height": 335
        },
        "id": "X0kY9mw6ZhEx",
        "outputId": "b047718e-3065-4c9c-a8a2-8d03dfe5b5bc"
      },
      "execution_count": 34,
      "outputs": [
        {
          "output_type": "display_data",
          "data": {
            "text/plain": [
              "<Figure size 1440x360 with 1 Axes>"
            ],
            "image/png": "[encoded data removed]"
          },
          "metadata": {
            "needs_background": "light"
          }
        }
      ]
    },
    {
      "cell_type": "markdown",
      "source": [],
      "metadata": {
        "id": "P83UvKDaZrbL"
      }
    },
    {
      "cell_type": "code",
      "source": [
        "# AMT_REQ_CREDIT_BUREAU_MON\n",
        "\n",
        "final_app_data['AMT_REQ_CREDIT_BUREAU_MON'].describe()"
      ],
      "metadata": {
        "colab": {
          "base_uri": "https://localhost:8080/"
        },
        "id": "2B_5QvsHWP9A",
        "outputId": "bc544831-e102-4d3e-f85f-b53fe128bd3c"
      },
      "execution_count": 35,
      "outputs": [
        {
          "output_type": "execute_result",
          "data": {
            "text/plain": [
              "count    265992.000000\n",
              "mean          0.267395\n",
              "std           0.916002\n",
              "min           0.000000\n",
              "25%           0.000000\n",
              "50%           0.000000\n",
              "75%           0.000000\n",
              "max          27.000000\n",
              "Name: AMT_REQ_CREDIT_BUREAU_MON, dtype: float64"
            ]
          },
          "metadata": {},
          "execution_count": 35
        }
      ]
    },
    {
      "cell_type": "code",
      "source": [
        "plt.figure(figsize=(20,5))\n",
        "sns.boxplot(final_app_data['AMT_REQ_CREDIT_BUREAU_MON'])\n",
        "plt.show()"
      ],
      "metadata": {
        "colab": {
          "base_uri": "https://localhost:8080/",
          "height": 335
        },
        "id": "97wTaLHqXCXc",
        "outputId": "c86ddee2-a1e5-4e1c-ed2f-3fca92fd524a"
      },
      "execution_count": 36,
      "outputs": [
        {
          "output_type": "display_data",
          "data": {
            "text/plain": [
              "<Figure size 1440x360 with 1 Axes>"
            ],
            "image/png": "[encoded data removed]"
          },
          "metadata": {
            "needs_background": "light"
          }
        }
      ]
    },
    {
      "cell_type": "markdown",
      "source": [],
      "metadata": {
        "id": "TVCngaC1XUUj"
      }
    },
    {
      "cell_type": "code",
      "source": [
        "# AMT_REQ_CREDIT_BUREAU_QRT\n",
        "\n",
        "final_app_data['AMT_REQ_CREDIT_BUREAU_QRT'].describe()"
      ],
      "metadata": {
        "colab": {
          "base_uri": "https://localhost:8080/"
        },
        "id": "1TyhDo3OYVGm",
        "outputId": "ad300b7f-cc8b-4253-9def-12ee5f1868ba"
      },
      "execution_count": 37,
      "outputs": [
        {
          "output_type": "execute_result",
          "data": {
            "text/plain": [
              "count    265992.000000\n",
              "mean          0.265474\n",
              "std           0.794056\n",
              "min           0.000000\n",
              "25%           0.000000\n",
              "50%           0.000000\n",
              "75%           0.000000\n",
              "max         261.000000\n",
              "Name: AMT_REQ_CREDIT_BUREAU_QRT, dtype: float64"
            ]
          },
          "metadata": {},
          "execution_count": 37
        }
      ]
    },
    {
      "cell_type": "code",
      "source": [
        "plt.figure(figsize=(20,5))\n",
        "sns.boxplot(final_app_data['AMT_REQ_CREDIT_BUREAU_QRT'])\n",
        "plt.show()"
      ],
      "metadata": {
        "colab": {
          "base_uri": "https://localhost:8080/",
          "height": 335
        },
        "id": "FUIo6CqAYnU6",
        "outputId": "cba636fd-f122-4d4a-a5aa-1d9197e004ef"
      },
      "execution_count": 38,
      "outputs": [
        {
          "output_type": "display_data",
          "data": {
            "text/plain": [
              "<Figure size 1440x360 with 1 Axes>"
            ],
            "image/png": "[encoded data removed]"
          },
          "metadata": {
            "needs_background": "light"
          }
        }
      ]
    },
    {
      "cell_type": "markdown",
      "source": [],
      "metadata": {
        "id": "HjIT_Si_Ys7z"
      }
    },
    {
      "cell_type": "code",
      "source": [
        "# AMT_REQ_CREDIT_BUREAU_YEAR\n",
        "\n",
        "final_app_data['AMT_REQ_CREDIT_BUREAU_YEAR'].describe()"
      ],
      "metadata": {
        "colab": {
          "base_uri": "https://localhost:8080/"
        },
        "id": "3xvZFVwuYtgX",
        "outputId": "7a704a21-ea6c-4899-80e2-73c661a27e65"
      },
      "execution_count": 39,
      "outputs": [
        {
          "output_type": "execute_result",
          "data": {
            "text/plain": [
              "count    265992.000000\n",
              "mean          1.899974\n",
              "std           1.869295\n",
              "min           0.000000\n",
              "25%           0.000000\n",
              "50%           1.000000\n",
              "75%           3.000000\n",
              "max          25.000000\n",
              "Name: AMT_REQ_CREDIT_BUREAU_YEAR, dtype: float64"
            ]
          },
          "metadata": {},
          "execution_count": 39
        }
      ]
    },
    {
      "cell_type": "code",
      "source": [
        "plt.figure(figsize=(20,5))\n",
        "sns.boxplot(final_app_data['AMT_REQ_CREDIT_BUREAU_YEAR'])\n",
        "plt.show()"
      ],
      "metadata": {
        "colab": {
          "base_uri": "https://localhost:8080/",
          "height": 335
        },
        "id": "kUW34K9CY5rT",
        "outputId": "52ad0d35-a40a-4aba-9e41-88417de72351"
      },
      "execution_count": 40,
      "outputs": [
        {
          "output_type": "display_data",
          "data": {
            "text/plain": [
              "<Figure size 1440x360 with 1 Axes>"
            ],
            "image/png": "[encoded data removed]"
          },
          "metadata": {
            "needs_background": "light"
          }
        }
      ]
    },
    {
      "cell_type": "markdown",
      "source": [],
      "metadata": {
        "id": "B_cl_KLgZEx8"
      }
    },
    {
      "cell_type": "code",
      "source": [
        "# AMT_GOODS_PRICE\n",
        "\n",
        "final_app_data['AMT_GOODS_PRICE'].describe()"
      ],
      "metadata": {
        "colab": {
          "base_uri": "https://localhost:8080/"
        },
        "id": "1eXRJ7PcZFRG",
        "outputId": "d3cb0f41-c700-4649-db0c-90ef822824c9"
      },
      "execution_count": 41,
      "outputs": [
        {
          "output_type": "execute_result",
          "data": {
            "text/plain": [
              "count    3.072330e+05\n",
              "mean     5.383962e+05\n",
              "std      3.694465e+05\n",
              "min      4.050000e+04\n",
              "25%      2.385000e+05\n",
              "50%      4.500000e+05\n",
              "75%      6.795000e+05\n",
              "max      4.050000e+06\n",
              "Name: AMT_GOODS_PRICE, dtype: float64"
            ]
          },
          "metadata": {},
          "execution_count": 41
        }
      ]
    },
    {
      "cell_type": "code",
      "source": [
        "plt.figure(figsize=(20,5))\n",
        "sns.boxplot(final_app_data['AMT_GOODS_PRICE'])\n",
        "plt.show()"
      ],
      "metadata": {
        "colab": {
          "base_uri": "https://localhost:8080/",
          "height": 335
        },
        "id": "3N-mgWswZ83o",
        "outputId": "46a95e03-2c88-492d-a244-8dd8d635f56d"
      },
      "execution_count": 42,
      "outputs": [
        {
          "output_type": "display_data",
          "data": {
            "text/plain": [
              "<Figure size 1440x360 with 1 Axes>"
            ],
            "image/png": "[encoded data removed]"
          },
          "metadata": {
            "needs_background": "light"
          }
        }
      ]
    },
    {
      "cell_type": "markdown",
      "source": [],
      "metadata": {
        "id": "kvdnXcajaGyC"
      }
    },
    {
      "cell_type": "code",
      "source": [
        "# SK_ID_CURR\n",
        "\n",
        "final_app_data['SK_ID_CURR'].describe()"
      ],
      "metadata": {
        "colab": {
          "base_uri": "https://localhost:8080/"
        },
        "id": "GP8GJCQVaNeq",
        "outputId": "1c1ef5b2-f2df-4ffc-ae4d-dce25bcfb77e"
      },
      "execution_count": 43,
      "outputs": [
        {
          "output_type": "execute_result",
          "data": {
            "text/plain": [
              "count    307511.000000\n",
              "mean     278180.518577\n",
              "std      102790.175348\n",
              "min      100002.000000\n",
              "25%      189145.500000\n",
              "50%      278202.000000\n",
              "75%      367142.500000\n",
              "max      456255.000000\n",
              "Name: SK_ID_CURR, dtype: float64"
            ]
          },
          "metadata": {},
          "execution_count": 43
        }
      ]
    },
    {
      "cell_type": "code",
      "source": [
        "plt.figure(figsize=(20,5))\n",
        "sns.boxplot(final_app_data['SK_ID_CURR'])\n",
        "plt.show()"
      ],
      "metadata": {
        "colab": {
          "base_uri": "https://localhost:8080/",
          "height": 335
        },
        "id": "Sz1Q14iuakn8",
        "outputId": "564c645e-e6cf-49c3-88e0-6f5a8d2aeb6f"
      },
      "execution_count": 44,
      "outputs": [
        {
          "output_type": "display_data",
          "data": {
            "text/plain": [
              "<Figure size 1440x360 with 1 Axes>"
            ],
            "image/png": "[encoded data removed]"
          },
          "metadata": {
            "needs_background": "light"
          }
        }
      ]
    },
    {
      "cell_type": "markdown",
      "source": [],
      "metadata": {
        "id": "APmBShDTauMi"
      }
    },
    {
      "cell_type": "code",
      "source": [
        "# TARGET\n",
        "\n",
        "final_app_data['TARGET'].describe()"
      ],
      "metadata": {
        "colab": {
          "base_uri": "https://localhost:8080/"
        },
        "id": "1GjXUJn6au6c",
        "outputId": "eb19dadd-bb73-4159-852e-6111266d8b28"
      },
      "execution_count": 45,
      "outputs": [
        {
          "output_type": "execute_result",
          "data": {
            "text/plain": [
              "count    307511.000000\n",
              "mean          0.080729\n",
              "std           0.272419\n",
              "min           0.000000\n",
              "25%           0.000000\n",
              "50%           0.000000\n",
              "75%           0.000000\n",
              "max           1.000000\n",
              "Name: TARGET, dtype: float64"
            ]
          },
          "metadata": {},
          "execution_count": 45
        }
      ]
    },
    {
      "cell_type": "code",
      "source": [
        "plt.figure(figsize=(20,5))\n",
        "sns.boxplot(final_app_data['TARGET'])\n",
        "plt.show()"
      ],
      "metadata": {
        "colab": {
          "base_uri": "https://localhost:8080/",
          "height": 334
        },
        "id": "Kxt1eXcJa-HS",
        "outputId": "37eaf272-e39a-441c-db20-f1a079518fc5"
      },
      "execution_count": 46,
      "outputs": [
        {
          "output_type": "display_data",
          "data": {
            "text/plain": [
              "<Figure size 1440x360 with 1 Axes>"
            ],
            "image/png": "[encoded data removed]"
          },
          "metadata": {
            "needs_background": "light"
          }
        }
      ]
    },
    {
      "cell_type": "markdown",
      "source": [],
      "metadata": {
        "id": "Hm3K_ouObDwa"
      }
    },
    {
      "cell_type": "code",
      "source": [
        "# CNT_CHILDREN\n",
        "\n",
        "final_app_data['CNT_CHILDREN'].describe()"
      ],
      "metadata": {
        "colab": {
          "base_uri": "https://localhost:8080/"
        },
        "id": "kfnGFGVca9_M",
        "outputId": "8baa3b78-11a3-4971-8660-d2405819a40c"
      },
      "execution_count": 47,
      "outputs": [
        {
          "output_type": "execute_result",
          "data": {
            "text/plain": [
              "count    307511.000000\n",
              "mean          0.417052\n",
              "std           0.722121\n",
              "min           0.000000\n",
              "25%           0.000000\n",
              "50%           0.000000\n",
              "75%           1.000000\n",
              "max          19.000000\n",
              "Name: CNT_CHILDREN, dtype: float64"
            ]
          },
          "metadata": {},
          "execution_count": 47
        }
      ]
    },
    {
      "cell_type": "code",
      "source": [
        "plt.figure(figsize=(20,5))\n",
        "sns.boxplot(final_app_data['CNT_CHILDREN'])\n",
        "plt.show()"
      ],
      "metadata": {
        "colab": {
          "base_uri": "https://localhost:8080/",
          "height": 335
        },
        "id": "mWE3hUupbU92",
        "outputId": "d539c1be-24d0-45a9-f98a-49c66892b4ff"
      },
      "execution_count": 48,
      "outputs": [
        {
          "output_type": "display_data",
          "data": {
            "text/plain": [
              "<Figure size 1440x360 with 1 Axes>"
            ],
            "image/png": "[encoded data removed]"
          },
          "metadata": {
            "needs_background": "light"
          }
        }
      ]
    },
    {
      "cell_type": "markdown",
      "source": [],
      "metadata": {
        "id": "3SNNAV7wbd8e"
      }
    },
    {
      "cell_type": "code",
      "source": [
        "# DAYS_EMPLOYED\n",
        "\n",
        "final_app_data['DAYS_EMPLOYED'].describe()"
      ],
      "metadata": {
        "colab": {
          "base_uri": "https://localhost:8080/"
        },
        "id": "Oqr47zZvbeZj",
        "outputId": "27e8116a-2eb5-4904-f0d8-de20a590207a"
      },
      "execution_count": 49,
      "outputs": [
        {
          "output_type": "execute_result",
          "data": {
            "text/plain": [
              "count    307511.000000\n",
              "mean      67724.742149\n",
              "std      139443.751806\n",
              "min           0.000000\n",
              "25%         933.000000\n",
              "50%        2219.000000\n",
              "75%        5707.000000\n",
              "max      365243.000000\n",
              "Name: DAYS_EMPLOYED, dtype: float64"
            ]
          },
          "metadata": {},
          "execution_count": 49
        }
      ]
    },
    {
      "cell_type": "code",
      "source": [
        "plt.figure(figsize=(20,5))\n",
        "sns.boxplot(final_app_data['DAYS_EMPLOYED'])\n",
        "plt.show()"
      ],
      "metadata": {
        "colab": {
          "base_uri": "https://localhost:8080/",
          "height": 335
        },
        "id": "CAvbTmwKbsPx",
        "outputId": "eaded6d8-7ec1-4390-9f35-80ecf12c2f8c"
      },
      "execution_count": 50,
      "outputs": [
        {
          "output_type": "display_data",
          "data": {
            "text/plain": [
              "<Figure size 1440x360 with 1 Axes>"
            ],
            "image/png": "[encoded data removed]"
          },
          "metadata": {
            "needs_background": "light"
          }
        }
      ]
    },
    {
      "cell_type": "markdown",
      "source": [],
      "metadata": {
        "id": "sz4zpwiEb2dY"
      }
    },
    {
      "cell_type": "code",
      "source": [
        "# FLAG_CNT_MOBILE\n",
        "\n",
        "final_app_data['FLAG_CONT_MOBILE'].describe()"
      ],
      "metadata": {
        "colab": {
          "base_uri": "https://localhost:8080/"
        },
        "id": "MyeAtfDgb3Ao",
        "outputId": "5e2e8f05-7a41-47fc-a816-570ae70e3c95"
      },
      "execution_count": 51,
      "outputs": [
        {
          "output_type": "execute_result",
          "data": {
            "text/plain": [
              "count    307511.000000\n",
              "mean          0.998133\n",
              "std           0.043164\n",
              "min           0.000000\n",
              "25%           1.000000\n",
              "50%           1.000000\n",
              "75%           1.000000\n",
              "max           1.000000\n",
              "Name: FLAG_CONT_MOBILE, dtype: float64"
            ]
          },
          "metadata": {},
          "execution_count": 51
        }
      ]
    },
    {
      "cell_type": "code",
      "source": [
        "plt.figure(figsize=(20,5))\n",
        "sns.boxplot(final_app_data['FLAG_CONT_MOBILE'])\n",
        "plt.show()"
      ],
      "metadata": {
        "colab": {
          "base_uri": "https://localhost:8080/",
          "height": 335
        },
        "id": "Z17DPZ7RdDiT",
        "outputId": "9eafdc6a-639c-4142-f8eb-194889743a2d"
      },
      "execution_count": 52,
      "outputs": [
        {
          "output_type": "display_data",
          "data": {
            "text/plain": [
              "<Figure size 1440x360 with 1 Axes>"
            ],
            "image/png": "[encoded data removed]"
          },
          "metadata": {
            "needs_background": "light"
          }
        }
      ]
    },
    {
      "cell_type": "code",
      "source": [
        "# FLAG_EMAIL\n",
        "\n",
        "final_app_data['FLAG_EMAIL'].describe()"
      ],
      "metadata": {
        "colab": {
          "base_uri": "https://localhost:8080/"
        },
        "id": "SAkuMQMZdSYQ",
        "outputId": "02a7458c-8bb6-4e19-ed12-8b42b744f632"
      },
      "execution_count": 53,
      "outputs": [
        {
          "output_type": "execute_result",
          "data": {
            "text/plain": [
              "count    307511.000000\n",
              "mean          0.056720\n",
              "std           0.231307\n",
              "min           0.000000\n",
              "25%           0.000000\n",
              "50%           0.000000\n",
              "75%           0.000000\n",
              "max           1.000000\n",
              "Name: FLAG_EMAIL, dtype: float64"
            ]
          },
          "metadata": {},
          "execution_count": 53
        }
      ]
    },
    {
      "cell_type": "code",
      "source": [
        "plt.figure(figsize=(20,5))\n",
        "sns.boxplot(final_app_data['FLAG_EMAIL'])\n",
        "plt.show()"
      ],
      "metadata": {
        "colab": {
          "base_uri": "https://localhost:8080/",
          "height": 335
        },
        "id": "jZgM2Wu4deOt",
        "outputId": "88f661d0-fae1-4fc3-872f-f725710c2ce3"
      },
      "execution_count": 54,
      "outputs": [
        {
          "output_type": "display_data",
          "data": {
            "text/plain": [
              "<Figure size 1440x360 with 1 Axes>"
            ],
            "image/png": "[encoded data removed]"
          },
          "metadata": {
            "needs_background": "light"
          }
        }
      ]
    },
    {
      "cell_type": "code",
      "source": [
        "# NAME_INCOME_TYPE\n",
        "\n",
        "final_app_data['NAME_INCOME_TYPE'].describe()"
      ],
      "metadata": {
        "colab": {
          "base_uri": "https://localhost:8080/"
        },
        "id": "Dr1V2sFIdnWf",
        "outputId": "c0c8178a-9fde-47f6-e356-36bddc5b775c"
      },
      "execution_count": 55,
      "outputs": [
        {
          "output_type": "execute_result",
          "data": {
            "text/plain": [
              "count      307511\n",
              "unique          8\n",
              "top       Working\n",
              "freq       158774\n",
              "Name: NAME_INCOME_TYPE, dtype: object"
            ]
          },
          "metadata": {},
          "execution_count": 55
        }
      ]
    },
    {
      "cell_type": "code",
      "source": [
        "plt.style.use('ggplot')\n",
        "plt.title('NAME_INCOME_TYPE')\n",
        "pt=sns.countplot(final_app_data['NAME_INCOME_TYPE'])\n",
        "pt.set_xticklabels(pt.get_xticklabels(),rotation=90)\n",
        "plt.show()"
      ],
      "metadata": {
        "colab": {
          "base_uri": "https://localhost:8080/",
          "height": 399
        },
        "id": "aHhsRc6ueSDv",
        "outputId": "a8e996a5-334d-457d-90f4-ba9809e128d3"
      },
      "execution_count": 89,
      "outputs": [
        {
          "output_type": "display_data",
          "data": {
            "text/plain": [
              "<Figure size 432x288 with 1 Axes>"
            ],
            "image/png": "[encoded data removed]"
          },
          "metadata": {}
        }
      ]
    },
    {
      "cell_type": "code",
      "source": [
        "# NAME_FAMILY_STATUS\n",
        "\n",
        "final_app_data['NAME_FAMILY_STATUS'].describe()"
      ],
      "metadata": {
        "colab": {
          "base_uri": "https://localhost:8080/"
        },
        "id": "pOPoXbT7eMYU",
        "outputId": "f2a72adf-4177-4cc0-eaa9-7792ce449393"
      },
      "execution_count": 56,
      "outputs": [
        {
          "output_type": "execute_result",
          "data": {
            "text/plain": [
              "count      307511\n",
              "unique          6\n",
              "top       Married\n",
              "freq       196432\n",
              "Name: NAME_FAMILY_STATUS, dtype: object"
            ]
          },
          "metadata": {},
          "execution_count": 56
        }
      ]
    },
    {
      "cell_type": "code",
      "source": [
        "plt.style.use('ggplot')\n",
        "plt.title('NAME_FAMILY_STATUS')\n",
        "pt=sns.countplot(final_app_data['NAME_FAMILY_STATUS'])\n",
        "pt.set_xticklabels(pt.get_xticklabels(),rotation=90)\n",
        "plt.show()"
      ],
      "metadata": {
        "colab": {
          "base_uri": "https://localhost:8080/",
          "height": 388
        },
        "id": "dQFozef-eF5Q",
        "outputId": "f5a4fea9-e885-4754-d76a-20da7b58fc53"
      },
      "execution_count": 88,
      "outputs": [
        {
          "output_type": "display_data",
          "data": {
            "text/plain": [
              "<Figure size 432x288 with 1 Axes>"
            ],
            "image/png": "[encoded data removed]"
          },
          "metadata": {}
        }
      ]
    },
    {
      "cell_type": "code",
      "source": [
        "# OCCUPATION_TYPE\n",
        "\n",
        "final_app_data['OCCUPATION_TYPE'].describe()"
      ],
      "metadata": {
        "colab": {
          "base_uri": "https://localhost:8080/"
        },
        "id": "_j4UDUTffu0z",
        "outputId": "103e1d10-caf2-430e-c02c-fed22fd8de04"
      },
      "execution_count": 57,
      "outputs": [
        {
          "output_type": "execute_result",
          "data": {
            "text/plain": [
              "count       211120\n",
              "unique          18\n",
              "top       Laborers\n",
              "freq         55186\n",
              "Name: OCCUPATION_TYPE, dtype: object"
            ]
          },
          "metadata": {},
          "execution_count": 57
        }
      ]
    },
    {
      "cell_type": "code",
      "source": [
        "plt.style.use('ggplot')\n",
        "plt.title('OCCUPATION_TYPE')\n",
        "pt=sns.countplot(final_app_data['OCCUPATION_TYPE'])\n",
        "pt.set_xticklabels(pt.get_xticklabels(),rotation=90)\n",
        "plt.show()"
      ],
      "metadata": {
        "colab": {
          "base_uri": "https://localhost:8080/",
          "height": 394
        },
        "id": "1m7qqgKad4h7",
        "outputId": "d7d1f42f-465b-41c4-a5e7-6a08b20fd948"
      },
      "execution_count": 87,
      "outputs": [
        {
          "output_type": "display_data",
          "data": {
            "text/plain": [
              "<Figure size 432x288 with 1 Axes>"
            ],
            "image/png": "[encoded data removed]"
          },
          "metadata": {}
        }
      ]
    },
    {
      "cell_type": "code",
      "source": [
        "# ORGANIZATION_TYPE\n",
        "\n",
        "final_app_data['ORGANIZATION_TYPE'].describe()"
      ],
      "metadata": {
        "colab": {
          "base_uri": "https://localhost:8080/"
        },
        "id": "O8qV2bbXgAxW",
        "outputId": "4fe50be3-c685-4743-e6f7-e1527a61b965"
      },
      "execution_count": 58,
      "outputs": [
        {
          "output_type": "execute_result",
          "data": {
            "text/plain": [
              "count                     307511\n",
              "unique                        58\n",
              "top       Business Entity Type 3\n",
              "freq                       67992\n",
              "Name: ORGANIZATION_TYPE, dtype: object"
            ]
          },
          "metadata": {},
          "execution_count": 58
        }
      ]
    },
    {
      "cell_type": "code",
      "source": [
        "plt.style.use('ggplot')\n",
        "plt.title('ORGANIZATION_TYPE')\n",
        "pt=sns.countplot(final_app_data['ORGANIZATION_TYPE'])\n",
        "pt.set_xticklabels(pt.get_xticklabels(),rotation=90)\n",
        "plt.figure(figsize=(8,4))\n",
        "plt.show()"
      ],
      "metadata": {
        "colab": {
          "base_uri": "https://localhost:8080/",
          "height": 418
        },
        "id": "18slWMISdVWl",
        "outputId": "159cdf56-21dd-4997-817e-0b0849154850"
      },
      "execution_count": 93,
      "outputs": [
        {
          "output_type": "display_data",
          "data": {
            "text/plain": [
              "<Figure size 432x288 with 1 Axes>"
            ],
            "image/png": "[encoded data removed]"
          },
          "metadata": {}
        },
        {
          "output_type": "display_data",
          "data": {
            "text/plain": [
              "<Figure size 576x288 with 0 Axes>"
            ]
          },
          "metadata": {}
        }
      ]
    },
    {
      "cell_type": "markdown",
      "source": [
        " >>**Now Analysing final_pre_data**"
      ],
      "metadata": {
        "id": "VGvxgM9_hmXO"
      }
    },
    {
      "cell_type": "code",
      "source": [
        "final_pre_data.head()"
      ],
      "metadata": {
        "colab": {
          "base_uri": "https://localhost:8080/",
          "height": 369
        },
        "id": "y1xx2Y1xhyvP",
        "outputId": "e9a27992-8f9a-4b20-f69d-d01187c593ee"
      },
      "execution_count": 59,
      "outputs": [
        {
          "output_type": "execute_result",
          "data": {
            "text/plain": [
              "   SK_ID_PREV  SK_ID_CURR NAME_CONTRACT_TYPE  AMT_ANNUITY  AMT_APPLICATION  \\\n",
              "0     2030495      271877     Consumer loans     1730.430          17145.0   \n",
              "1     2802425      108129         Cash loans    25188.615         607500.0   \n",
              "2     2523466      122040         Cash loans    15060.735         112500.0   \n",
              "3     2819243      176158         Cash loans    47041.335         450000.0   \n",
              "4     1784265      202054         Cash loans    31924.395         337500.0   \n",
              "\n",
              "   AMT_CREDIT  AMT_GOODS_PRICE WEEKDAY_APPR_PROCESS_START  \\\n",
              "0     17145.0          17145.0                   SATURDAY   \n",
              "1    679671.0         607500.0                   THURSDAY   \n",
              "2    136444.5         112500.0                    TUESDAY   \n",
              "3    470790.0         450000.0                     MONDAY   \n",
              "4    404055.0         337500.0                   THURSDAY   \n",
              "\n",
              "   HOUR_APPR_PROCESS_START FLAG_LAST_APPL_PER_CONTRACT  ...  NAME_CLIENT_TYPE  \\\n",
              "0                       15                           Y  ...          Repeater   \n",
              "1                       11                           Y  ...          Repeater   \n",
              "2                       11                           Y  ...          Repeater   \n",
              "3                        7                           Y  ...          Repeater   \n",
              "4                        9                           Y  ...          Repeater   \n",
              "\n",
              "  NAME_GOODS_CATEGORY NAME_PORTFOLIO  NAME_PRODUCT_TYPE  \\\n",
              "0              Mobile            POS                XNA   \n",
              "1                 XNA           Cash             x-sell   \n",
              "2                 XNA           Cash             x-sell   \n",
              "3                 XNA           Cash             x-sell   \n",
              "4                 XNA           Cash            walk-in   \n",
              "\n",
              "              CHANNEL_TYPE SELLERPLACE_AREA NAME_SELLER_INDUSTRY CNT_PAYMENT  \\\n",
              "0             Country-wide               35         Connectivity        12.0   \n",
              "1           Contact center               -1                  XNA        36.0   \n",
              "2  Credit and cash offices               -1                  XNA        12.0   \n",
              "3  Credit and cash offices               -1                  XNA        12.0   \n",
              "4  Credit and cash offices               -1                  XNA        24.0   \n",
              "\n",
              "  NAME_YIELD_GROUP       PRODUCT_COMBINATION  \n",
              "0           middle  POS mobile with interest  \n",
              "1       low_action          Cash X-Sell: low  \n",
              "2             high         Cash X-Sell: high  \n",
              "3           middle       Cash X-Sell: middle  \n",
              "4             high         Cash Street: high  \n",
              "\n",
              "[5 rows x 26 columns]"
            ],
            "text/html": [
              "\n",
              "  <div id=\"df-20cef804-2cec-4a27-9aab-d801269e8552\">\n",
              "    <div class=\"colab-df-container\">\n",
              "      <div>\n",
              "<style scoped>\n",
              "    .dataframe tbody tr th:only-of-type {\n",
              "        vertical-align: middle;\n",
              "    }\n",
              "\n",
              "    .dataframe tbody tr th {\n",
              "        vertical-align: top;\n",
              "    }\n",
              "\n",
              "    .dataframe thead th {\n",
              "        text-align: right;\n",
              "    }\n",
              "</style>\n",
              "<table border=\"1\" class=\"dataframe\">\n",
              "  <thead>\n",
              "    <tr style=\"text-align: right;\">\n",
              "      <th></th>\n",
              "      <th>SK_ID_PREV</th>\n",
              "      <th>SK_ID_CURR</th>\n",
              "      <th>NAME_CONTRACT_TYPE</th>\n",
              "      <th>AMT_ANNUITY</th>\n",
              "      <th>AMT_APPLICATION</th>\n",
              "      <th>AMT_CREDIT</th>\n",
              "      <th>AMT_GOODS_PRICE</th>\n",
              "      <th>WEEKDAY_APPR_PROCESS_START</th>\n",
              "      <th>HOUR_APPR_PROCESS_START</th>\n",
              "      <th>FLAG_LAST_APPL_PER_CONTRACT</th>\n",
              "      <th>...</th>\n",
              "      <th>NAME_CLIENT_TYPE</th>\n",
              "      <th>NAME_GOODS_CATEGORY</th>\n",
              "      <th>NAME_PORTFOLIO</th>\n",
              "      <th>NAME_PRODUCT_TYPE</th>\n",
              "      <th>CHANNEL_TYPE</th>\n",
              "      <th>SELLERPLACE_AREA</th>\n",
              "      <th>NAME_SELLER_INDUSTRY</th>\n",
              "      <th>CNT_PAYMENT</th>\n",
              "      <th>NAME_YIELD_GROUP</th>\n",
              "      <th>PRODUCT_COMBINATION</th>\n",
              "    </tr>\n",
              "  </thead>\n",
              "  <tbody>\n",
              "    <tr>\n",
              "      <th>0</th>\n",
              "      <td>2030495</td>\n",
              "      <td>271877</td>\n",
              "      <td>Consumer loans</td>\n",
              "      <td>1730.430</td>\n",
              "      <td>17145.0</td>\n",
              "      <td>17145.0</td>\n",
              "      <td>17145.0</td>\n",
              "      <td>SATURDAY</td>\n",
              "      <td>15</td>\n",
              "      <td>Y</td>\n",
              "      <td>...</td>\n",
              "      <td>Repeater</td>\n",
              "      <td>Mobile</td>\n",
              "      <td>POS</td>\n",
              "      <td>XNA</td>\n",
              "      <td>Country-wide</td>\n",
              "      <td>35</td>\n",
              "      <td>Connectivity</td>\n",
              "      <td>12.0</td>\n",
              "      <td>middle</td>\n",
              "      <td>POS mobile with interest</td>\n",
              "    </tr>\n",
              "    <tr>\n",
              "      <th>1</th>\n",
              "      <td>2802425</td>\n",
              "      <td>108129</td>\n",
              "      <td>Cash loans</td>\n",
              "      <td>25188.615</td>\n",
              "      <td>607500.0</td>\n",
              "      <td>679671.0</td>\n",
              "      <td>607500.0</td>\n",
              "      <td>THURSDAY</td>\n",
              "      <td>11</td>\n",
              "      <td>Y</td>\n",
              "      <td>...</td>\n",
              "      <td>Repeater</td>\n",
              "      <td>XNA</td>\n",
              "      <td>Cash</td>\n",
              "      <td>x-sell</td>\n",
              "      <td>Contact center</td>\n",
              "      <td>-1</td>\n",
              "      <td>XNA</td>\n",
              "      <td>36.0</td>\n",
              "      <td>low_action</td>\n",
              "      <td>Cash X-Sell: low</td>\n",
              "    </tr>\n",
              "    <tr>\n",
              "      <th>2</th>\n",
              "      <td>2523466</td>\n",
              "      <td>122040</td>\n",
              "      <td>Cash loans</td>\n",
              "      <td>15060.735</td>\n",
              "      <td>112500.0</td>\n",
              "      <td>136444.5</td>\n",
              "      <td>112500.0</td>\n",
              "      <td>TUESDAY</td>\n",
              "      <td>11</td>\n",
              "      <td>Y</td>\n",
              "      <td>...</td>\n",
              "      <td>Repeater</td>\n",
              "      <td>XNA</td>\n",
              "      <td>Cash</td>\n",
              "      <td>x-sell</td>\n",
              "      <td>Credit and cash offices</td>\n",
              "      <td>-1</td>\n",
              "      <td>XNA</td>\n",
              "      <td>12.0</td>\n",
              "      <td>high</td>\n",
              "      <td>Cash X-Sell: high</td>\n",
              "    </tr>\n",
              "    <tr>\n",
              "      <th>3</th>\n",
              "      <td>2819243</td>\n",
              "      <td>176158</td>\n",
              "      <td>Cash loans</td>\n",
              "      <td>47041.335</td>\n",
              "      <td>450000.0</td>\n",
              "      <td>470790.0</td>\n",
              "      <td>450000.0</td>\n",
              "      <td>MONDAY</td>\n",
              "      <td>7</td>\n",
              "      <td>Y</td>\n",
              "      <td>...</td>\n",
              "      <td>Repeater</td>\n",
              "      <td>XNA</td>\n",
              "      <td>Cash</td>\n",
              "      <td>x-sell</td>\n",
              "      <td>Credit and cash offices</td>\n",
              "      <td>-1</td>\n",
              "      <td>XNA</td>\n",
              "      <td>12.0</td>\n",
              "      <td>middle</td>\n",
              "      <td>Cash X-Sell: middle</td>\n",
              "    </tr>\n",
              "    <tr>\n",
              "      <th>4</th>\n",
              "      <td>1784265</td>\n",
              "      <td>202054</td>\n",
              "      <td>Cash loans</td>\n",
              "      <td>31924.395</td>\n",
              "      <td>337500.0</td>\n",
              "      <td>404055.0</td>\n",
              "      <td>337500.0</td>\n",
              "      <td>THURSDAY</td>\n",
              "      <td>9</td>\n",
              "      <td>Y</td>\n",
              "      <td>...</td>\n",
              "      <td>Repeater</td>\n",
              "      <td>XNA</td>\n",
              "      <td>Cash</td>\n",
              "      <td>walk-in</td>\n",
              "      <td>Credit and cash offices</td>\n",
              "      <td>-1</td>\n",
              "      <td>XNA</td>\n",
              "      <td>24.0</td>\n",
              "      <td>high</td>\n",
              "      <td>Cash Street: high</td>\n",
              "    </tr>\n",
              "  </tbody>\n",
              "</table>\n",
              "<p>5 rows × 26 columns</p>\n",
              "</div>\n",
              "      <button class=\"colab-df-convert\" onclick=\"convertToInteractive('df-20cef804-2cec-4a27-9aab-d801269e8552')\"\n",
              "              title=\"Convert this dataframe to an interactive table.\"\n",
              "              style=\"display:none;\">\n",
              "        \n",
              "  <svg xmlns=\"http://www.w3.org/2000/svg\" height=\"24px\"viewBox=\"0 0 24 24\"\n",
              "       width=\"24px\">\n",
              "    <path d=\"M0 0h24v24H0V0z\" fill=\"none\"/>\n",
              "    <path d=\"M18.56 5.44l.94 2.06.94-2.06 2.06-.94-2.06-.94-.94-2.06-.94 2.06-2.06.94zm-11 1L8.5 8.5l.94-2.06 2.06-.94-2.06-.94L8.5 2.5l-.94 2.06-2.06.94zm10 10l.94 2.06.94-2.06 2.06-.94-2.06-.94-.94-2.06-.94 2.06-2.06.94z\"/><path d=\"M17.41 7.96l-1.37-1.37c-.4-.4-.92-.59-1.43-.59-.52 0-1.04.2-1.43.59L10.3 9.45l-7.72 7.72c-.78.78-.78 2.05 0 2.83L4 21.41c.39.39.9.59 1.41.59.51 0 1.02-.2 1.41-.59l7.78-7.78 2.81-2.81c.8-.78.8-2.07 0-2.86zM5.41 20L4 18.59l7.72-7.72 1.47 1.35L5.41 20z\"/>\n",
              "  </svg>\n",
              "      </button>\n",
              "      \n",
              "  <style>\n",
              "    .colab-df-container {\n",
              "      display:flex;\n",
              "      flex-wrap:wrap;\n",
              "      gap: 12px;\n",
              "    }\n",
              "\n",
              "    .colab-df-convert {\n",
              "      background-color: #E8F0FE;\n",
              "      border: none;\n",
              "      border-radius: 50%;\n",
              "      cursor: pointer;\n",
              "      display: none;\n",
              "      fill: #1967D2;\n",
              "      height: 32px;\n",
              "      padding: 0 0 0 0;\n",
              "      width: 32px;\n",
              "    }\n",
              "\n",
              "    .colab-df-convert:hover {\n",
              "      background-color: #E2EBFA;\n",
              "      box-shadow: 0px 1px 2px rgba(60, 64, 67, 0.3), 0px 1px 3px 1px rgba(60, 64, 67, 0.15);\n",
              "      fill: #174EA6;\n",
              "    }\n",
              "\n",
              "    [theme=dark] .colab-df-convert {\n",
              "      background-color: #3B4455;\n",
              "      fill: #D2E3FC;\n",
              "    }\n",
              "\n",
              "    [theme=dark] .colab-df-convert:hover {\n",
              "      background-color: #434B5C;\n",
              "      box-shadow: 0px 1px 3px 1px rgba(0, 0, 0, 0.15);\n",
              "      filter: drop-shadow(0px 1px 2px rgba(0, 0, 0, 0.3));\n",
              "      fill: #FFFFFF;\n",
              "    }\n",
              "  </style>\n",
              "\n",
              "      <script>\n",
              "        const buttonEl =\n",
              "          document.querySelector('#df-20cef804-2cec-4a27-9aab-d801269e8552 button.colab-df-convert');\n",
              "        buttonEl.style.display =\n",
              "          google.colab.kernel.accessAllowed ? 'block' : 'none';\n",
              "\n",
              "        async function convertToInteractive(key) {\n",
              "          const element = document.querySelector('#df-20cef804-2cec-4a27-9aab-d801269e8552');\n",
              "          const dataTable =\n",
              "            await google.colab.kernel.invokeFunction('convertToInteractive',\n",
              "                                                     [key], {});\n",
              "          if (!dataTable) return;\n",
              "\n",
              "          const docLinkHtml = 'Like what you see? Visit the ' +\n",
              "            '<a target=\"_blank\" href=https://colab.research.google.com/notebooks/data_table.ipynb>data table notebook</a>'\n",
              "            + ' to learn more about interactive tables.';\n",
              "          element.innerHTML = '';\n",
              "          dataTable['output_type'] = 'display_data';\n",
              "          await google.colab.output.renderOutput(dataTable, element);\n",
              "          const docLink = document.createElement('div');\n",
              "          docLink.innerHTML = docLinkHtml;\n",
              "          element.appendChild(docLink);\n",
              "        }\n",
              "      </script>\n",
              "    </div>\n",
              "  </div>\n",
              "  "
            ]
          },
          "metadata": {},
          "execution_count": 59
        }
      ]
    },
    {
      "cell_type": "code",
      "source": [
        "# AMT_ANNUITY\n",
        "\n",
        "final_pre_data['AMT_ANNUITY'].describe()"
      ],
      "metadata": {
        "colab": {
          "base_uri": "https://localhost:8080/"
        },
        "id": "CCuYjIyxieXM",
        "outputId": "ee5a20e6-116b-4e93-b58f-35118f653aa7"
      },
      "execution_count": 60,
      "outputs": [
        {
          "output_type": "execute_result",
          "data": {
            "text/plain": [
              "count    1.297979e+06\n",
              "mean     1.595512e+04\n",
              "std      1.478214e+04\n",
              "min      0.000000e+00\n",
              "25%      6.321780e+03\n",
              "50%      1.125000e+04\n",
              "75%      2.065842e+04\n",
              "max      4.180581e+05\n",
              "Name: AMT_ANNUITY, dtype: float64"
            ]
          },
          "metadata": {},
          "execution_count": 60
        }
      ]
    },
    {
      "cell_type": "code",
      "source": [
        "plt.figure(figsize=(20,5))\n",
        "sns.boxplot(final_pre_data['AMT_ANNUITY'])\n",
        "plt.show()"
      ],
      "metadata": {
        "colab": {
          "base_uri": "https://localhost:8080/",
          "height": 335
        },
        "id": "Ldf9_L7JiyQL",
        "outputId": "583db424-7481-4f16-fd4e-01b1a616020e"
      },
      "execution_count": 61,
      "outputs": [
        {
          "output_type": "display_data",
          "data": {
            "text/plain": [
              "<Figure size 1440x360 with 1 Axes>"
            ],
            "image/png": "[encoded data removed]"
          },
          "metadata": {
            "needs_background": "light"
          }
        }
      ]
    },
    {
      "cell_type": "code",
      "source": [
        "# AMT_APPLICATION\n",
        "\n",
        "final_pre_data['AMT_APPLICATION'].describe()"
      ],
      "metadata": {
        "colab": {
          "base_uri": "https://localhost:8080/"
        },
        "id": "eXiWWaFHjEeq",
        "outputId": "05eebf9c-e2b6-4abb-cbc7-1c47f7275e14"
      },
      "execution_count": 62,
      "outputs": [
        {
          "output_type": "execute_result",
          "data": {
            "text/plain": [
              "count    1.670214e+06\n",
              "mean     1.752339e+05\n",
              "std      2.927798e+05\n",
              "min      0.000000e+00\n",
              "25%      1.872000e+04\n",
              "50%      7.104600e+04\n",
              "75%      1.803600e+05\n",
              "max      6.905160e+06\n",
              "Name: AMT_APPLICATION, dtype: float64"
            ]
          },
          "metadata": {},
          "execution_count": 62
        }
      ]
    },
    {
      "cell_type": "code",
      "source": [
        "plt.figure(figsize=(20,5))\n",
        "sns.boxplot(final_pre_data['AMT_APPLICATION'])\n",
        "plt.show()"
      ],
      "metadata": {
        "colab": {
          "base_uri": "https://localhost:8080/",
          "height": 335
        },
        "id": "7fl9L9cwjPhB",
        "outputId": "3c6aeea8-f31e-4d28-ef42-a7316668dcd3"
      },
      "execution_count": 63,
      "outputs": [
        {
          "output_type": "display_data",
          "data": {
            "text/plain": [
              "<Figure size 1440x360 with 1 Axes>"
            ],
            "image/png": "[encoded data removed]"
          },
          "metadata": {
            "needs_background": "light"
          }
        }
      ]
    },
    {
      "cell_type": "code",
      "source": [
        "# AMT_CREDIT\n",
        "\n",
        "final_pre_data['AMT_CREDIT'].describe()"
      ],
      "metadata": {
        "colab": {
          "base_uri": "https://localhost:8080/"
        },
        "id": "QzvTaHVbjaDb",
        "outputId": "86684a77-4751-4efb-fbe7-17a91e87a4db"
      },
      "execution_count": 77,
      "outputs": [
        {
          "output_type": "execute_result",
          "data": {
            "text/plain": [
              "count    1.670213e+06\n",
              "mean     1.961140e+05\n",
              "std      3.185746e+05\n",
              "min      0.000000e+00\n",
              "25%      2.416050e+04\n",
              "50%      8.054100e+04\n",
              "75%      2.164185e+05\n",
              "max      6.905160e+06\n",
              "Name: AMT_CREDIT, dtype: float64"
            ]
          },
          "metadata": {},
          "execution_count": 77
        }
      ]
    },
    {
      "cell_type": "code",
      "source": [
        "plt.figure(figsize=(20,5))\n",
        "sns.boxplot(final_pre_data['AMT_CREDIT'])\n",
        "plt.show()"
      ],
      "metadata": {
        "colab": {
          "base_uri": "https://localhost:8080/",
          "height": 335
        },
        "id": "bUTMrne-jkpn",
        "outputId": "c712d871-da3e-46b2-fba9-f558cc4a8dd4"
      },
      "execution_count": 64,
      "outputs": [
        {
          "output_type": "display_data",
          "data": {
            "text/plain": [
              "<Figure size 1440x360 with 1 Axes>"
            ],
            "image/png": "[encoded data removed]"
          },
          "metadata": {
            "needs_background": "light"
          }
        }
      ]
    },
    {
      "cell_type": "code",
      "source": [
        "# AMT_GOODS_PRICE\n",
        "\n",
        "final_pre_data['AMT_GOODS_PRICE']"
      ],
      "metadata": {
        "colab": {
          "base_uri": "https://localhost:8080/"
        },
        "id": "rXyL8NSxjuPd",
        "outputId": "164e80b3-9346-4f5c-a37a-7b498293e61b"
      },
      "execution_count": 65,
      "outputs": [
        {
          "output_type": "execute_result",
          "data": {
            "text/plain": [
              "0           17145.0\n",
              "1          607500.0\n",
              "2          112500.0\n",
              "3          450000.0\n",
              "4          337500.0\n",
              "             ...   \n",
              "1670209    267295.5\n",
              "1670210     87750.0\n",
              "1670211    105237.0\n",
              "1670212    180000.0\n",
              "1670213    360000.0\n",
              "Name: AMT_GOODS_PRICE, Length: 1670214, dtype: float64"
            ]
          },
          "metadata": {},
          "execution_count": 65
        }
      ]
    },
    {
      "cell_type": "code",
      "source": [
        "plt.figure(figsize=(20,5))\n",
        "sns.boxplot(final_pre_data['AMT_GOODS_PRICE'])\n",
        "plt.show()"
      ],
      "metadata": {
        "colab": {
          "base_uri": "https://localhost:8080/",
          "height": 335
        },
        "id": "wDmc1u05j22U",
        "outputId": "f4ddfd81-9f59-4a68-b723-2c85e4c54515"
      },
      "execution_count": 66,
      "outputs": [
        {
          "output_type": "display_data",
          "data": {
            "text/plain": [
              "<Figure size 1440x360 with 1 Axes>"
            ],
            "image/png": "[encoded data removed]"
          },
          "metadata": {
            "needs_background": "light"
          }
        }
      ]
    },
    {
      "cell_type": "code",
      "source": [
        "# CNT_PAYMENT\n",
        "\n",
        "final_pre_data['CNT_PAYMENT'].describe()"
      ],
      "metadata": {
        "colab": {
          "base_uri": "https://localhost:8080/"
        },
        "id": "BFmwd00cj9vv",
        "outputId": "e7f8a052-71a4-410c-9306-6c46f5de02a2"
      },
      "execution_count": 67,
      "outputs": [
        {
          "output_type": "execute_result",
          "data": {
            "text/plain": [
              "count    1.297984e+06\n",
              "mean     1.605408e+01\n",
              "std      1.456729e+01\n",
              "min      0.000000e+00\n",
              "25%      6.000000e+00\n",
              "50%      1.200000e+01\n",
              "75%      2.400000e+01\n",
              "max      8.400000e+01\n",
              "Name: CNT_PAYMENT, dtype: float64"
            ]
          },
          "metadata": {},
          "execution_count": 67
        }
      ]
    },
    {
      "cell_type": "code",
      "source": [
        "plt.figure(figsize=(20,5))\n",
        "sns.boxplot(final_pre_data['CNT_PAYMENT'])\n",
        "plt.show()"
      ],
      "metadata": {
        "colab": {
          "base_uri": "https://localhost:8080/",
          "height": 335
        },
        "id": "-ea8w89tkHlV",
        "outputId": "3137d2cf-858d-4e18-9dd1-51613b07bf5d"
      },
      "execution_count": 68,
      "outputs": [
        {
          "output_type": "display_data",
          "data": {
            "text/plain": [
              "<Figure size 1440x360 with 1 Axes>"
            ],
            "image/png": "[encoded data removed]"
          },
          "metadata": {
            "needs_background": "light"
          }
        }
      ]
    },
    {
      "cell_type": "code",
      "source": [
        "# SK_ID_PREV\n",
        "\n",
        "final_pre_data['SK_ID_PREV'].describe()"
      ],
      "metadata": {
        "colab": {
          "base_uri": "https://localhost:8080/"
        },
        "id": "r30n_oQPkPqb",
        "outputId": "cfd8febb-5c4d-4066-fdd9-d08a4c90066c"
      },
      "execution_count": 69,
      "outputs": [
        {
          "output_type": "execute_result",
          "data": {
            "text/plain": [
              "count    1.670214e+06\n",
              "mean     1.923089e+06\n",
              "std      5.325980e+05\n",
              "min      1.000001e+06\n",
              "25%      1.461857e+06\n",
              "50%      1.923110e+06\n",
              "75%      2.384280e+06\n",
              "max      2.845382e+06\n",
              "Name: SK_ID_PREV, dtype: float64"
            ]
          },
          "metadata": {},
          "execution_count": 69
        }
      ]
    },
    {
      "cell_type": "code",
      "source": [
        "plt.figure(figsize=(20,5))\n",
        "sns.boxplot(final_pre_data['SK_ID_PREV'])\n",
        "plt.show()"
      ],
      "metadata": {
        "colab": {
          "base_uri": "https://localhost:8080/",
          "height": 335
        },
        "id": "W3dcOQm0kfWQ",
        "outputId": "661407b4-e1b5-4c14-92fd-6f56353c6341"
      },
      "execution_count": 70,
      "outputs": [
        {
          "output_type": "display_data",
          "data": {
            "text/plain": [
              "<Figure size 1440x360 with 1 Axes>"
            ],
            "image/png": "[encoded data removed]"
          },
          "metadata": {
            "needs_background": "light"
          }
        }
      ]
    },
    {
      "cell_type": "code",
      "source": [
        "# SK_ID_CURR\n",
        "\n",
        "final_pre_data['SK_ID_CURR'].describe()"
      ],
      "metadata": {
        "colab": {
          "base_uri": "https://localhost:8080/"
        },
        "id": "Zz2e_R22kl2-",
        "outputId": "83f002e8-0c29-4c54-db3d-f140fcd57391"
      },
      "execution_count": 71,
      "outputs": [
        {
          "output_type": "execute_result",
          "data": {
            "text/plain": [
              "count    1.670214e+06\n",
              "mean     2.783572e+05\n",
              "std      1.028148e+05\n",
              "min      1.000010e+05\n",
              "25%      1.893290e+05\n",
              "50%      2.787145e+05\n",
              "75%      3.675140e+05\n",
              "max      4.562550e+05\n",
              "Name: SK_ID_CURR, dtype: float64"
            ]
          },
          "metadata": {},
          "execution_count": 71
        }
      ]
    },
    {
      "cell_type": "code",
      "source": [
        "plt.figure(figsize=(20,5))\n",
        "sns.boxplot(final_pre_data['SK_ID_CURR'])\n",
        "plt.show()"
      ],
      "metadata": {
        "colab": {
          "base_uri": "https://localhost:8080/",
          "height": 335
        },
        "id": "d1Xh0laNkwoM",
        "outputId": "352a4fe2-2df3-4610-c049-eebb26f9fe46"
      },
      "execution_count": 72,
      "outputs": [
        {
          "output_type": "display_data",
          "data": {
            "text/plain": [
              "<Figure size 1440x360 with 1 Axes>"
            ],
            "image/png": "[encoded data removed]"
          },
          "metadata": {
            "needs_background": "light"
          }
        }
      ]
    },
    {
      "cell_type": "code",
      "source": [
        "# NAME_LOAN_PURPOSE\n",
        "\n",
        "final_pre_data['NAME_CASH_LOAN_PURPOSE'].describe()"
      ],
      "metadata": {
        "colab": {
          "base_uri": "https://localhost:8080/"
        },
        "id": "fNZGloIBlAaN",
        "outputId": "aebf6d6e-fb30-4252-c0dd-6eed5f195165"
      },
      "execution_count": 73,
      "outputs": [
        {
          "output_type": "execute_result",
          "data": {
            "text/plain": [
              "count     1670214\n",
              "unique         25\n",
              "top           XAP\n",
              "freq       922661\n",
              "Name: NAME_CASH_LOAN_PURPOSE, dtype: object"
            ]
          },
          "metadata": {},
          "execution_count": 73
        }
      ]
    },
    {
      "cell_type": "code",
      "source": [
        "plt.style.use('ggplot')\n",
        "plt.title('NAME_CASH_LOAN_PURPOSE')\n",
        "pt=sns.countplot(final_pre_data['NAME_CASH_LOAN_PURPOSE'])\n",
        "pt.set_xticklabels(pt.get_xticklabels(),rotation=90)\n",
        "plt.show()"
      ],
      "metadata": {
        "colab": {
          "base_uri": "https://localhost:8080/",
          "height": 457
        },
        "id": "SHu1a8UJXCi9",
        "outputId": "76e5391b-74cc-49f6-c517-e28383f32721"
      },
      "execution_count": 82,
      "outputs": [
        {
          "output_type": "display_data",
          "data": {
            "text/plain": [
              "<Figure size 432x288 with 1 Axes>"
            ],
            "image/png": "[encoded data removed]"
          },
          "metadata": {}
        }
      ]
    },
    {
      "cell_type": "code",
      "source": [
        "# NAME_GOODS_CATEGORY\n",
        "\n",
        "final_pre_data['NAME_GOODS_CATEGORY'].describe()"
      ],
      "metadata": {
        "colab": {
          "base_uri": "https://localhost:8080/"
        },
        "id": "41VBNDLwlaCY",
        "outputId": "281431e3-100d-4525-eca2-08ee08f660c0"
      },
      "execution_count": 74,
      "outputs": [
        {
          "output_type": "execute_result",
          "data": {
            "text/plain": [
              "count     1670214\n",
              "unique         28\n",
              "top           XNA\n",
              "freq       950809\n",
              "Name: NAME_GOODS_CATEGORY, dtype: object"
            ]
          },
          "metadata": {},
          "execution_count": 74
        }
      ]
    },
    {
      "cell_type": "code",
      "source": [
        "plt.style.use('ggplot')\n",
        "plt.title('NAME_GOODS_CATEGORY')\n",
        "pt=sns.countplot(final_pre_data['NAME_GOODS_CATEGORY'])\n",
        "pt.set_xticklabels(pt.get_xticklabels(),rotation=90)\n",
        "plt.show()"
      ],
      "metadata": {
        "colab": {
          "base_uri": "https://localhost:8080/",
          "height": 422
        },
        "id": "5AjbwT1qc2-e",
        "outputId": "75e0b900-11b0-4a06-9b79-a6b0e9f1f020"
      },
      "execution_count": 83,
      "outputs": [
        {
          "output_type": "display_data",
          "data": {
            "text/plain": [
              "<Figure size 432x288 with 1 Axes>"
            ],
            "image/png": "[encoded data removed]"
          },
          "metadata": {}
        }
      ]
    },
    {
      "cell_type": "code",
      "source": [
        "# NAME_PORTFOLIO\n",
        "\n",
        "final_pre_data['NAME_PORTFOLIO'].describe()"
      ],
      "metadata": {
        "colab": {
          "base_uri": "https://localhost:8080/"
        },
        "id": "Uvq79ecdlojl",
        "outputId": "eea99f11-3fe0-490b-c78d-2a0ce9f6e9ec"
      },
      "execution_count": 75,
      "outputs": [
        {
          "output_type": "execute_result",
          "data": {
            "text/plain": [
              "count     1670214\n",
              "unique          5\n",
              "top           POS\n",
              "freq       691011\n",
              "Name: NAME_PORTFOLIO, dtype: object"
            ]
          },
          "metadata": {},
          "execution_count": 75
        }
      ]
    },
    {
      "cell_type": "code",
      "source": [
        "plt.style.use('ggplot')\n",
        "plt.title('NAME_PORTFOLIO')\n",
        "pt=sns.countplot(final_pre_data['NAME_PORTFOLIO'])\n",
        "pt.set_xticklabels(pt.get_xticklabels(),rotation=90)\n",
        "plt.show()"
      ],
      "metadata": {
        "colab": {
          "base_uri": "https://localhost:8080/",
          "height": 318
        },
        "id": "HB49CuRodC3F",
        "outputId": "a99ce117-d1f0-4231-e6c2-0e599ba6d0f6"
      },
      "execution_count": 84,
      "outputs": [
        {
          "output_type": "display_data",
          "data": {
            "text/plain": [
              "<Figure size 432x288 with 1 Axes>"
            ],
            "image/png": "[encoded data removed]"
          },
          "metadata": {}
        }
      ]
    },
    {
      "cell_type": "markdown",
      "source": [
        "# **MERGING final_app_data and final_pre_data**"
      ],
      "metadata": {
        "id": "Ld4fXkraoROB"
      }
    },
    {
      "cell_type": "code",
      "source": [
        "extra_feature=[]\n",
        "common_feature=[]\n",
        "\n",
        "\n",
        "for col in final_app_data.columns:\n",
        "  if col not in final_pre_data.columns:\n",
        "    extra_feature.append(col)\n",
        "  \n",
        "  else:\n",
        "    common_feature.append(col)\n",
        "\n",
        "print(len(extra_feature))\n",
        "print(len(common_feature))\n",
        "print(common_feature)"
      ],
      "metadata": {
        "colab": {
          "base_uri": "https://localhost:8080/"
        },
        "id": "UfLFxGI0l_UP",
        "outputId": "8aeadb13-de03-4aca-aac8-59f90eee5cd0"
      },
      "execution_count": 76,
      "outputs": [
        {
          "output_type": "stream",
          "name": "stdout",
          "text": [
            "66\n",
            "7\n",
            "['SK_ID_CURR', 'NAME_CONTRACT_TYPE', 'AMT_CREDIT', 'AMT_ANNUITY', 'AMT_GOODS_PRICE', 'WEEKDAY_APPR_PROCESS_START', 'HOUR_APPR_PROCESS_START']\n"
          ]
        }
      ]
    },
    {
      "cell_type": "code",
      "source": [
        "merged_1=final_app_data[['SK_ID_CURR', 'NAME_CONTRACT_TYPE', 'AMT_CREDIT', 'AMT_ANNUITY', 'AMT_GOODS_PRICE', 'WEEKDAY_APPR_PROCESS_START', 'HOUR_APPR_PROCESS_START']]"
      ],
      "metadata": {
        "id": "TLHLWsOzhxR_"
      },
      "execution_count": 94,
      "outputs": []
    },
    {
      "cell_type": "code",
      "source": [
        "merged_2=final_pre_data[['SK_ID_CURR', 'NAME_CONTRACT_TYPE', 'AMT_CREDIT', 'AMT_ANNUITY', 'AMT_GOODS_PRICE', 'WEEKDAY_APPR_PROCESS_START', 'HOUR_APPR_PROCESS_START']]"
      ],
      "metadata": {
        "id": "MyMLKpTeiR41"
      },
      "execution_count": 96,
      "outputs": []
    },
    {
      "cell_type": "code",
      "source": [
        "merged_1.head()"
      ],
      "metadata": {
        "colab": {
          "base_uri": "https://localhost:8080/",
          "height": 206
        },
        "id": "oWJNDLVriHNq",
        "outputId": "6a201788-a40b-469b-ecd6-2d1ef34dd760"
      },
      "execution_count": 95,
      "outputs": [
        {
          "output_type": "execute_result",
          "data": {
            "text/plain": [
              "   SK_ID_CURR NAME_CONTRACT_TYPE  AMT_CREDIT  AMT_ANNUITY  AMT_GOODS_PRICE  \\\n",
              "0      100002         Cash loans    406597.5      24700.5         351000.0   \n",
              "1      100003         Cash loans   1293502.5      35698.5        1129500.0   \n",
              "2      100004    Revolving loans    135000.0       6750.0         135000.0   \n",
              "3      100006         Cash loans    312682.5      29686.5         297000.0   \n",
              "4      100007         Cash loans    513000.0      21865.5         513000.0   \n",
              "\n",
              "  WEEKDAY_APPR_PROCESS_START  HOUR_APPR_PROCESS_START  \n",
              "0                  WEDNESDAY                       10  \n",
              "1                     MONDAY                       11  \n",
              "2                     MONDAY                        9  \n",
              "3                  WEDNESDAY                       17  \n",
              "4                   THURSDAY                       11  "
            ],
            "text/html": [
              "\n",
              "  <div id=\"df-08ac2b32-1ecf-4d1a-8e30-d996aa47a905\">\n",
              "    <div class=\"colab-df-container\">\n",
              "      <div>\n",
              "<style scoped>\n",
              "    .dataframe tbody tr th:only-of-type {\n",
              "        vertical-align: middle;\n",
              "    }\n",
              "\n",
              "    .dataframe tbody tr th {\n",
              "        vertical-align: top;\n",
              "    }\n",
              "\n",
              "    .dataframe thead th {\n",
              "        text-align: right;\n",
              "    }\n",
              "</style>\n",
              "<table border=\"1\" class=\"dataframe\">\n",
              "  <thead>\n",
              "    <tr style=\"text-align: right;\">\n",
              "      <th></th>\n",
              "      <th>SK_ID_CURR</th>\n",
              "      <th>NAME_CONTRACT_TYPE</th>\n",
              "      <th>AMT_CREDIT</th>\n",
              "      <th>AMT_ANNUITY</th>\n",
              "      <th>AMT_GOODS_PRICE</th>\n",
              "      <th>WEEKDAY_APPR_PROCESS_START</th>\n",
              "      <th>HOUR_APPR_PROCESS_START</th>\n",
              "    </tr>\n",
              "  </thead>\n",
              "  <tbody>\n",
              "    <tr>\n",
              "      <th>0</th>\n",
              "      <td>100002</td>\n",
              "      <td>Cash loans</td>\n",
              "      <td>406597.5</td>\n",
              "      <td>24700.5</td>\n",
              "      <td>351000.0</td>\n",
              "      <td>WEDNESDAY</td>\n",
              "      <td>10</td>\n",
              "    </tr>\n",
              "    <tr>\n",
              "      <th>1</th>\n",
              "      <td>100003</td>\n",
              "      <td>Cash loans</td>\n",
              "      <td>1293502.5</td>\n",
              "      <td>35698.5</td>\n",
              "      <td>1129500.0</td>\n",
              "      <td>MONDAY</td>\n",
              "      <td>11</td>\n",
              "    </tr>\n",
              "    <tr>\n",
              "      <th>2</th>\n",
              "      <td>100004</td>\n",
              "      <td>Revolving loans</td>\n",
              "      <td>135000.0</td>\n",
              "      <td>6750.0</td>\n",
              "      <td>135000.0</td>\n",
              "      <td>MONDAY</td>\n",
              "      <td>9</td>\n",
              "    </tr>\n",
              "    <tr>\n",
              "      <th>3</th>\n",
              "      <td>100006</td>\n",
              "      <td>Cash loans</td>\n",
              "      <td>312682.5</td>\n",
              "      <td>29686.5</td>\n",
              "      <td>297000.0</td>\n",
              "      <td>WEDNESDAY</td>\n",
              "      <td>17</td>\n",
              "    </tr>\n",
              "    <tr>\n",
              "      <th>4</th>\n",
              "      <td>100007</td>\n",
              "      <td>Cash loans</td>\n",
              "      <td>513000.0</td>\n",
              "      <td>21865.5</td>\n",
              "      <td>513000.0</td>\n",
              "      <td>THURSDAY</td>\n",
              "      <td>11</td>\n",
              "    </tr>\n",
              "  </tbody>\n",
              "</table>\n",
              "</div>\n",
              "      <button class=\"colab-df-convert\" onclick=\"convertToInteractive('df-08ac2b32-1ecf-4d1a-8e30-d996aa47a905')\"\n",
              "              title=\"Convert this dataframe to an interactive table.\"\n",
              "              style=\"display:none;\">\n",
              "        \n",
              "  <svg xmlns=\"http://www.w3.org/2000/svg\" height=\"24px\"viewBox=\"0 0 24 24\"\n",
              "       width=\"24px\">\n",
              "    <path d=\"M0 0h24v24H0V0z\" fill=\"none\"/>\n",
              "    <path d=\"M18.56 5.44l.94 2.06.94-2.06 2.06-.94-2.06-.94-.94-2.06-.94 2.06-2.06.94zm-11 1L8.5 8.5l.94-2.06 2.06-.94-2.06-.94L8.5 2.5l-.94 2.06-2.06.94zm10 10l.94 2.06.94-2.06 2.06-.94-2.06-.94-.94-2.06-.94 2.06-2.06.94z\"/><path d=\"M17.41 7.96l-1.37-1.37c-.4-.4-.92-.59-1.43-.59-.52 0-1.04.2-1.43.59L10.3 9.45l-7.72 7.72c-.78.78-.78 2.05 0 2.83L4 21.41c.39.39.9.59 1.41.59.51 0 1.02-.2 1.41-.59l7.78-7.78 2.81-2.81c.8-.78.8-2.07 0-2.86zM5.41 20L4 18.59l7.72-7.72 1.47 1.35L5.41 20z\"/>\n",
              "  </svg>\n",
              "      </button>\n",
              "      \n",
              "  <style>\n",
              "    .colab-df-container {\n",
              "      display:flex;\n",
              "      flex-wrap:wrap;\n",
              "      gap: 12px;\n",
              "    }\n",
              "\n",
              "    .colab-df-convert {\n",
              "      background-color: #E8F0FE;\n",
              "      border: none;\n",
              "      border-radius: 50%;\n",
              "      cursor: pointer;\n",
              "      display: none;\n",
              "      fill: #1967D2;\n",
              "      height: 32px;\n",
              "      padding: 0 0 0 0;\n",
              "      width: 32px;\n",
              "    }\n",
              "\n",
              "    .colab-df-convert:hover {\n",
              "      background-color: #E2EBFA;\n",
              "      box-shadow: 0px 1px 2px rgba(60, 64, 67, 0.3), 0px 1px 3px 1px rgba(60, 64, 67, 0.15);\n",
              "      fill: #174EA6;\n",
              "    }\n",
              "\n",
              "    [theme=dark] .colab-df-convert {\n",
              "      background-color: #3B4455;\n",
              "      fill: #D2E3FC;\n",
              "    }\n",
              "\n",
              "    [theme=dark] .colab-df-convert:hover {\n",
              "      background-color: #434B5C;\n",
              "      box-shadow: 0px 1px 3px 1px rgba(0, 0, 0, 0.15);\n",
              "      filter: drop-shadow(0px 1px 2px rgba(0, 0, 0, 0.3));\n",
              "      fill: #FFFFFF;\n",
              "    }\n",
              "  </style>\n",
              "\n",
              "      <script>\n",
              "        const buttonEl =\n",
              "          document.querySelector('#df-08ac2b32-1ecf-4d1a-8e30-d996aa47a905 button.colab-df-convert');\n",
              "        buttonEl.style.display =\n",
              "          google.colab.kernel.accessAllowed ? 'block' : 'none';\n",
              "\n",
              "        async function convertToInteractive(key) {\n",
              "          const element = document.querySelector('#df-08ac2b32-1ecf-4d1a-8e30-d996aa47a905');\n",
              "          const dataTable =\n",
              "            await google.colab.kernel.invokeFunction('convertToInteractive',\n",
              "                                                     [key], {});\n",
              "          if (!dataTable) return;\n",
              "\n",
              "          const docLinkHtml = 'Like what you see? Visit the ' +\n",
              "            '<a target=\"_blank\" href=https://colab.research.google.com/notebooks/data_table.ipynb>data table notebook</a>'\n",
              "            + ' to learn more about interactive tables.';\n",
              "          element.innerHTML = '';\n",
              "          dataTable['output_type'] = 'display_data';\n",
              "          await google.colab.output.renderOutput(dataTable, element);\n",
              "          const docLink = document.createElement('div');\n",
              "          docLink.innerHTML = docLinkHtml;\n",
              "          element.appendChild(docLink);\n",
              "        }\n",
              "      </script>\n",
              "    </div>\n",
              "  </div>\n",
              "  "
            ]
          },
          "metadata": {},
          "execution_count": 95
        }
      ]
    },
    {
      "cell_type": "code",
      "source": [
        "merged_2.head()"
      ],
      "metadata": {
        "colab": {
          "base_uri": "https://localhost:8080/",
          "height": 206
        },
        "id": "k3FGEbukiZZP",
        "outputId": "eff705e6-533f-4552-eef2-6023f8b1ac8b"
      },
      "execution_count": 97,
      "outputs": [
        {
          "output_type": "execute_result",
          "data": {
            "text/plain": [
              "   SK_ID_CURR NAME_CONTRACT_TYPE  AMT_CREDIT  AMT_ANNUITY  AMT_GOODS_PRICE  \\\n",
              "0      271877     Consumer loans     17145.0     1730.430          17145.0   \n",
              "1      108129         Cash loans    679671.0    25188.615         607500.0   \n",
              "2      122040         Cash loans    136444.5    15060.735         112500.0   \n",
              "3      176158         Cash loans    470790.0    47041.335         450000.0   \n",
              "4      202054         Cash loans    404055.0    31924.395         337500.0   \n",
              "\n",
              "  WEEKDAY_APPR_PROCESS_START  HOUR_APPR_PROCESS_START  \n",
              "0                   SATURDAY                       15  \n",
              "1                   THURSDAY                       11  \n",
              "2                    TUESDAY                       11  \n",
              "3                     MONDAY                        7  \n",
              "4                   THURSDAY                        9  "
            ],
            "text/html": [
              "\n",
              "  <div id=\"df-f489754d-ef6a-4357-8117-6c5ceec768e5\">\n",
              "    <div class=\"colab-df-container\">\n",
              "      <div>\n",
              "<style scoped>\n",
              "    .dataframe tbody tr th:only-of-type {\n",
              "        vertical-align: middle;\n",
              "    }\n",
              "\n",
              "    .dataframe tbody tr th {\n",
              "        vertical-align: top;\n",
              "    }\n",
              "\n",
              "    .dataframe thead th {\n",
              "        text-align: right;\n",
              "    }\n",
              "</style>\n",
              "<table border=\"1\" class=\"dataframe\">\n",
              "  <thead>\n",
              "    <tr style=\"text-align: right;\">\n",
              "      <th></th>\n",
              "      <th>SK_ID_CURR</th>\n",
              "      <th>NAME_CONTRACT_TYPE</th>\n",
              "      <th>AMT_CREDIT</th>\n",
              "      <th>AMT_ANNUITY</th>\n",
              "      <th>AMT_GOODS_PRICE</th>\n",
              "      <th>WEEKDAY_APPR_PROCESS_START</th>\n",
              "      <th>HOUR_APPR_PROCESS_START</th>\n",
              "    </tr>\n",
              "  </thead>\n",
              "  <tbody>\n",
              "    <tr>\n",
              "      <th>0</th>\n",
              "      <td>271877</td>\n",
              "      <td>Consumer loans</td>\n",
              "      <td>17145.0</td>\n",
              "      <td>1730.430</td>\n",
              "      <td>17145.0</td>\n",
              "      <td>SATURDAY</td>\n",
              "      <td>15</td>\n",
              "    </tr>\n",
              "    <tr>\n",
              "      <th>1</th>\n",
              "      <td>108129</td>\n",
              "      <td>Cash loans</td>\n",
              "      <td>679671.0</td>\n",
              "      <td>25188.615</td>\n",
              "      <td>607500.0</td>\n",
              "      <td>THURSDAY</td>\n",
              "      <td>11</td>\n",
              "    </tr>\n",
              "    <tr>\n",
              "      <th>2</th>\n",
              "      <td>122040</td>\n",
              "      <td>Cash loans</td>\n",
              "      <td>136444.5</td>\n",
              "      <td>15060.735</td>\n",
              "      <td>112500.0</td>\n",
              "      <td>TUESDAY</td>\n",
              "      <td>11</td>\n",
              "    </tr>\n",
              "    <tr>\n",
              "      <th>3</th>\n",
              "      <td>176158</td>\n",
              "      <td>Cash loans</td>\n",
              "      <td>470790.0</td>\n",
              "      <td>47041.335</td>\n",
              "      <td>450000.0</td>\n",
              "      <td>MONDAY</td>\n",
              "      <td>7</td>\n",
              "    </tr>\n",
              "    <tr>\n",
              "      <th>4</th>\n",
              "      <td>202054</td>\n",
              "      <td>Cash loans</td>\n",
              "      <td>404055.0</td>\n",
              "      <td>31924.395</td>\n",
              "      <td>337500.0</td>\n",
              "      <td>THURSDAY</td>\n",
              "      <td>9</td>\n",
              "    </tr>\n",
              "  </tbody>\n",
              "</table>\n",
              "</div>\n",
              "      <button class=\"colab-df-convert\" onclick=\"convertToInteractive('df-f489754d-ef6a-4357-8117-6c5ceec768e5')\"\n",
              "              title=\"Convert this dataframe to an interactive table.\"\n",
              "              style=\"display:none;\">\n",
              "        \n",
              "  <svg xmlns=\"http://www.w3.org/2000/svg\" height=\"24px\"viewBox=\"0 0 24 24\"\n",
              "       width=\"24px\">\n",
              "    <path d=\"M0 0h24v24H0V0z\" fill=\"none\"/>\n",
              "    <path d=\"M18.56 5.44l.94 2.06.94-2.06 2.06-.94-2.06-.94-.94-2.06-.94 2.06-2.06.94zm-11 1L8.5 8.5l.94-2.06 2.06-.94-2.06-.94L8.5 2.5l-.94 2.06-2.06.94zm10 10l.94 2.06.94-2.06 2.06-.94-2.06-.94-.94-2.06-.94 2.06-2.06.94z\"/><path d=\"M17.41 7.96l-1.37-1.37c-.4-.4-.92-.59-1.43-.59-.52 0-1.04.2-1.43.59L10.3 9.45l-7.72 7.72c-.78.78-.78 2.05 0 2.83L4 21.41c.39.39.9.59 1.41.59.51 0 1.02-.2 1.41-.59l7.78-7.78 2.81-2.81c.8-.78.8-2.07 0-2.86zM5.41 20L4 18.59l7.72-7.72 1.47 1.35L5.41 20z\"/>\n",
              "  </svg>\n",
              "      </button>\n",
              "      \n",
              "  <style>\n",
              "    .colab-df-container {\n",
              "      display:flex;\n",
              "      flex-wrap:wrap;\n",
              "      gap: 12px;\n",
              "    }\n",
              "\n",
              "    .colab-df-convert {\n",
              "      background-color: #E8F0FE;\n",
              "      border: none;\n",
              "      border-radius: 50%;\n",
              "      cursor: pointer;\n",
              "      display: none;\n",
              "      fill: #1967D2;\n",
              "      height: 32px;\n",
              "      padding: 0 0 0 0;\n",
              "      width: 32px;\n",
              "    }\n",
              "\n",
              "    .colab-df-convert:hover {\n",
              "      background-color: #E2EBFA;\n",
              "      box-shadow: 0px 1px 2px rgba(60, 64, 67, 0.3), 0px 1px 3px 1px rgba(60, 64, 67, 0.15);\n",
              "      fill: #174EA6;\n",
              "    }\n",
              "\n",
              "    [theme=dark] .colab-df-convert {\n",
              "      background-color: #3B4455;\n",
              "      fill: #D2E3FC;\n",
              "    }\n",
              "\n",
              "    [theme=dark] .colab-df-convert:hover {\n",
              "      background-color: #434B5C;\n",
              "      box-shadow: 0px 1px 3px 1px rgba(0, 0, 0, 0.15);\n",
              "      filter: drop-shadow(0px 1px 2px rgba(0, 0, 0, 0.3));\n",
              "      fill: #FFFFFF;\n",
              "    }\n",
              "  </style>\n",
              "\n",
              "      <script>\n",
              "        const buttonEl =\n",
              "          document.querySelector('#df-f489754d-ef6a-4357-8117-6c5ceec768e5 button.colab-df-convert');\n",
              "        buttonEl.style.display =\n",
              "          google.colab.kernel.accessAllowed ? 'block' : 'none';\n",
              "\n",
              "        async function convertToInteractive(key) {\n",
              "          const element = document.querySelector('#df-f489754d-ef6a-4357-8117-6c5ceec768e5');\n",
              "          const dataTable =\n",
              "            await google.colab.kernel.invokeFunction('convertToInteractive',\n",
              "                                                     [key], {});\n",
              "          if (!dataTable) return;\n",
              "\n",
              "          const docLinkHtml = 'Like what you see? Visit the ' +\n",
              "            '<a target=\"_blank\" href=https://colab.research.google.com/notebooks/data_table.ipynb>data table notebook</a>'\n",
              "            + ' to learn more about interactive tables.';\n",
              "          element.innerHTML = '';\n",
              "          dataTable['output_type'] = 'display_data';\n",
              "          await google.colab.output.renderOutput(dataTable, element);\n",
              "          const docLink = document.createElement('div');\n",
              "          docLink.innerHTML = docLinkHtml;\n",
              "          element.appendChild(docLink);\n",
              "        }\n",
              "      </script>\n",
              "    </div>\n",
              "  </div>\n",
              "  "
            ]
          },
          "metadata": {},
          "execution_count": 97
        }
      ]
    },
    {
      "cell_type": "code",
      "source": [
        "data_merged=pd.concat([merged_1,merged_2],ignore_index=True,sort=False)"
      ],
      "metadata": {
        "id": "vgCSZaCNiuyt"
      },
      "execution_count": 98,
      "outputs": []
    },
    {
      "cell_type": "code",
      "source": [
        "data_merged.head()\n",
        "data_merged.info()"
      ],
      "metadata": {
        "colab": {
          "base_uri": "https://localhost:8080/"
        },
        "id": "9EWmKgaDl46e",
        "outputId": "8f0425c9-e6f5-4553-f919-7a92296d9823"
      },
      "execution_count": 104,
      "outputs": [
        {
          "output_type": "stream",
          "name": "stdout",
          "text": [
            "<class 'pandas.core.frame.DataFrame'>\n",
            "RangeIndex: 1977725 entries, 0 to 1977724\n",
            "Data columns (total 7 columns):\n",
            " #   Column                      Dtype  \n",
            "---  ------                      -----  \n",
            " 0   SK_ID_CURR                  int64  \n",
            " 1   NAME_CONTRACT_TYPE          object \n",
            " 2   AMT_CREDIT                  float64\n",
            " 3   AMT_ANNUITY                 float64\n",
            " 4   AMT_GOODS_PRICE             float64\n",
            " 5   WEEKDAY_APPR_PROCESS_START  object \n",
            " 6   HOUR_APPR_PROCESS_START     int64  \n",
            "dtypes: float64(3), int64(2), object(2)\n",
            "memory usage: 105.6+ MB\n"
          ]
        }
      ]
    },
    {
      "cell_type": "code",
      "source": [
        "# SK_ID_CURR\n",
        "\n",
        "data_merged['SK_ID_CURR'].describe()"
      ],
      "metadata": {
        "colab": {
          "base_uri": "https://localhost:8080/"
        },
        "id": "KHey2mdVsPjr",
        "outputId": "a5a45d3d-591a-4c21-fac7-7147ec7173c0"
      },
      "execution_count": 105,
      "outputs": [
        {
          "output_type": "execute_result",
          "data": {
            "text/plain": [
              "count    1.977725e+06\n",
              "mean     2.783297e+05\n",
              "std      1.028110e+05\n",
              "min      1.000010e+05\n",
              "25%      1.893000e+05\n",
              "50%      2.786350e+05\n",
              "75%      3.674530e+05\n",
              "max      4.562550e+05\n",
              "Name: SK_ID_CURR, dtype: float64"
            ]
          },
          "metadata": {},
          "execution_count": 105
        }
      ]
    },
    {
      "cell_type": "code",
      "source": [
        "plt.figure(figsize=(20,5))\n",
        "sns.boxplot(data_merged['SK_ID_CURR'])\n",
        "plt.show()"
      ],
      "metadata": {
        "colab": {
          "base_uri": "https://localhost:8080/",
          "height": 337
        },
        "id": "B9w_IN7FxuOA",
        "outputId": "f14cc77b-ccf0-490d-9fec-eee653d6a5e7"
      },
      "execution_count": 106,
      "outputs": [
        {
          "output_type": "display_data",
          "data": {
            "text/plain": [
              "<Figure size 1440x360 with 1 Axes>"
            ],
            "image/png": "[encoded data removed]"
          },
          "metadata": {}
        }
      ]
    },
    {
      "cell_type": "code",
      "source": [
        "# ATM_CREDIT\n",
        "\n",
        "data_merged['AMT_CREDIT'].describe()"
      ],
      "metadata": {
        "colab": {
          "base_uri": "https://localhost:8080/"
        },
        "id": "eKOT6nJmyH7h",
        "outputId": "90cf2a2e-4b6b-4c3c-c96a-58420d5d9a88"
      },
      "execution_count": 107,
      "outputs": [
        {
          "output_type": "execute_result",
          "data": {
            "text/plain": [
              "count    1.977724e+06\n",
              "mean     2.587617e+05\n",
              "std      3.636136e+05\n",
              "min      0.000000e+00\n",
              "25%      3.298500e+04\n",
              "50%      1.112310e+05\n",
              "75%      3.232395e+05\n",
              "max      6.905160e+06\n",
              "Name: AMT_CREDIT, dtype: float64"
            ]
          },
          "metadata": {},
          "execution_count": 107
        }
      ]
    },
    {
      "cell_type": "code",
      "source": [
        "plt.figure(figsize=(20,5))\n",
        "sns.boxplot(data_merged['AMT_CREDIT'])\n",
        "plt.show()"
      ],
      "metadata": {
        "colab": {
          "base_uri": "https://localhost:8080/",
          "height": 337
        },
        "id": "AyYaxDi2ykx4",
        "outputId": "5f7642a3-b642-4e33-ef00-f09a4a1c8061"
      },
      "execution_count": 108,
      "outputs": [
        {
          "output_type": "display_data",
          "data": {
            "text/plain": [
              "<Figure size 1440x360 with 1 Axes>"
            ],
            "image/png": "[encoded data removed]"
          },
          "metadata": {}
        }
      ]
    },
    {
      "cell_type": "code",
      "source": [
        "# AMT_ANNUITY\n",
        "\n",
        "data_merged['AMT_ANNUITY'].describe()"
      ],
      "metadata": {
        "colab": {
          "base_uri": "https://localhost:8080/"
        },
        "id": "1g2Vq090yzCU",
        "outputId": "feee8829-92e4-46eb-8c28-4d763d051d03"
      },
      "execution_count": 109,
      "outputs": [
        {
          "output_type": "execute_result",
          "data": {
            "text/plain": [
              "count    1.605478e+06\n",
              "mean     1.809135e+04\n",
              "std      1.536741e+04\n",
              "min      0.000000e+00\n",
              "25%      7.173675e+03\n",
              "50%      1.344001e+04\n",
              "75%      2.457742e+04\n",
              "max      4.180581e+05\n",
              "Name: AMT_ANNUITY, dtype: float64"
            ]
          },
          "metadata": {},
          "execution_count": 109
        }
      ]
    },
    {
      "cell_type": "code",
      "source": [
        "plt.figure(figsize=(20,5))\n",
        "sns.boxplot(data_merged['AMT_ANNUITY'])\n",
        "plt.show()"
      ],
      "metadata": {
        "colab": {
          "base_uri": "https://localhost:8080/",
          "height": 337
        },
        "id": "ioR0JiMLzbfQ",
        "outputId": "86b79b85-9cb5-4468-ac31-7ef11a640aeb"
      },
      "execution_count": 110,
      "outputs": [
        {
          "output_type": "display_data",
          "data": {
            "text/plain": [
              "<Figure size 1440x360 with 1 Axes>"
            ],
            "image/png": "[encoded data removed]"
          },
          "metadata": {}
        }
      ]
    },
    {
      "cell_type": "code",
      "source": [
        "# AMT_GOODS_PRICE\n",
        "\n",
        "data_merged['AMT_GOODS_PRICE'].describe()"
      ],
      "metadata": {
        "colab": {
          "base_uri": "https://localhost:8080/"
        },
        "id": "Qpyr4NYczgZ7",
        "outputId": "ae4bd0aa-8c89-4c56-f918-487ce3d980fd"
      },
      "execution_count": 111,
      "outputs": [
        {
          "output_type": "execute_result",
          "data": {
            "text/plain": [
              "count    1.591932e+06\n",
              "mean     2.877813e+05\n",
              "std      3.487679e+05\n",
              "min      0.000000e+00\n",
              "25%      6.363000e+04\n",
              "50%      1.398301e+05\n",
              "75%      4.003787e+05\n",
              "max      6.905160e+06\n",
              "Name: AMT_GOODS_PRICE, dtype: float64"
            ]
          },
          "metadata": {},
          "execution_count": 111
        }
      ]
    },
    {
      "cell_type": "code",
      "source": [
        "plt.figure(figsize=(20,5))\n",
        "sns.boxplot(data_merged['AMT_GOODS_PRICE'])\n",
        "plt.show()"
      ],
      "metadata": {
        "colab": {
          "base_uri": "https://localhost:8080/",
          "height": 337
        },
        "id": "XLoAmk9Pzr5x",
        "outputId": "f44c6d56-c611-42bb-f5eb-ac7587b98f64"
      },
      "execution_count": 112,
      "outputs": [
        {
          "output_type": "display_data",
          "data": {
            "text/plain": [
              "<Figure size 1440x360 with 1 Axes>"
            ],
            "image/png": "[encoded data removed]"
          },
          "metadata": {}
        }
      ]
    },
    {
      "cell_type": "code",
      "source": [
        "# NAME_CONTRACT_TYPE\n",
        "\n",
        "data_merged['NAME_CONTRACT_TYPE'].describe()"
      ],
      "metadata": {
        "colab": {
          "base_uri": "https://localhost:8080/"
        },
        "id": "iskhjXWtzyR7",
        "outputId": "cfeb549c-559c-4cb0-dd13-784b5799f2c4"
      },
      "execution_count": 113,
      "outputs": [
        {
          "output_type": "execute_result",
          "data": {
            "text/plain": [
              "count        1977725\n",
              "unique             4\n",
              "top       Cash loans\n",
              "freq         1025785\n",
              "Name: NAME_CONTRACT_TYPE, dtype: object"
            ]
          },
          "metadata": {},
          "execution_count": 113
        }
      ]
    },
    {
      "cell_type": "code",
      "source": [
        "plt.style.use('ggplot')\n",
        "plt.title('NAME_CONTRACT_TYPE')\n",
        "pt=sns.countplot(data_merged['NAME_CONTRACT_TYPE'])\n",
        "pt.set_xticklabels(pt.get_xticklabels(),rotation=90)\n",
        "plt.show()"
      ],
      "metadata": {
        "colab": {
          "base_uri": "https://localhost:8080/",
          "height": 370
        },
        "id": "N0Yts8lm0leY",
        "outputId": "26429af5-e896-44f6-d664-c0a457fe8b10"
      },
      "execution_count": 116,
      "outputs": [
        {
          "output_type": "display_data",
          "data": {
            "text/plain": [
              "<Figure size 432x288 with 1 Axes>"
            ],
            "image/png": "[encoded data removed]"
          },
          "metadata": {}
        }
      ]
    },
    {
      "cell_type": "code",
      "source": [
        "# WEEKDAY_APPR_PROCESS_START\n",
        "\n",
        "data_merged['WEEKDAY_APPR_PROCESS_START'].describe()"
      ],
      "metadata": {
        "colab": {
          "base_uri": "https://localhost:8080/"
        },
        "id": "mwdALE9Mz9T4",
        "outputId": "16240166-a7f2-407e-8c92-84da2f50ec2b"
      },
      "execution_count": 114,
      "outputs": [
        {
          "output_type": "execute_result",
          "data": {
            "text/plain": [
              "count     1977725\n",
              "unique          7\n",
              "top       TUESDAY\n",
              "freq       309019\n",
              "Name: WEEKDAY_APPR_PROCESS_START, dtype: object"
            ]
          },
          "metadata": {},
          "execution_count": 114
        }
      ]
    },
    {
      "cell_type": "code",
      "source": [
        "plt.style.use('ggplot')\n",
        "plt.title('WEEKDAY_APPR_PROCESS_START')\n",
        "pt=sns.countplot(data_merged['WEEKDAY_APPR_PROCESS_START'])\n",
        "pt.set_xticklabels(pt.get_xticklabels(),rotation=90)\n",
        "plt.show()"
      ],
      "metadata": {
        "colab": {
          "base_uri": "https://localhost:8080/",
          "height": 353
        },
        "id": "AjWs3IbX05c4",
        "outputId": "9183ccee-507f-4698-bf58-1b3da42867cb"
      },
      "execution_count": 120,
      "outputs": [
        {
          "output_type": "display_data",
          "data": {
            "text/plain": [
              "<Figure size 432x288 with 1 Axes>"
            ],
            "image/png": "[encoded data removed]"
          },
          "metadata": {}
        }
      ]
    },
    {
      "cell_type": "code",
      "source": [
        "# HOUR_APPR_PROCESS_START\n",
        "\n",
        "data_merged['HOUR_APPR_PROCESS_START']"
      ],
      "metadata": {
        "colab": {
          "base_uri": "https://localhost:8080/"
        },
        "id": "iHPTb_9w0Q5U",
        "outputId": "bf424568-eecd-4b46-d367-182a7b2478ea"
      },
      "execution_count": 115,
      "outputs": [
        {
          "output_type": "execute_result",
          "data": {
            "text/plain": [
              "0          10\n",
              "1          11\n",
              "2           9\n",
              "3          17\n",
              "4          11\n",
              "           ..\n",
              "1977720    12\n",
              "1977721    15\n",
              "1977722    12\n",
              "1977723     9\n",
              "1977724    10\n",
              "Name: HOUR_APPR_PROCESS_START, Length: 1977725, dtype: int64"
            ]
          },
          "metadata": {},
          "execution_count": 115
        }
      ]
    },
    {
      "cell_type": "code",
      "source": [
        "plt.style.use('ggplot')\n",
        "plt.title('HOUR_APPR_PROCESS_START')\n",
        "pt=sns.countplot(data_merged['HOUR_APPR_PROCESS_START'])\n",
        "pt.set_xticklabels(pt.get_xticklabels(),rotation=90)\n",
        "plt.show()"
      ],
      "metadata": {
        "colab": {
          "base_uri": "https://localhost:8080/",
          "height": 302
        },
        "id": "iRtq_sYs1B5W",
        "outputId": "92560327-4659-42d6-abdf-c449f3fc0859"
      },
      "execution_count": 121,
      "outputs": [
        {
          "output_type": "display_data",
          "data": {
            "text/plain": [
              "<Figure size 432x288 with 1 Axes>"
            ],
            "image/png": "[encoded data removed]"
          },
          "metadata": {}
        }
      ]
    },
    {
      "cell_type": "markdown",
      "source": [
        "# **DATA INBALANCE**"
      ],
      "metadata": {
        "id": "UvC4El1_Uhns"
      }
    },
    {
      "cell_type": "code",
      "source": [
        "from locale import normalize\n",
        "final_app_data['TARGET'].value_counts(normalize=True)"
      ],
      "metadata": {
        "colab": {
          "base_uri": "https://localhost:8080/"
        },
        "id": "pLdoSa4aUlH1",
        "outputId": "61180a01-2fd8-4b61-a0fc-1055038a19a5"
      },
      "execution_count": 156,
      "outputs": [
        {
          "output_type": "execute_result",
          "data": {
            "text/plain": [
              "0    0.919271\n",
              "1    0.080729\n",
              "Name: TARGET, dtype: float64"
            ]
          },
          "metadata": {},
          "execution_count": 156
        }
      ]
    },
    {
      "cell_type": "markdown",
      "source": [
        "**key points**\n",
        "\n",
        "* non-defulter are 91.9%\n",
        "*defulter are 8.1%\n"
      ],
      "metadata": {
        "id": "T__VLJsnVcr9"
      }
    },
    {
      "cell_type": "markdown",
      "source": [
        "# **UNIVARIATE ANALYSIS**"
      ],
      "metadata": {
        "id": "Xo3Ynfqg7tFx"
      }
    },
    {
      "cell_type": "code",
      "source": [
        "# SK_ID_CURR\n",
        "\n",
        "sns.set(rc={'figure.figsize':(12,8)})\n",
        "sns.displot(data_merged['SK_ID_CURR'],kde=True,bins=10000)\n",
        "\n",
        "plt.show()"
      ],
      "metadata": {
        "colab": {
          "base_uri": "https://localhost:8080/",
          "height": 365
        },
        "id": "5JsLyfmEEMea",
        "outputId": "4a9856ef-56fa-426c-b8dd-17fa13b59f8a"
      },
      "execution_count": 143,
      "outputs": [
        {
          "output_type": "display_data",
          "data": {
            "text/plain": [
              "<Figure size 360x360 with 1 Axes>"
            ],
            "image/png": "[encoded data removed]"
          },
          "metadata": {}
        }
      ]
    },
    {
      "cell_type": "code",
      "source": [
        "# AMT_CREDIT\n",
        "\n",
        "sns.set(rc={'figure.figsize':(12,8)})\n",
        "sns.displot(data_merged['AMT_CREDIT'],kde=True,bins=5)\n",
        "\n",
        "plt.show()"
      ],
      "metadata": {
        "colab": {
          "base_uri": "https://localhost:8080/",
          "height": 365
        },
        "id": "lyO-TeMwMVko",
        "outputId": "3255f937-689e-4417-bf9e-bb05fe1a51ec"
      },
      "execution_count": 147,
      "outputs": [
        {
          "output_type": "display_data",
          "data": {
            "text/plain": [
              "<Figure size 360x360 with 1 Axes>"
            ],
            "image/png": "[encoded data removed]"
          },
          "metadata": {}
        }
      ]
    },
    {
      "cell_type": "code",
      "source": [
        "# AMT_ANNUITY\n",
        "\n",
        "sns.set(rc={'figure.figsize':(12,8)})\n",
        "sns.displot(data_merged['AMT_ANNUITY'],kde=True,bins=5)\n",
        "\n",
        "plt.show()"
      ],
      "metadata": {
        "colab": {
          "base_uri": "https://localhost:8080/",
          "height": 365
        },
        "id": "ulqwSZGzNVIA",
        "outputId": "69edb4b8-48dc-455d-c0dc-9b6ffa89bcf3"
      },
      "execution_count": 152,
      "outputs": [
        {
          "output_type": "display_data",
          "data": {
            "text/plain": [
              "<Figure size 360x360 with 1 Axes>"
            ],
            "image/png": "[encoded data removed]"
          },
          "metadata": {}
        }
      ]
    },
    {
      "cell_type": "code",
      "source": [
        "# AMT_GOODS_PRICE\n",
        "\n",
        "sns.set(rc={'figure.figsize':(12,8)})\n",
        "sns.displot(data_merged['AMT_GOODS_PRICE'],kde=True,bins=5)\n",
        "\n",
        "plt.show()"
      ],
      "metadata": {
        "colab": {
          "base_uri": "https://localhost:8080/",
          "height": 365
        },
        "id": "y5YtL3pGNu_q",
        "outputId": "eca529b2-913a-47f8-8609-efebdb8352ca"
      },
      "execution_count": 151,
      "outputs": [
        {
          "output_type": "display_data",
          "data": {
            "text/plain": [
              "<Figure size 360x360 with 1 Axes>"
            ],
            "image/png": "[encoded data removed]"
          },
          "metadata": {}
        }
      ]
    },
    {
      "cell_type": "code",
      "source": [
        "AMT=['AMT_CREDIT','AMT_ANNUITY','AMT_GOODS_PRICE']\n",
        "sns.pairplot(data_merged[AMT])\n",
        "plt.show()"
      ],
      "metadata": {
        "colab": {
          "base_uri": "https://localhost:8080/",
          "height": 548
        },
        "id": "677GVORDQeS_",
        "outputId": "3e9b79b8-1c30-4ba7-95c5-52a2f36bdd3a"
      },
      "execution_count": 154,
      "outputs": [
        {
          "output_type": "display_data",
          "data": {
            "text/plain": [
              "<Figure size 540x540 with 12 Axes>"
            ],
            "image/png": "[encoded data removed]"
          },
          "metadata": {}
        }
      ]
    },
    {
      "cell_type": "markdown",
      "source": [
        "**Recommendation**\n",
        "\n",
        "\n",
        "*\tFrom the data imbalance we get that only 8.1% on the previous data have defaulted and rest 91.9% have not defaulted.\n",
        "\n",
        "* The data was imbalance on higher level.\n",
        "* With the help of univariate and bivariate analysis we see that there are few important columns which give us clear idea about the data such as NAME_INCOME_TYPE,AMT_ANNUITY,TARGET,SK_ID_CURR etc.\n",
        "\n",
        "* As there was 121,73 columns (~40%) of the columns have missing values.\n",
        "*\tWe have analysed the outliers and handled it to get out relative required information.\n",
        "* The data consists of numeric and categorical columns through which we get information.\n"
      ],
      "metadata": {
        "id": "7A7mb3NM-8Xo"
      }
    }
  ],
  "metadata": {
    "colab": {
      "provenance": []
    },
    "kernelspec": {
      "display_name": "Python 3",
      "name": "python3"
    },
    "language_info": {
      "name": "python"
    }
  },
  "nbformat": 4,
  "nbformat_minor": 0
}